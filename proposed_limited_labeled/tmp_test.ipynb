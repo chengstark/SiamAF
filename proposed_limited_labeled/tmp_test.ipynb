{
 "cells": [
  {
   "cell_type": "code",
   "execution_count": 1,
   "id": "9841e2fd",
   "metadata": {},
   "outputs": [
    {
     "data": {
      "text/plain": [
       "'PREFLIGHT SETUP'"
      ]
     },
     "execution_count": 1,
     "metadata": {},
     "output_type": "execute_result"
    }
   ],
   "source": [
    "import torch\n",
    "import numpy as np\n",
    "from torch.utils.data import Dataset, DataLoader\n",
    "import pickle as pkl\n",
    "import torch\n",
    "import random\n",
    "import gc\n",
    "from datetime import datetime\n",
    "import psutil\n",
    "\n",
    "\n",
    "'''PREFLIGHT SETUP'''\n",
    "from functools import partial\n",
    "print_flush = partial(print, flush=True)\n",
    "torch.manual_seed(1)\n",
    "random.seed(1)\n",
    "np.random.seed(1)\n",
    "'''PREFLIGHT SETUP'''"
   ]
  },
  {
   "cell_type": "code",
   "execution_count": 2,
   "id": "bd6ec92c",
   "metadata": {},
   "outputs": [],
   "source": [
    "AF_ECG = np.zeros((6230, 2400))\n",
    "labeled_perc=0.1\n",
    "AF_subsample_idx = np.random.choice(range(AF_ECG.shape[0]), int(labeled_perc * AF_ECG.shape[0]), replace=False)\n"
   ]
  },
  {
   "cell_type": "code",
   "execution_count": 7,
   "id": "87cdaffe",
   "metadata": {
    "scrolled": true
   },
   "outputs": [],
   "source": [
    "class Dataset_whole_limited_labeled(Dataset):\n",
    "    def __init__(self, data_path, split, labeled_perc=0.1):\n",
    "        super().__init__()\n",
    "        self.data_path = data_path\n",
    "        self.split = split\n",
    "        self.labeled_perc = labeled_perc\n",
    "        self.build_dataset()\n",
    "        self.length = len(self.all_labels)\n",
    "#         self.AF_subsample_idx = None\n",
    "#         self.PVC_subsample_idx = None\n",
    "#         self.NSR_subsample_idx = None\n",
    "#         self.AF_idxs = None\n",
    "#         self.PVC_idxs = None\n",
    "#         self.NSR_idxs = None\n",
    "        \n",
    "\n",
    "    def __len__(self):\n",
    "        return self.length\n",
    "\n",
    "    def __getitem__(self, idx):\n",
    "        \n",
    "        if idx < self.AF_ECG.shape[0]:\n",
    "            return self.AF_ECG[idx][None, :], self.AF_PPG[idx][None, :], self.AF_ECG[self.AF_idxs[idx]][None, :], self.AF_PPG[self.AF_idxs[idx]][None, :], self.all_labels[idx]\n",
    "        elif idx >= self.AF_ECG.shape[0] and idx < (self.AF_ECG.shape[0] + self.PVC_ECG.shape[0]):\n",
    "            offset = self.AF_ECG.shape[0]\n",
    "            return self.PVC_ECG[idx-offset][None, :], self.PVC_PPG[idx-offset][None, :], self.PVC_ECG[self.PVC_idxs[idx-offset]][None, :], self.PVC_PPG[self.PVC_idxs[idx-offset]][None, :], self.all_labels[idx]\n",
    "        else:\n",
    "            offset = self.AF_ECG.shape[0] + self.PVC_ECG.shape[0]\n",
    "            return self.NSR_ECG[idx-offset][None, :], self.NSR_PPG[idx-offset][None, :], self.NSR_ECG[self.NSR_idxs[idx-offset]][None, :], self.NSR_PPG[self.NSR_idxs[idx-offset]][None, :], self.all_labels[idx]\n",
    "\n",
    "    def build_dataset(self):\n",
    "        tstart = datetime.now()\n",
    "        print_flush(f'\\tloading... {self.split}')\n",
    "        \n",
    "        self.AF_ECG = torch.from_numpy(np.load(f'{self.data_path}/AF_v5/{self.split}_ECG_resampled2400.npy')).float()\n",
    "        self.AF_PPG = torch.from_numpy(np.load(f'{self.data_path}/AF_v5/{self.split}_PPG_resampled2400.npy')).float()\n",
    "        print_flush(f'\\tAF loaded {self.split}')\n",
    "        self.PVC_ECG = torch.from_numpy(np.load(f'{self.data_path}/PVC_v5/{self.split}_ECG_resampled2400.npy')).float()\n",
    "        self.PVC_PPG = torch.from_numpy(np.load(f'{self.data_path}/PVC_v5/{self.split}_PPG_resampled2400.npy')).float()\n",
    "        print_flush(f'\\tPVC loaded {self.split}')\n",
    "        self.NSR_ECG = torch.from_numpy(np.load(f'{self.data_path}/NSR_v5/{self.split}_ECG_resampled2400.npy')).float()\n",
    "        self.NSR_PPG = torch.from_numpy(np.load(f'{self.data_path}/NSR_v5/{self.split}_PPG_resampled2400.npy')).float()\n",
    "        print_flush(f'\\tNSR loaded {self.split}')\n",
    "\n",
    "        assert self.AF_ECG.shape == self.AF_PPG.shape\n",
    "        assert self.NSR_ECG.shape == self.NSR_PPG.shape\n",
    "        assert self.PVC_ECG.shape == self.PVC_PPG.shape\n",
    "\n",
    "        print_flush(f'\\tloading {self.split} finished t={datetime.now() - tstart}, mem used={psutil.virtual_memory()[3]/1000000000}')\n",
    "\n",
    "        self.AF_subsample_idx = np.random.choice(range(self.AF_ECG.shape[0]), int(self.labeled_perc * self.AF_ECG.shape[0]), replace=False)\n",
    "        self.PVC_subsample_idx = np.random.choice(range(self.PVC_ECG.shape[0]), int(self.labeled_perc * self.PVC_ECG.shape[0]), replace=False)\n",
    "        self.NSR_subsample_idx = np.random.choice(range(self.NSR_ECG.shape[0]), int(self.labeled_perc * self.NSR_ECG.shape[0]), replace=False)\n",
    "\n",
    "        if self.labeled_perc != 1:\n",
    "\n",
    "            self.AF_idxs = np.repeat(self.AF_subsample_idx, int(1/self.labeled_perc)+1, axis=0)[:self.AF_ECG.shape[0]]\n",
    "            self.PVC_idxs = np.repeat(self.PVC_subsample_idx, int(1/self.labeled_perc)+1, axis=0)[:self.PVC_ECG.shape[0]]\n",
    "            self.NSR_idxs = np.repeat(self.NSR_subsample_idx, int(1/self.labeled_perc)+1, axis=0)[:self.NSR_ECG.shape[0]]\n",
    "\n",
    "        else:\n",
    "            self.AF_idxs = np.arange(self.AF_ECG.shape[0])\n",
    "            self.PVC_idxs = np.arange(self.PVC_ECG.shape[0])\n",
    "            self.NSR_idxs = np.arange(self.NSR_ECG.shape[0])\n",
    "\n",
    "        AF_labels = np.ones((self.AF_ECG.shape[0]))\n",
    "        NSR_labels = np.zeros((self.PVC_ECG.shape[0] + self.NSR_ECG.shape[0]))\n",
    "        self.all_labels = torch.from_numpy(np.concatenate((AF_labels, NSR_labels), axis=0)).long()\n",
    "\n",
    "        print(f'dataset built AF counts {len(AF_labels)}, NSR counts {len(NSR_labels)}, total counts {len(self.all_labels)}', flush=True)\n",
    "        print(self.AF_idxs.shape, self.PVC_idxs.shape, self.NSR_idxs.shape, flush=True)\n",
    "        print('Labeled perc check:', flush=True)\n",
    "        print(len(np.unique(self.AF_idxs)) / self.AF_ECG.shape[0], flush=True)\n",
    "        print(len(np.unique(self.PVC_idxs)) / self.PVC_ECG.shape[0], flush=True)\n",
    "        print(len(np.unique(self.NSR_idxs)) / self.NSR_ECG.shape[0], flush=True)"
   ]
  },
  {
   "cell_type": "code",
   "execution_count": 8,
   "id": "80095964",
   "metadata": {},
   "outputs": [
    {
     "name": "stdout",
     "output_type": "stream",
     "text": [
      "\tloading... train\n",
      "\tAF loaded train\n",
      "\tPVC loaded train\n",
      "\tNSR loaded train\n",
      "\tloading train finished t=0:02:53.560513, mem used=230.94325248\n",
      "dataset built AF counts 2757888, NSR counts 3014334, total counts 5772222\n",
      "(2757888,) (1411158,) (1603176,)\n",
      "Labeled perc check:\n",
      "0.09090942054209598\n",
      "0.09090973512533677\n",
      "0.0909095445540602\n"
     ]
    }
   ],
   "source": [
    "train_dataset = Dataset_whole_limited_labeled('/labs/hulab/stark_stuff/ppg_ecg_project/data/', split='train', labeled_perc=0.1)\n"
   ]
  },
  {
   "cell_type": "code",
   "execution_count": 9,
   "id": "8eb092ee",
   "metadata": {},
   "outputs": [
    {
     "data": {
      "text/plain": [
       "3014334"
      ]
     },
     "execution_count": 9,
     "metadata": {},
     "output_type": "execute_result"
    }
   ],
   "source": [
    "1411158 + 1603176"
   ]
  },
  {
   "cell_type": "code",
   "execution_count": null,
   "id": "082787e5",
   "metadata": {},
   "outputs": [],
   "source": []
  }
 ],
 "metadata": {
  "kernelspec": {
   "display_name": "base_pytorch",
   "language": "python",
   "name": "base_pytorch"
  },
  "language_info": {
   "codemirror_mode": {
    "name": "ipython",
    "version": 3
   },
   "file_extension": ".py",
   "mimetype": "text/x-python",
   "name": "python",
   "nbconvert_exporter": "python",
   "pygments_lexer": "ipython3",
   "version": "3.7.13"
  }
 },
 "nbformat": 4,
 "nbformat_minor": 5
}
