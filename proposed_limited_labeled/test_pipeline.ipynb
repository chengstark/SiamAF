{
 "cells": [
  {
   "cell_type": "code",
   "execution_count": 1,
   "id": "6947f463",
   "metadata": {},
   "outputs": [],
   "source": [
    "import torch\n",
    "import torch.nn as nn\n",
    "import torch.nn.functional as F \n",
    "from resnet1d import Res34SimSiam, Res34SimSiamSplitHeads, Resnet34Baseline\n",
    "from dataset import Dataset_per_file, Dataset_whole_limited_labeled, Dataset_ori\n",
    "from torch.utils.data import DataLoader\n",
    "import torch\n",
    "import torch.optim as optim\n",
    "import torch.nn as nn\n",
    "import torch.nn.functional as F\n",
    "from datetime import datetime\n",
    "from torch.autograd import Variable\n",
    "import os\n",
    "import numpy as np\n",
    "from tqdm import tqdm\n",
    "import argparse\n",
    "import random\n",
    "from sklearn.metrics import f1_score, accuracy_score, roc_auc_score, precision_recall_curve, auc\n",
    "import sys\n",
    "import os\n",
    "\n",
    "from collections import OrderedDict\n",
    "import pickle as pkl"
   ]
  },
  {
   "cell_type": "code",
   "execution_count": 2,
   "id": "90142996",
   "metadata": {},
   "outputs": [],
   "source": [
    "def test_epoch(PPG_model, test_loader, test_ds_name, baseline=False, patient_info_path=None):\n",
    "    with torch.no_grad():\n",
    "       \n",
    "\n",
    "        PPG_preds = None\n",
    "        PPG_pred_probs = None\n",
    "        all_targets = None\n",
    "        \n",
    "        PPG_model.eval()\n",
    "        tstart = datetime.now()\n",
    "\n",
    "        for batch_idx, (PPG, target) in enumerate(test_loader):\n",
    "\n",
    "            PPG = PPG.cuda().float()\n",
    "            target = target.cuda().long()\n",
    "            \n",
    "            if baseline:\n",
    "                _, PPG_out = PPG_model(PPG, PPG)\n",
    "            else:\n",
    "                _, _, PPG_out = PPG_model(PPG, PPG, PPG, PPG)\n",
    "            \n",
    "            PPG_predicted = PPG_out.argmax(1)\n",
    "            PPG_predicted_prob = F.softmax(PPG_out, dim=1)[:, 1]\n",
    "\n",
    "            if PPG_preds == None:\n",
    "                PPG_pred_probs = PPG_predicted_prob\n",
    "                PPG_preds = PPG_predicted\n",
    "                all_targets = target\n",
    "            else:\n",
    "                PPG_preds = torch.cat((PPG_preds, PPG_predicted))\n",
    "                PPG_pred_probs = torch.cat((PPG_pred_probs, PPG_predicted_prob))\n",
    "                all_targets = torch.cat((all_targets, target))\n",
    "        tend = datetime.now()\n",
    "\n",
    "\n",
    "        precision, recall, thresholds = precision_recall_curve(all_targets.detach().cpu().numpy(), PPG_pred_probs.detach().cpu().numpy())\n",
    "        pr_auc = auc(recall, precision)\n",
    "\n",
    "        print(f'[TEST] \\tPPG      F1: {round(f1_score(all_targets.detach().cpu().numpy(), PPG_preds.detach().cpu().numpy()), 4)}')\n",
    "        print(f'[TEST] \\tPPG ROC AUC: {round(roc_auc_score(all_targets.detach().cpu().numpy(), PPG_pred_probs.detach().cpu().numpy()), 4)}')\n",
    "        print(f'[TEST] \\tPPG PR  AUC: {round(pr_auc, 4)}')\n",
    "        rounding = 3\n",
    "        if patient_info_path is not None:\n",
    "            print(patient_info_path)\n",
    "            patient_idx_dict = pkl.load(open(patient_info_path, 'rb'))\n",
    "            unique_patients = list(patient_idx_dict.keys())\n",
    "            all_bt_aurocs = []\n",
    "            all_bt_auprcs = []\n",
    "            all_bt_pred_probs = np.asarray([])\n",
    "            all_bt_targets = np.asarray([])\n",
    "            for i in tqdm(range(1000)):\n",
    "                np.random.seed(i)\n",
    "                random_sample_patients = np.random.choice(unique_patients, len(unique_patients), replace=True)\n",
    "                sample_idx = []\n",
    "                random_subsample_idx = []\n",
    "                for patient in random_sample_patients:\n",
    "                    random_subsample_idx += patient_idx_dict[patient]\n",
    "                random_subsample_idx = np.asarray(random_subsample_idx)\n",
    "                auroc = roc_auc_score(all_targets[random_subsample_idx].detach().cpu().numpy(), PPG_pred_probs[random_subsample_idx].detach().cpu().numpy())\n",
    "                precision, recall, thresholds = precision_recall_curve(all_targets[random_subsample_idx].detach().cpu().numpy(), PPG_pred_probs[random_subsample_idx].detach().cpu().numpy())\n",
    "                auprc = auc(recall, precision)\n",
    "\n",
    "                all_bt_pred_probs = np.concatenate((PPG_pred_probs[random_subsample_idx].detach().cpu().numpy().flatten(), all_bt_pred_probs))\n",
    "                all_bt_targets = np.concatenate((all_targets[random_subsample_idx].detach().cpu().numpy().flatten(), all_bt_targets))\n",
    "                all_bt_aurocs.append(auroc)\n",
    "                all_bt_auprcs.append(auprc)\n",
    "            all_bt_aurocs = np.asarray(all_bt_aurocs)\n",
    "            all_bt_auprcs = np.asarray(all_bt_auprcs)\n",
    "                        \n",
    "            np.save(f'/labs/hulab/stark_stuff/ppg_ecg_project/data/{test_ds_name}_simsiamlimitedlabels_aurocs.npy', all_bt_aurocs)\n",
    "            np.save(f'/labs/hulab/stark_stuff/ppg_ecg_project/data/{test_ds_name}_simsiamlimitedlabels_auprcs.npy', all_bt_auprcs)\n",
    "            np.save(f'/labs/hulab/stark_stuff/ppg_ecg_project/data/{test_ds_name}_simsiamlimitedlabels_targets.npy', all_bt_targets)\n",
    "            np.save(f'/labs/hulab/stark_stuff/ppg_ecg_project/data/{test_ds_name}_simsiamlimitedlabels_pred_probs.npy', all_bt_pred_probs)\n",
    "\n",
    "            print(f'\\t AUROC {round(np.mean(all_bt_aurocs), rounding)} [{round(np.mean(all_bt_aurocs) - 1.96 *  (np.std(all_bt_aurocs) / np.sqrt(len(all_bt_aurocs))) , rounding)} {round(np.mean(all_bt_aurocs) + 1.96 *  (np.std(all_bt_aurocs) / np.sqrt(len(all_bt_aurocs))) , rounding)}]')\n",
    "            print(f'\\t AUPRC {round(np.mean(all_bt_auprcs), rounding)} [{round(np.mean(all_bt_auprcs) - 1.96 *  (np.std(all_bt_auprcs) / np.sqrt(len(all_bt_auprcs))) , rounding)} {round(np.mean(all_bt_auprcs) + 1.96 *  (np.std(all_bt_auprcs) / np.sqrt(len(all_bt_auprcs))) , rounding)}]')\n"
   ]
  },
  {
   "cell_type": "markdown",
   "id": "6f3c2aa0",
   "metadata": {},
   "source": [
    "# SimSiam 0.1"
   ]
  },
  {
   "cell_type": "code",
   "execution_count": 3,
   "id": "7e4bfa31",
   "metadata": {},
   "outputs": [],
   "source": [
    "MODEL_PATH = '/home/zguo30/ppg_ecg_proj/simsiam_limited_labeled/saved_models/corrected_resnet_34_epoch_30_ecglr_0.0001_ppglr_0.0001_lambda_1.0_dim1_512_dim2_128_pred_True_labelperc_0.1_/model_1.pt'"
   ]
  },
  {
   "cell_type": "markdown",
   "id": "d025aca0",
   "metadata": {},
   "source": [
    "# SimSiam 0.3"
   ]
  },
  {
   "cell_type": "code",
   "execution_count": 4,
   "id": "c74576d0",
   "metadata": {},
   "outputs": [],
   "source": [
    "MODEL_PATH = '/home/zguo30/ppg_ecg_proj/simsiam_limited_labeled/saved_models/corrected_resnet_34_epoch_30_ecglr_0.0001_ppglr_0.0001_lambda_1.0_dim1_512_dim2_128_pred_True_labelperc_0.3_/model_2.pt'"
   ]
  },
  {
   "cell_type": "markdown",
   "id": "ceaa4838",
   "metadata": {},
   "source": [
    "# SimSiam 0.5"
   ]
  },
  {
   "cell_type": "code",
   "execution_count": 5,
   "id": "127fb6be",
   "metadata": {},
   "outputs": [],
   "source": [
    "MODEL_PATH = '/home/zguo30/ppg_ecg_proj/simsiam_limited_labeled/saved_models/corrected_resnet_34_epoch_30_ecglr_0.0001_ppglr_0.0001_lambda_1.0_dim1_512_dim2_128_pred_True_labelperc_0.5_/model_1.pt'"
   ]
  },
  {
   "cell_type": "markdown",
   "id": "03e1483e",
   "metadata": {},
   "source": [
    "# SimSiam 0.01"
   ]
  },
  {
   "cell_type": "code",
   "execution_count": 3,
   "id": "c53e1455",
   "metadata": {},
   "outputs": [
    {
     "name": "stdout",
     "output_type": "stream",
     "text": [
      "data_simband_ecg_2400\n",
      "/labs/hulab/Robust_learning_TESTDATA/data_simband_ecg_2400.npy\n",
      "/labs/hulab/Robust_learning_TESTDATA/label_simband.npy\n",
      "[TEST] \tPPG      F1: 0.6292\n",
      "[TEST] \tPPG ROC AUC: 0.7308\n",
      "[TEST] \tPPG PR  AUC: 0.6631\n",
      "/labs/hulab/Robust_learning_TESTDATA/simband_patient_idx_dict.pkl\n"
     ]
    },
    {
     "name": "stderr",
     "output_type": "stream",
     "text": [
      "100%|██████████| 1000/1000 [00:11<00:00, 87.91it/s]\n"
     ]
    },
    {
     "name": "stdout",
     "output_type": "stream",
     "text": [
      "\t AUROC 0.729 [0.726 0.732]\n",
      "\t AUPRC 0.661 [0.658 0.665]\n",
      "\n",
      "data_simband_ppg_2400\n",
      "/labs/hulab/Robust_learning_TESTDATA/data_simband_ppg_2400.npy\n",
      "/labs/hulab/Robust_learning_TESTDATA/label_simband.npy\n",
      "[TEST] \tPPG      F1: 0.7694\n",
      "[TEST] \tPPG ROC AUC: 0.9002\n",
      "[TEST] \tPPG PR  AUC: 0.8423\n",
      "/labs/hulab/Robust_learning_TESTDATA/simband_patient_idx_dict.pkl\n"
     ]
    },
    {
     "name": "stderr",
     "output_type": "stream",
     "text": [
      "100%|██████████| 1000/1000 [00:03<00:00, 260.94it/s]\n"
     ]
    },
    {
     "name": "stdout",
     "output_type": "stream",
     "text": [
      "\t AUROC 0.9 [0.898 0.901]\n",
      "\t AUPRC 0.841 [0.838 0.844]\n",
      "\n",
      "data_ucla_ecg_2400\n",
      "/labs/hulab/Robust_learning_TESTDATA/data_ucla_ecg_2400.npy\n",
      "/labs/hulab/Robust_learning_TESTDATA/label_ucla_ecg.npy\n",
      "[TEST] \tPPG      F1: 0.7194\n",
      "[TEST] \tPPG ROC AUC: 0.8992\n",
      "[TEST] \tPPG PR  AUC: 0.7385\n",
      "/labs/hulab/Robust_learning_TESTDATA/UCLA_patient_idx_dict.pkl\n"
     ]
    },
    {
     "name": "stderr",
     "output_type": "stream",
     "text": [
      "100%|██████████| 1000/1000 [14:46<00:00,  1.13it/s]\n"
     ]
    },
    {
     "name": "stdout",
     "output_type": "stream",
     "text": [
      "\t AUROC 0.899 [0.897 0.902]\n",
      "\t AUPRC 0.736 [0.731 0.742]\n",
      "\n",
      "data_ucla_ppg_2400\n",
      "/labs/hulab/Robust_learning_TESTDATA/data_ucla_ppg_2400.npy\n",
      "/labs/hulab/Robust_learning_TESTDATA/label_ucla_ppg.npy\n",
      "[TEST] \tPPG      F1: 0.6594\n",
      "[TEST] \tPPG ROC AUC: 0.9071\n",
      "[TEST] \tPPG PR  AUC: 0.7475\n",
      "/labs/hulab/Robust_learning_TESTDATA/UCLA_patient_idx_dict.pkl\n"
     ]
    },
    {
     "name": "stderr",
     "output_type": "stream",
     "text": [
      "100%|██████████| 1000/1000 [14:46<00:00,  1.13it/s]\n"
     ]
    },
    {
     "name": "stdout",
     "output_type": "stream",
     "text": [
      "\t AUROC 0.907 [0.905 0.909]\n",
      "\t AUPRC 0.744 [0.739 0.749]\n",
      "\n",
      "data_staford_2400\n",
      "/labs/hulab/Robust_learning_TESTDATA/data_staford_2400.npy\n",
      "/labs/hulab/Robust_learning_TESTDATA/label_staford.npy\n",
      "[TEST] \tPPG      F1: 0.5306\n",
      "[TEST] \tPPG ROC AUC: 0.8009\n",
      "[TEST] \tPPG PR  AUC: 0.5711\n",
      "/labs/hulab/Robust_learning_TESTDATA/stanford_patient_idx_dict.pkl\n"
     ]
    },
    {
     "name": "stderr",
     "output_type": "stream",
     "text": [
      "100%|██████████| 1000/1000 [01:03<00:00, 15.74it/s]\n"
     ]
    },
    {
     "name": "stdout",
     "output_type": "stream",
     "text": [
      "\t AUROC 0.8 [0.799 0.801]\n",
      "\t AUPRC 0.565 [0.56 0.569]\n",
      "\n"
     ]
    }
   ],
   "source": [
    "MODEL_PATH = '/home/zguo30/ppg_ecg_proj/simsiam_limited_labeled/saved_models/corrected_resnet_34_epoch_30_ecglr_0.0001_ppglr_0.0001_lambda_1.0_dim1_512_dim2_128_pred_True_labelperc_0.01_/model_4.pt'\n",
    "model = Res34SimSiam(512, 128, predictor=True, single_source_mode=True).cuda()\n",
    "state_dict = torch.load(MODEL_PATH) \n",
    "new_state_dict = OrderedDict()\n",
    "for k, v in state_dict.items():\n",
    "    name = k[7:] #remove 'module'\n",
    "    new_state_dict[name] = v\n",
    "    \n",
    "state_dict = new_state_dict\n",
    "model.load_state_dict(state_dict)\n",
    "testing_data_label_pairs = [\n",
    "    ['data_simband_ecg_2400.npy', 'label_simband.npy', '/labs/hulab/Robust_learning_TESTDATA/simband_patient_idx_dict.pkl'],\n",
    "    ['data_simband_ppg_2400.npy', 'label_simband.npy', '/labs/hulab/Robust_learning_TESTDATA/simband_patient_idx_dict.pkl'],\n",
    "    ['data_ucla_ecg_2400.npy', 'label_ucla_ecg.npy', '/labs/hulab/Robust_learning_TESTDATA/UCLA_patient_idx_dict.pkl'],\n",
    "    ['data_ucla_ppg_2400.npy', 'label_ucla_ppg.npy', '/labs/hulab/Robust_learning_TESTDATA/UCLA_patient_idx_dict.pkl'],\n",
    "    ['data_staford_2400.npy', 'label_staford.npy', '/labs/hulab/Robust_learning_TESTDATA/stanford_patient_idx_dict.pkl'],\n",
    "#     ['data_staford_goodquality_2400.npy', 'label_staford_goodquality.npy', '/labs/hulab/Robust_learning_TESTDATA/stanford_patient_idx_dict.pkl'],\n",
    "#     ['data_staford_badquality_2400.npy', 'label_staford_badquality.npy', '/labs/hulab/Robust_learning_TESTDATA/stanford_patient_idx_dict.pkl']\n",
    "]\n",
    "\n",
    "test_data_folder = '/labs/hulab/Robust_learning_TESTDATA/'\n",
    "for pair in testing_data_label_pairs:\n",
    "    \n",
    "    print(pair[0].split('.')[0].split('/')[-1])\n",
    "    \n",
    "    x_path = test_data_folder + pair[0]\n",
    "    y_path = test_data_folder + pair[1]\n",
    "\n",
    "    print(x_path)\n",
    "    print(y_path)\n",
    "    test_dataset = Dataset_ori(x_path, y_path)\n",
    "    testloader = DataLoader(test_dataset, batch_size=2500, shuffle=False, num_workers=0)\n",
    "\n",
    "    test_epoch(model, testloader, pair[0].split('.')[0], patient_info_path=pair[2] if len(pair)==3 else None)\n",
    "\n",
    "    print()"
   ]
  },
  {
   "cell_type": "code",
   "execution_count": null,
   "id": "5664b7a2",
   "metadata": {},
   "outputs": [],
   "source": []
  }
 ],
 "metadata": {
  "kernelspec": {
   "display_name": "base_pytorch",
   "language": "python",
   "name": "base_pytorch"
  },
  "language_info": {
   "codemirror_mode": {
    "name": "ipython",
    "version": 3
   },
   "file_extension": ".py",
   "mimetype": "text/x-python",
   "name": "python",
   "nbconvert_exporter": "python",
   "pygments_lexer": "ipython3",
   "version": "3.7.13"
  }
 },
 "nbformat": 4,
 "nbformat_minor": 5
}
