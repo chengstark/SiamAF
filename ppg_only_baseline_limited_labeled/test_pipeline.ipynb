{
 "cells": [
  {
   "cell_type": "code",
   "execution_count": 1,
   "id": "6947f463",
   "metadata": {},
   "outputs": [
    {
     "name": "stdout",
     "output_type": "stream",
     "text": [
      "torch.Size([3, 384]) torch.Size([3, 2])\n"
     ]
    }
   ],
   "source": [
    "import torch\n",
    "import torch.nn as nn\n",
    "import torch.nn.functional as F \n",
    "from resnet1d import Resnet34\n",
    "# from resnet_zoo import Resnet34\n",
    "from dataset import Dataset_per_file, Dataset_whole, Dataset_ori\n",
    "from torch.utils.data import DataLoader\n",
    "import torch\n",
    "import torch.optim as optim\n",
    "import torch.nn as nn\n",
    "import torch.nn.functional as F\n",
    "from datetime import datetime\n",
    "from torch.autograd import Variable\n",
    "import os\n",
    "import numpy as np\n",
    "from tqdm import tqdm\n",
    "import argparse\n",
    "import random\n",
    "from sklearn.metrics import f1_score, accuracy_score, roc_auc_score, precision_recall_curve, auc\n",
    "import sys\n",
    "import os\n",
    "\n",
    "from collections import OrderedDict\n",
    "import pickle as pkl"
   ]
  },
  {
   "cell_type": "code",
   "execution_count": 2,
   "id": "90142996",
   "metadata": {},
   "outputs": [],
   "source": [
    "def test_epoch(PPG_model, test_loader, test_ds_name, baseline=False, patient_info_path=None):\n",
    "    with torch.no_grad():\n",
    "       \n",
    "\n",
    "        PPG_preds = None\n",
    "        PPG_pred_probs = None\n",
    "        all_targets = None\n",
    "        \n",
    "        PPG_model.eval()\n",
    "        tstart = datetime.now()\n",
    "\n",
    "        for batch_idx, (PPG, target) in enumerate(test_loader):\n",
    "\n",
    "            PPG = PPG.cuda().float()\n",
    "            target = target.cuda().long()\n",
    "            \n",
    "            _, PPG_out = PPG_model(PPG)\n",
    "\n",
    "            PPG_predicted = PPG_out.argmax(1)\n",
    "            PPG_predicted_prob = F.softmax(PPG_out, dim=1)[:, 1]\n",
    "\n",
    "            if PPG_preds == None:\n",
    "                PPG_pred_probs = PPG_predicted_prob\n",
    "                PPG_preds = PPG_predicted\n",
    "                all_targets = target\n",
    "            else:\n",
    "                PPG_preds = torch.cat((PPG_preds, PPG_predicted))\n",
    "                PPG_pred_probs = torch.cat((PPG_pred_probs, PPG_predicted_prob))\n",
    "                all_targets = torch.cat((all_targets, target))\n",
    "        tend = datetime.now()\n",
    "\n",
    "        precision, recall, thresholds = precision_recall_curve(all_targets.detach().cpu().numpy(), PPG_pred_probs.detach().cpu().numpy())\n",
    "        pr_auc = auc(recall, precision)\n",
    "\n",
    "        print(f'[TEST] \\tPPG      F1: {round(f1_score(all_targets.detach().cpu().numpy(), PPG_preds.detach().cpu().numpy()), 4)}')\n",
    "        print(f'[TEST] \\tPPG ROC AUC: {round(roc_auc_score(all_targets.detach().cpu().numpy(), PPG_pred_probs.detach().cpu().numpy()), 4)}')\n",
    "        print(f'[TEST] \\tPPG PR  AUC: {round(pr_auc, 4)}')\n",
    "        rounding = 3\n",
    "        if patient_info_path is not None:\n",
    "            print(patient_info_path)\n",
    "            patient_idx_dict = pkl.load(open(patient_info_path, 'rb'))\n",
    "            unique_patients = list(patient_idx_dict.keys())\n",
    "            all_bt_aurocs = []\n",
    "            all_bt_auprcs = []\n",
    "            all_bt_pred_probs = np.asarray([])\n",
    "            all_bt_targets = np.asarray([])\n",
    "            for i in tqdm(range(1000)):\n",
    "                np.random.seed(i)\n",
    "                random_sample_patients = np.random.choice(unique_patients, len(unique_patients), replace=True)\n",
    "                sample_idx = []\n",
    "                random_subsample_idx = []\n",
    "                for patient in random_sample_patients:\n",
    "                    random_subsample_idx += patient_idx_dict[patient]\n",
    "                random_subsample_idx = np.asarray(random_subsample_idx)\n",
    "                auroc = roc_auc_score(all_targets[random_subsample_idx].detach().cpu().numpy(), PPG_pred_probs[random_subsample_idx].detach().cpu().numpy())\n",
    "                precision, recall, thresholds = precision_recall_curve(all_targets[random_subsample_idx].detach().cpu().numpy(), PPG_pred_probs[random_subsample_idx].detach().cpu().numpy())\n",
    "                auprc = auc(recall, precision)\n",
    "\n",
    "                all_bt_pred_probs = np.concatenate((PPG_pred_probs[random_subsample_idx].detach().cpu().numpy().flatten(), all_bt_pred_probs))\n",
    "                all_bt_targets = np.concatenate((all_targets[random_subsample_idx].detach().cpu().numpy().flatten(), all_bt_targets))\n",
    "                all_bt_aurocs.append(auroc)\n",
    "                all_bt_auprcs.append(auprc)\n",
    "            all_bt_aurocs = np.asarray(all_bt_aurocs)\n",
    "            all_bt_auprcs = np.asarray(all_bt_auprcs)\n",
    "                        \n",
    "            np.save(f'/labs/hulab/stark_stuff/ppg_ecg_project/data/{test_ds_name}_ppgonlylimitedlabel_aurocs.npy', all_bt_aurocs)\n",
    "            np.save(f'/labs/hulab/stark_stuff/ppg_ecg_project/data/{test_ds_name}_ppgonlylimitedlabel_auprcs.npy', all_bt_auprcs)\n",
    "            np.save(f'/labs/hulab/stark_stuff/ppg_ecg_project/data/{test_ds_name}_ppgonlylimitedlabel_targets.npy', all_bt_targets)\n",
    "            np.save(f'/labs/hulab/stark_stuff/ppg_ecg_project/data/{test_ds_name}_ppgonlylimitedlabel_pred_probs.npy', all_bt_pred_probs)\n",
    "\n",
    "            print(f'\\t AUROC {round(np.mean(all_bt_aurocs), rounding)} [{round(np.mean(all_bt_aurocs) - 1.96 *  (np.std(all_bt_aurocs) / np.sqrt(len(all_bt_aurocs))) , rounding)} {round(np.mean(all_bt_aurocs) + 1.96 *  (np.std(all_bt_aurocs) / np.sqrt(len(all_bt_aurocs))) , rounding)}]')\n",
    "            print(f'\\t AUPRC {round(np.mean(all_bt_auprcs), rounding)} [{round(np.mean(all_bt_auprcs) - 1.96 *  (np.std(all_bt_auprcs) / np.sqrt(len(all_bt_auprcs))) , rounding)} {round(np.mean(all_bt_auprcs) + 1.96 *  (np.std(all_bt_auprcs) / np.sqrt(len(all_bt_auprcs))) , rounding)}]')\n"
   ]
  },
  {
   "cell_type": "markdown",
   "id": "ae4e082e",
   "metadata": {},
   "source": [
    "# 0.1"
   ]
  },
  {
   "cell_type": "code",
   "execution_count": 3,
   "id": "7e4bfa31",
   "metadata": {},
   "outputs": [],
   "source": [
    "MODEL_PATH = '/home/zguo30/ppg_ecg_proj/ppg_only_baseline_limited_labeled/saved_models/corrected_res34_epoch_30_ppglr_0.0001_lambda_0.9_LABEL_PERC_0.1_/PPG_best_4.pt'"
   ]
  },
  {
   "cell_type": "markdown",
   "id": "9458f25b",
   "metadata": {},
   "source": [
    "# 0.3"
   ]
  },
  {
   "cell_type": "code",
   "execution_count": 4,
   "id": "c44c7fb3",
   "metadata": {},
   "outputs": [],
   "source": [
    "MODEL_PATH = '/home/zguo30/ppg_ecg_proj/ppg_only_baseline_limited_labeled/saved_models/corrected_res34_epoch_30_ppglr_0.0001_lambda_0.9_LABEL_PERC_0.3_/PPG_best_6.pt'"
   ]
  },
  {
   "cell_type": "markdown",
   "id": "1d20299d",
   "metadata": {},
   "source": [
    "# 0.5"
   ]
  },
  {
   "cell_type": "code",
   "execution_count": 5,
   "id": "4b8540b3",
   "metadata": {},
   "outputs": [],
   "source": [
    "MODEL_PATH = '/home/zguo30/ppg_ecg_proj/ppg_only_baseline_limited_labeled/saved_models/corrected_res34_epoch_30_ppglr_0.0001_lambda_0.9_LABEL_PERC_0.5_/PPG_best_6.pt'"
   ]
  },
  {
   "cell_type": "markdown",
   "id": "5ab3060d",
   "metadata": {},
   "source": [
    "# 0.01"
   ]
  },
  {
   "cell_type": "code",
   "execution_count": 5,
   "id": "f7c60bfb",
   "metadata": {},
   "outputs": [
    {
     "name": "stdout",
     "output_type": "stream",
     "text": [
      "data_simband_ecg_2400\n",
      "/labs/hulab/Robust_learning_TESTDATA/data_simband_ecg_2400.npy\n",
      "/labs/hulab/Robust_learning_TESTDATA/label_simband.npy\n",
      "[TEST] \tPPG      F1: 0.0\n",
      "[TEST] \tPPG ROC AUC: 0.5\n",
      "[TEST] \tPPG PR  AUC: 0.703\n",
      "/labs/hulab/Robust_learning_TESTDATA/simband_patient_idx_dict.pkl\n"
     ]
    },
    {
     "name": "stderr",
     "output_type": "stream",
     "text": [
      "100%|██████████| 1000/1000 [00:03<00:00, 275.59it/s]\n"
     ]
    },
    {
     "name": "stdout",
     "output_type": "stream",
     "text": [
      "\t AUROC 0.5 [0.5 0.5]\n",
      "\t AUPRC 0.703 [0.702 0.705]\n",
      "\n",
      "data_simband_ppg_2400\n",
      "/labs/hulab/Robust_learning_TESTDATA/data_simband_ppg_2400.npy\n",
      "/labs/hulab/Robust_learning_TESTDATA/label_simband.npy\n",
      "[TEST] \tPPG      F1: 0.0\n",
      "[TEST] \tPPG ROC AUC: 0.5\n",
      "[TEST] \tPPG PR  AUC: 0.703\n",
      "/labs/hulab/Robust_learning_TESTDATA/simband_patient_idx_dict.pkl\n"
     ]
    },
    {
     "name": "stderr",
     "output_type": "stream",
     "text": [
      "100%|██████████| 1000/1000 [00:03<00:00, 273.31it/s]\n"
     ]
    },
    {
     "name": "stdout",
     "output_type": "stream",
     "text": [
      "\t AUROC 0.5 [0.5 0.5]\n",
      "\t AUPRC 0.703 [0.702 0.705]\n",
      "\n",
      "data_ucla_ecg_2400\n",
      "/labs/hulab/Robust_learning_TESTDATA/data_ucla_ecg_2400.npy\n",
      "/labs/hulab/Robust_learning_TESTDATA/label_ucla_ecg.npy\n",
      "[TEST] \tPPG      F1: 0.0\n",
      "[TEST] \tPPG ROC AUC: 0.5\n",
      "[TEST] \tPPG PR  AUC: 0.5713\n",
      "/labs/hulab/Robust_learning_TESTDATA/UCLA_patient_idx_dict.pkl\n"
     ]
    },
    {
     "name": "stderr",
     "output_type": "stream",
     "text": [
      "100%|██████████| 1000/1000 [13:53<00:00,  1.20it/s]\n"
     ]
    },
    {
     "ename": "OSError",
     "evalue": "[Errno 122] Disk quota exceeded: 'data_ucla_ecg_2400_ppgonlylimitedlabel_pred_probs.npy'",
     "output_type": "error",
     "traceback": [
      "\u001b[0;31m---------------------------------------------------------------------------\u001b[0m",
      "\u001b[0;31mOSError\u001b[0m                                   Traceback (most recent call last)",
      "\u001b[0;32m/tmp/ipykernel_19370/4076148432.py\u001b[0m in \u001b[0;36m<module>\u001b[0;34m\u001b[0m\n\u001b[1;32m     41\u001b[0m     \u001b[0mtestloader\u001b[0m \u001b[0;34m=\u001b[0m \u001b[0mDataLoader\u001b[0m\u001b[0;34m(\u001b[0m\u001b[0mtest_dataset\u001b[0m\u001b[0;34m,\u001b[0m \u001b[0mbatch_size\u001b[0m\u001b[0;34m=\u001b[0m\u001b[0;36m2500\u001b[0m\u001b[0;34m,\u001b[0m \u001b[0mshuffle\u001b[0m\u001b[0;34m=\u001b[0m\u001b[0;32mFalse\u001b[0m\u001b[0;34m,\u001b[0m \u001b[0mnum_workers\u001b[0m\u001b[0;34m=\u001b[0m\u001b[0;36m0\u001b[0m\u001b[0;34m)\u001b[0m\u001b[0;34m\u001b[0m\u001b[0;34m\u001b[0m\u001b[0m\n\u001b[1;32m     42\u001b[0m \u001b[0;34m\u001b[0m\u001b[0m\n\u001b[0;32m---> 43\u001b[0;31m     \u001b[0mtest_epoch\u001b[0m\u001b[0;34m(\u001b[0m\u001b[0mmodel\u001b[0m\u001b[0;34m,\u001b[0m \u001b[0mtestloader\u001b[0m\u001b[0;34m,\u001b[0m \u001b[0mpair\u001b[0m\u001b[0;34m[\u001b[0m\u001b[0;36m0\u001b[0m\u001b[0;34m]\u001b[0m\u001b[0;34m.\u001b[0m\u001b[0msplit\u001b[0m\u001b[0;34m(\u001b[0m\u001b[0;34m'.'\u001b[0m\u001b[0;34m)\u001b[0m\u001b[0;34m[\u001b[0m\u001b[0;36m0\u001b[0m\u001b[0;34m]\u001b[0m\u001b[0;34m,\u001b[0m  \u001b[0mpatient_info_path\u001b[0m\u001b[0;34m=\u001b[0m\u001b[0mpair\u001b[0m\u001b[0;34m[\u001b[0m\u001b[0;36m2\u001b[0m\u001b[0;34m]\u001b[0m \u001b[0;32mif\u001b[0m \u001b[0mlen\u001b[0m\u001b[0;34m(\u001b[0m\u001b[0mpair\u001b[0m\u001b[0;34m)\u001b[0m\u001b[0;34m==\u001b[0m\u001b[0;36m3\u001b[0m \u001b[0;32melse\u001b[0m \u001b[0;32mNone\u001b[0m\u001b[0;34m)\u001b[0m\u001b[0;34m\u001b[0m\u001b[0;34m\u001b[0m\u001b[0m\n\u001b[0m\u001b[1;32m     44\u001b[0m \u001b[0;34m\u001b[0m\u001b[0m\n\u001b[1;32m     45\u001b[0m     \u001b[0mprint\u001b[0m\u001b[0;34m(\u001b[0m\u001b[0;34m)\u001b[0m\u001b[0;34m\u001b[0m\u001b[0;34m\u001b[0m\u001b[0m\n",
      "\u001b[0;32m/tmp/ipykernel_19370/3379956750.py\u001b[0m in \u001b[0;36mtest_epoch\u001b[0;34m(PPG_model, test_loader, test_ds_name, baseline, patient_info_path)\u001b[0m\n\u001b[1;32m     67\u001b[0m             \u001b[0mnp\u001b[0m\u001b[0;34m.\u001b[0m\u001b[0msave\u001b[0m\u001b[0;34m(\u001b[0m\u001b[0;34mf'{test_ds_name}_ppgonlylimitedlabel_auprcs.npy'\u001b[0m\u001b[0;34m,\u001b[0m \u001b[0mall_bt_auprcs\u001b[0m\u001b[0;34m)\u001b[0m\u001b[0;34m\u001b[0m\u001b[0;34m\u001b[0m\u001b[0m\n\u001b[1;32m     68\u001b[0m             \u001b[0mnp\u001b[0m\u001b[0;34m.\u001b[0m\u001b[0msave\u001b[0m\u001b[0;34m(\u001b[0m\u001b[0;34mf'{test_ds_name}_ppgonlylimitedlabel_targets.npy'\u001b[0m\u001b[0;34m,\u001b[0m \u001b[0mall_bt_targets\u001b[0m\u001b[0;34m)\u001b[0m\u001b[0;34m\u001b[0m\u001b[0;34m\u001b[0m\u001b[0m\n\u001b[0;32m---> 69\u001b[0;31m             \u001b[0mnp\u001b[0m\u001b[0;34m.\u001b[0m\u001b[0msave\u001b[0m\u001b[0;34m(\u001b[0m\u001b[0;34mf'{test_ds_name}_ppgonlylimitedlabel_pred_probs.npy'\u001b[0m\u001b[0;34m,\u001b[0m \u001b[0mall_bt_pred_probs\u001b[0m\u001b[0;34m)\u001b[0m\u001b[0;34m\u001b[0m\u001b[0;34m\u001b[0m\u001b[0m\n\u001b[0m\u001b[1;32m     70\u001b[0m \u001b[0;34m\u001b[0m\u001b[0m\n\u001b[1;32m     71\u001b[0m             \u001b[0mprint\u001b[0m\u001b[0;34m(\u001b[0m\u001b[0;34mf'\\t AUROC {round(np.mean(all_bt_aurocs), rounding)} [{round(np.mean(all_bt_aurocs) - 1.96 *  (np.std(all_bt_aurocs) / np.sqrt(len(all_bt_aurocs))) , rounding)} {round(np.mean(all_bt_aurocs) + 1.96 *  (np.std(all_bt_aurocs) / np.sqrt(len(all_bt_aurocs))) , rounding)}]'\u001b[0m\u001b[0;34m)\u001b[0m\u001b[0;34m\u001b[0m\u001b[0;34m\u001b[0m\u001b[0m\n",
      "\u001b[0;32m<__array_function__ internals>\u001b[0m in \u001b[0;36msave\u001b[0;34m(*args, **kwargs)\u001b[0m\n",
      "\u001b[0;32m/labs/hulab/stark_conda/envs/base_pytorch/lib/python3.7/site-packages/numpy/lib/npyio.py\u001b[0m in \u001b[0;36msave\u001b[0;34m(file, arr, allow_pickle, fix_imports)\u001b[0m\n\u001b[1;32m    523\u001b[0m         \u001b[0;32mif\u001b[0m \u001b[0;32mnot\u001b[0m \u001b[0mfile\u001b[0m\u001b[0;34m.\u001b[0m\u001b[0mendswith\u001b[0m\u001b[0;34m(\u001b[0m\u001b[0;34m'.npy'\u001b[0m\u001b[0;34m)\u001b[0m\u001b[0;34m:\u001b[0m\u001b[0;34m\u001b[0m\u001b[0;34m\u001b[0m\u001b[0m\n\u001b[1;32m    524\u001b[0m             \u001b[0mfile\u001b[0m \u001b[0;34m=\u001b[0m \u001b[0mfile\u001b[0m \u001b[0;34m+\u001b[0m \u001b[0;34m'.npy'\u001b[0m\u001b[0;34m\u001b[0m\u001b[0;34m\u001b[0m\u001b[0m\n\u001b[0;32m--> 525\u001b[0;31m         \u001b[0mfile_ctx\u001b[0m \u001b[0;34m=\u001b[0m \u001b[0mopen\u001b[0m\u001b[0;34m(\u001b[0m\u001b[0mfile\u001b[0m\u001b[0;34m,\u001b[0m \u001b[0;34m\"wb\"\u001b[0m\u001b[0;34m)\u001b[0m\u001b[0;34m\u001b[0m\u001b[0;34m\u001b[0m\u001b[0m\n\u001b[0m\u001b[1;32m    526\u001b[0m \u001b[0;34m\u001b[0m\u001b[0m\n\u001b[1;32m    527\u001b[0m     \u001b[0;32mwith\u001b[0m \u001b[0mfile_ctx\u001b[0m \u001b[0;32mas\u001b[0m \u001b[0mfid\u001b[0m\u001b[0;34m:\u001b[0m\u001b[0;34m\u001b[0m\u001b[0;34m\u001b[0m\u001b[0m\n",
      "\u001b[0;31mOSError\u001b[0m: [Errno 122] Disk quota exceeded: 'data_ucla_ecg_2400_ppgonlylimitedlabel_pred_probs.npy'"
     ]
    }
   ],
   "source": [
    "MODEL_PATH = '/home/zguo30/ppg_ecg_proj/ppg_only_baseline_limited_labeled/saved_models/corrected_res34_epoch_30_ppglr_0.0001_lambda_0.9_LABEL_PERC_0.01_/PPG_best_12.pt'\n",
    "state_dict = torch.load(MODEL_PATH) \n",
    "\n",
    "new_state_dict = OrderedDict()\n",
    "for k, v in state_dict.items():\n",
    "    name = k[7:] #remove 'module'\n",
    "    new_state_dict[name] = v\n",
    "    \n",
    "state_dict = new_state_dict\n",
    "\n",
    "model = Resnet34().cuda()\n",
    "model.load_state_dict(state_dict)\n",
    "\n",
    "testing_data_label_pairs = [\n",
    "    ['data_simband_ecg_2400.npy', 'label_simband.npy', '/labs/hulab/Robust_learning_TESTDATA/simband_patient_idx_dict.pkl'],\n",
    "    ['data_simband_ppg_2400.npy', 'label_simband.npy', '/labs/hulab/Robust_learning_TESTDATA/simband_patient_idx_dict.pkl'],\n",
    "    ['data_ucla_ecg_2400.npy', 'label_ucla_ecg.npy', '/labs/hulab/Robust_learning_TESTDATA/UCLA_patient_idx_dict.pkl'],\n",
    "    ['data_ucla_ppg_2400.npy', 'label_ucla_ppg.npy', '/labs/hulab/Robust_learning_TESTDATA/UCLA_patient_idx_dict.pkl'],\n",
    "    ['data_staford_2400.npy', 'label_staford.npy', '/labs/hulab/Robust_learning_TESTDATA/stanford_patient_idx_dict.pkl'],\n",
    "#     ['data_staford_goodquality_2400.npy', 'label_staford_goodquality.npy', '/labs/hulab/Robust_learning_TESTDATA/stanford_patient_idx_dict.pkl'],\n",
    "#     ['data_staford_badquality_2400.npy', 'label_staford_badquality.npy', '/labs/hulab/Robust_learning_TESTDATA/stanford_patient_idx_dict.pkl']\n",
    "]\n",
    "\n",
    "test_data_folder = '/labs/hulab/Robust_learning_TESTDATA/'\n",
    "for pair in testing_data_label_pairs:\n",
    "    if 'ecg' in pair[0] or 'staford' in pair[0]:\n",
    "\n",
    "        print(pair[0].split('.')[0].split('/')[-1])\n",
    "\n",
    "        x_path = test_data_folder + pair[0]\n",
    "        y_path = test_data_folder + pair[1]\n",
    "\n",
    "        print(x_path)\n",
    "        print(y_path)\n",
    "        test_dataset = Dataset_ori(x_path, y_path)\n",
    "    #     x = np.load(x_path)\n",
    "    #     y = np.load(y_path)\n",
    "    #     print(np.max(x), np.min(x))\n",
    "\n",
    "    #     print(x.shape, y.shape)\n",
    "\n",
    "        testloader = DataLoader(test_dataset, batch_size=2500, shuffle=False, num_workers=0)\n",
    "\n",
    "        test_epoch(model, testloader, pair[0].split('.')[0],  patient_info_path=pair[2] if len(pair)==3 else None)\n",
    "\n",
    "        print()"
   ]
  },
  {
   "cell_type": "code",
   "execution_count": null,
   "id": "e807d858",
   "metadata": {},
   "outputs": [],
   "source": []
  }
 ],
 "metadata": {
  "kernelspec": {
   "display_name": "base_pytorch",
   "language": "python",
   "name": "base_pytorch"
  },
  "language_info": {
   "codemirror_mode": {
    "name": "ipython",
    "version": 3
   },
   "file_extension": ".py",
   "mimetype": "text/x-python",
   "name": "python",
   "nbconvert_exporter": "python",
   "pygments_lexer": "ipython3",
   "version": "3.7.13"
  }
 },
 "nbformat": 4,
 "nbformat_minor": 5
}
