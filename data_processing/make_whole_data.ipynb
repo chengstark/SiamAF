{
 "cells": [
  {
   "cell_type": "code",
   "execution_count": 1,
   "id": "10196a97",
   "metadata": {},
   "outputs": [],
   "source": [
    "import os\n",
    "from tqdm import tqdm\n",
    "import shutil\n",
    "import matplotlib.pyplot as plt\n",
    "import numpy as np\n",
    "from multiprocessing import Pool\n",
    "import multiprocessing\n",
    "import numpy as np\n",
    "import shutil\n",
    "import pickle as pkl\n",
    "import gc\n",
    "\n",
    "from scipy.signal import butter, lfilter, resample\n",
    "\n",
    "import torch\n",
    "\n",
    "import multiprocessing.pool as mpp\n",
    "\n",
    "\n",
    "def istarmap(self, func, iterable, chunksize=1):\n",
    "    \"\"\"starmap-version of imap\n",
    "    \"\"\"\n",
    "    if self._state != mpp.RUN:\n",
    "        raise ValueError(\"Pool not running\")\n",
    "\n",
    "    if chunksize < 1:\n",
    "        raise ValueError(\n",
    "            \"Chunksize must be 1+, not {0:n}\".format(\n",
    "                chunksize))\n",
    "\n",
    "    task_batches = mpp.Pool._get_tasks(func, iterable, chunksize)\n",
    "    result = mpp.IMapIterator(self._cache)\n",
    "    self._taskqueue.put(\n",
    "        (\n",
    "            self._guarded_task_generation(result._job,\n",
    "                                          mpp.starmapstar,\n",
    "                                          task_batches),\n",
    "            result._set_length\n",
    "        ))\n",
    "    return (item for chunk in result for item in chunk)\n",
    "\n",
    "\n",
    "mpp.Pool.istarmap = istarmap"
   ]
  },
  {
   "cell_type": "code",
   "execution_count": 2,
   "id": "e08ef7c8",
   "metadata": {},
   "outputs": [],
   "source": [
    "data_path = '/labs/hulab/stark_stuff/ppg_ecg_project/data/'\n",
    "\n",
    "def load_sigs(path, placeholder):\n",
    "    sig = np.load(path)\n",
    "    ecg = sig[:, 0]\n",
    "    ppg = sig[:, 1]\n",
    "    return ecg, ppg\n",
    "\n",
    "def load_sigs_resample(path, placeholder):\n",
    "    sig = np.load(path)\n",
    "    ecg = sig[:, 0]\n",
    "    ppg = sig[:, 1]\n",
    "    ecg = resample(ecg, 2400)\n",
    "    ppg = resample(ppg, 2400)\n",
    "    \n",
    "    return ecg, ppg"
   ]
  },
  {
   "cell_type": "code",
   "execution_count": 3,
   "id": "bd1a6229",
   "metadata": {},
   "outputs": [],
   "source": [
    "# split = 'train'\n",
    "# AF_paths = pkl.load(open(f'{data_path}/AF_v2/split_{split}.pkl', 'rb'))\n",
    "# NSR_paths = pkl.load(open(f'{data_path}/NSR_v2/split_{split}.pkl', 'rb'))\n",
    "# PVC_paths = pkl.load(open(f'{data_path}/PVC_v2/split_{split}.pkl', 'rb'))"
   ]
  },
  {
   "cell_type": "code",
   "execution_count": 4,
   "id": "7845ebfd",
   "metadata": {},
   "outputs": [],
   "source": [
    "# train_AF_ecg = []\n",
    "# train_AF_ppg = []\n",
    "# pool_args = [[p, None] for p in AF_paths]\n",
    "\n",
    "# with Pool(47) as pool:\n",
    "#     for ret in tqdm(pool.istarmap(load_sigs, pool_args), total=len(pool_args)):\n",
    "#         train_AF_ecg.append(ret[0])\n",
    "#         train_AF_ppg.append(ret[1])        \n",
    "        "
   ]
  },
  {
   "cell_type": "code",
   "execution_count": 5,
   "id": "ff82cbf4",
   "metadata": {},
   "outputs": [],
   "source": [
    "\n",
    "# train_AF_ecg = np.asarray(train_AF_ecg)\n",
    "# train_AF_ppg = np.asarray(train_AF_ppg)\n",
    "# print(train_AF_ecg.shape, train_AF_ppg.shape)"
   ]
  },
  {
   "cell_type": "code",
   "execution_count": 6,
   "id": "d889f5ee",
   "metadata": {},
   "outputs": [],
   "source": [
    "# np.save(f'{data_path}/AF_v2/{split}_ECG.npy', train_AF_ecg)\n",
    "# np.save(f'{data_path}/AF_v2/{split}_PPG.npy', train_AF_ppg)"
   ]
  },
  {
   "cell_type": "code",
   "execution_count": 3,
   "id": "3e6df6c4",
   "metadata": {},
   "outputs": [],
   "source": [
    "def save_sig_npys(data_path, folder, split):\n",
    "    paths = pkl.load(open(f'{data_path}/{folder}/split_{split}.pkl', 'rb'))\n",
    "    ecgs = []\n",
    "    ppgs = []\n",
    "    pool_args = [[p, None] for p in paths]\n",
    "\n",
    "    with Pool(47) as pool:\n",
    "        for ret in tqdm(pool.istarmap(load_sigs, pool_args), total=len(pool_args)):\n",
    "            ecgs.append(ret[0])\n",
    "            ppgs.append(ret[1])\n",
    "    \n",
    "    ecgs = np.asarray(ecgs)\n",
    "    ppgs = np.asarray(ppgs)\n",
    "    print(ecgs.shape, ppgs.shape)\n",
    "    \n",
    "    np.save(f'{data_path}/{folder}/{split}_ECG.npy', ecgs)\n",
    "    np.save(f'{data_path}/{folder}/{split}_PPG.npy', ppgs)\n",
    "    \n",
    "    del ecgs, ppgs, paths\n",
    "    gc.collect()"
   ]
  },
  {
   "cell_type": "code",
   "execution_count": 4,
   "id": "d0500fb5",
   "metadata": {},
   "outputs": [],
   "source": [
    "def save_resample_sig_npys(data_path, folder, split):\n",
    "    paths = pkl.load(open(f'{data_path}/{folder}/split_{split}.pkl', 'rb'))\n",
    "    ecgs = []\n",
    "    ppgs = []\n",
    "    pool_args = [[p, None] for p in paths]\n",
    "\n",
    "    with Pool(47) as pool:\n",
    "        for ret in tqdm(pool.istarmap(load_sigs_resample, pool_args), total=len(pool_args)):\n",
    "            ecgs.append(ret[0])\n",
    "            ppgs.append(ret[1])\n",
    "    \n",
    "    ecgs = np.asarray(ecgs)\n",
    "    ppgs = np.asarray(ppgs)\n",
    "    print(ecgs.shape, ppgs.shape)\n",
    "    \n",
    "    np.save(f'{data_path}/{folder}/{split}_ECG_resampled2400.npy', ecgs)\n",
    "    np.save(f'{data_path}/{folder}/{split}_PPG_resampled2400.npy', ppgs)\n",
    "    \n",
    "    del ecgs, ppgs, paths\n",
    "    gc.collect()"
   ]
  },
  {
   "cell_type": "code",
   "execution_count": 5,
   "id": "60e18829",
   "metadata": {},
   "outputs": [
    {
     "name": "stdout",
     "output_type": "stream",
     "text": [
      "12lead_ECG_for_ESUS  Anaconda3-2022.05-Linux-x86_64.sh\tPROMOTE EHR data\r\n",
      "4TB-drive\t     chengding_project_data\t\truochen_project\r\n",
      "AF_code\t\t     Echo Data\t\t\t\tstark_conda\r\n",
      "AF_DATA\t\t     EEG CBFV\t\t\t\tstark_stuff\r\n",
      "Alarm_Data\t     log.txt\t\t\t\tStroke_AF\r\n",
      "AlarmData_UCSF_UCLA  physionet.org\t\t\tsullychen\r\n",
      "anaconda3\t     PPG_QUALITY\t\t\tUCSF\r\n"
     ]
    }
   ],
   "source": [
    "!ls /labs/hulab/"
   ]
  },
  {
   "cell_type": "code",
   "execution_count": 6,
   "id": "1f71fb0e",
   "metadata": {},
   "outputs": [
    {
     "name": "stderr",
     "output_type": "stream",
     "text": [
      "100%|██████████| 2757889/2757889 [32:24<00:00, 1418.36it/s] \n"
     ]
    },
    {
     "ename": "MemoryError",
     "evalue": "Unable to allocate array with shape (2757889, 7200) and data type float64",
     "output_type": "error",
     "traceback": [
      "\u001b[0;31m---------------------------------------------------------------------------\u001b[0m",
      "\u001b[0;31mMemoryError\u001b[0m                               Traceback (most recent call last)",
      "\u001b[0;32m<ipython-input-6-90c6477ed4ed>\u001b[0m in \u001b[0;36m<module>\u001b[0;34m()\u001b[0m\n\u001b[0;32m----> 1\u001b[0;31m \u001b[0msave_sig_npys\u001b[0m\u001b[0;34m(\u001b[0m\u001b[0mdata_path\u001b[0m\u001b[0;34m,\u001b[0m \u001b[0;34m'AF_v5'\u001b[0m\u001b[0;34m,\u001b[0m \u001b[0;34m'train'\u001b[0m\u001b[0;34m)\u001b[0m\u001b[0;34m\u001b[0m\u001b[0;34m\u001b[0m\u001b[0m\n\u001b[0m",
      "\u001b[0;32m<ipython-input-3-87a383475d96>\u001b[0m in \u001b[0;36msave_sig_npys\u001b[0;34m(data_path, folder, split)\u001b[0m\n\u001b[1;32m     11\u001b[0m \u001b[0;34m\u001b[0m\u001b[0m\n\u001b[1;32m     12\u001b[0m     \u001b[0mecgs\u001b[0m \u001b[0;34m=\u001b[0m \u001b[0mnp\u001b[0m\u001b[0;34m.\u001b[0m\u001b[0masarray\u001b[0m\u001b[0;34m(\u001b[0m\u001b[0mecgs\u001b[0m\u001b[0;34m)\u001b[0m\u001b[0;34m\u001b[0m\u001b[0;34m\u001b[0m\u001b[0m\n\u001b[0;32m---> 13\u001b[0;31m     \u001b[0mppgs\u001b[0m \u001b[0;34m=\u001b[0m \u001b[0mnp\u001b[0m\u001b[0;34m.\u001b[0m\u001b[0masarray\u001b[0m\u001b[0;34m(\u001b[0m\u001b[0mppgs\u001b[0m\u001b[0;34m)\u001b[0m\u001b[0;34m\u001b[0m\u001b[0;34m\u001b[0m\u001b[0m\n\u001b[0m\u001b[1;32m     14\u001b[0m     \u001b[0mprint\u001b[0m\u001b[0;34m(\u001b[0m\u001b[0mecgs\u001b[0m\u001b[0;34m.\u001b[0m\u001b[0mshape\u001b[0m\u001b[0;34m,\u001b[0m \u001b[0mppgs\u001b[0m\u001b[0;34m.\u001b[0m\u001b[0mshape\u001b[0m\u001b[0;34m)\u001b[0m\u001b[0;34m\u001b[0m\u001b[0;34m\u001b[0m\u001b[0m\n\u001b[1;32m     15\u001b[0m \u001b[0;34m\u001b[0m\u001b[0m\n",
      "\u001b[0;32m/opt/rh/rh-python36/root/usr/lib64/python3.6/site-packages/numpy/core/_asarray.py\u001b[0m in \u001b[0;36masarray\u001b[0;34m(a, dtype, order)\u001b[0m\n\u001b[1;32m     83\u001b[0m \u001b[0;34m\u001b[0m\u001b[0m\n\u001b[1;32m     84\u001b[0m     \"\"\"\n\u001b[0;32m---> 85\u001b[0;31m     \u001b[0;32mreturn\u001b[0m \u001b[0marray\u001b[0m\u001b[0;34m(\u001b[0m\u001b[0ma\u001b[0m\u001b[0;34m,\u001b[0m \u001b[0mdtype\u001b[0m\u001b[0;34m,\u001b[0m \u001b[0mcopy\u001b[0m\u001b[0;34m=\u001b[0m\u001b[0;32mFalse\u001b[0m\u001b[0;34m,\u001b[0m \u001b[0morder\u001b[0m\u001b[0;34m=\u001b[0m\u001b[0morder\u001b[0m\u001b[0;34m)\u001b[0m\u001b[0;34m\u001b[0m\u001b[0;34m\u001b[0m\u001b[0m\n\u001b[0m\u001b[1;32m     86\u001b[0m \u001b[0;34m\u001b[0m\u001b[0m\n\u001b[1;32m     87\u001b[0m \u001b[0;34m\u001b[0m\u001b[0m\n",
      "\u001b[0;31mMemoryError\u001b[0m: Unable to allocate array with shape (2757889, 7200) and data type float64"
     ]
    }
   ],
   "source": [
    "save_sig_npys(data_path, 'AF_v5', 'train')"
   ]
  },
  {
   "cell_type": "code",
   "execution_count": null,
   "id": "f8befbe9",
   "metadata": {},
   "outputs": [],
   "source": [
    "save_resample_sig_npys(data_path, 'AF_v5', 'val')"
   ]
  },
  {
   "cell_type": "code",
   "execution_count": null,
   "id": "a8ea5f80",
   "metadata": {},
   "outputs": [],
   "source": []
  }
 ],
 "metadata": {
  "kernelspec": {
   "display_name": "Python 3",
   "language": "python",
   "name": "python3"
  },
  "language_info": {
   "codemirror_mode": {
    "name": "ipython",
    "version": 3
   },
   "file_extension": ".py",
   "mimetype": "text/x-python",
   "name": "python",
   "nbconvert_exporter": "python",
   "pygments_lexer": "ipython3",
   "version": "3.6.12"
  }
 },
 "nbformat": 4,
 "nbformat_minor": 5
}
