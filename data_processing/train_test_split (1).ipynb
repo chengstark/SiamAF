{
 "cells": [
  {
   "cell_type": "code",
   "execution_count": 1,
   "id": "5010e216",
   "metadata": {},
   "outputs": [],
   "source": [
    "import os\n",
    "import numpy as np\n",
    "import matplotlib.pyplot as plt\n",
    "from tqdm import tqdm\n",
    "import pickle as pkl\n",
    "import time"
   ]
  },
  {
   "cell_type": "code",
   "execution_count": 2,
   "id": "56e69005",
   "metadata": {},
   "outputs": [
    {
     "name": "stdout",
     "output_type": "stream",
     "text": [
      "4038664 2400994 2118459\n"
     ]
    }
   ],
   "source": [
    "data_path = '/labs/hulab/stark_stuff/ppg_ecg_project/data/'\n",
    "AF_paths = [f'{data_path}/AF_v5/{file}' for file in os.listdir(f'{data_path}/AF_v5/') if file.endswith('.npy') and 'resampled2400' not in file]\n",
    "NSR_paths = [f'{data_path}/NSR_v5/{file}' for file in os.listdir(f'{data_path}/NSR_v5/') if file.endswith('.npy') and 'resampled2400' not in file]\n",
    "PVC_paths = [f'{data_path}/PVC_v5/{file}' for file in os.listdir(f'{data_path}/PVC_v5/') if file.endswith('.npy') and 'resampled2400' not in file]\n",
    "\n",
    "print(len(AF_paths), len(NSR_paths), len(PVC_paths))"
   ]
  },
  {
   "cell_type": "code",
   "execution_count": 17,
   "id": "3bf7918b",
   "metadata": {},
   "outputs": [
    {
     "data": {
      "text/plain": [
       "'Wed Jan  4 14:23:39 2023'"
      ]
     },
     "execution_count": 17,
     "metadata": {},
     "output_type": "execute_result"
    }
   ],
   "source": [
    "time.ctime(os.path.getmtime('/labs/hulab/stark_stuff/ppg_ecg_project/data//AF_v5/DE887834146775714_20140414210546_16154_20140418203549.npy'))"
   ]
  },
  {
   "cell_type": "code",
   "execution_count": 21,
   "id": "663a35c6",
   "metadata": {},
   "outputs": [
    {
     "name": "stderr",
     "output_type": "stream",
     "text": [
      "100%|████████████████████████████████████████████████████████████████████████████████████████████████████████████████████████████████████████████████████████████████████████| 4038668/4038668 [00:24<00:00, 162503.66it/s]"
     ]
    },
    {
     "name": "stdout",
     "output_type": "stream",
     "text": [
      "/labs/hulab/stark_stuff/ppg_ecg_project/data//AF_v5/train_ECG_resampled2400.npy Thu Feb 16 23:05:35 2023\n",
      "/labs/hulab/stark_stuff/ppg_ecg_project/data//AF_v5/train_PPG_resampled2400.npy Thu Feb 16 23:07:26 2023\n",
      "/labs/hulab/stark_stuff/ppg_ecg_project/data//AF_v5/val_ECG_resampled2400.npy Thu Feb 16 19:34:33 2023\n",
      "/labs/hulab/stark_stuff/ppg_ecg_project/data//AF_v5/val_PPG_resampled2400.npy Thu Feb 16 19:34:43 2023\n"
     ]
    },
    {
     "name": "stderr",
     "output_type": "stream",
     "text": [
      "\n"
     ]
    }
   ],
   "source": [
    "for p in tqdm(AF_paths):\n",
    "    if not ('Jan  3' in time.ctime(os.path.getmtime(p)) or 'Jan  4' in time.ctime(os.path.getmtime(p)) or 'Jan  5' in time.ctime(os.path.getmtime(p))):\n",
    "        print(p, time.ctime(os.path.getmtime(p)))"
   ]
  },
  {
   "cell_type": "code",
   "execution_count": 23,
   "id": "43e985e6",
   "metadata": {},
   "outputs": [
    {
     "data": {
      "text/plain": [
       "['/labs/hulab/stark_stuff/ppg_ecg_project/data//AF_v5/DE609645727247408_20120805020952_2576_20120807132135.npy']"
      ]
     },
     "execution_count": 23,
     "metadata": {},
     "output_type": "execute_result"
    }
   ],
   "source": [
    "AF_paths[:1]"
   ]
  },
  {
   "cell_type": "code",
   "execution_count": 24,
   "id": "40a994cf",
   "metadata": {},
   "outputs": [],
   "source": [
    "# for path in tqdm(AF_paths):\n",
    "    \n",
    "#     sig = np.load(path)\n",
    "#     ECG = sig[:, 0]\n",
    "#     PPG = sig[:, 1]\n",
    "    \n",
    "#     PPG = (PPG - np.min(PPG)) / (np.max(PPG) - np.min(PPG))\n",
    "#     ECG = (ECG - np.min(ECG)) / (np.max(ECG) - np.min(ECG))\n",
    "    \n",
    "#     cat = np.concatenate((ECG.reshape(ECG.shape[0], 1), PPG.reshape(PPG.shape[0], 1)), axis=1)\n",
    "#     np.save(path, cat)\n"
   ]
  },
  {
   "cell_type": "code",
   "execution_count": 3,
   "id": "9058f9f9",
   "metadata": {},
   "outputs": [
    {
     "name": "stderr",
     "output_type": "stream",
     "text": [
      "100%|████████████████████████████████████████████████████████████████████████████████████████████████████████████████████████████████████████████████████████████████████████████████████████████████| 4038664/4038664 [00:02<00:00, 1468693.59it/s]\n",
      "100%|████████████████████████████████████████████████████████████████████████████████████████████████████████████████████████████████████████████████████████████████████████████████████████████████| 2400994/2400994 [00:01<00:00, 1445166.36it/s]\n",
      "100%|████████████████████████████████████████████████████████████████████████████████████████████████████████████████████████████████████████████████████████████████████████████████████████████████| 2118459/2118459 [00:01<00:00, 1346178.57it/s]\n"
     ]
    }
   ],
   "source": [
    "AF_patients = set()\n",
    "\n",
    "for path in tqdm(AF_paths):\n",
    "    patient_id = path.split('/')[-1].split('_')[0]\n",
    "    AF_patients.add(patient_id)\n",
    "\n",
    "NSR_patients = set()\n",
    "for path in tqdm(NSR_paths):\n",
    "    patient_id = path.split('/')[-1].split('_')[0]\n",
    "    NSR_patients.add(patient_id)\n",
    "\n",
    "PVC_patients = set()\n",
    "for path in tqdm(PVC_paths):\n",
    "    patient_id = path.split('/')[-1].split('_')[0]\n",
    "    PVC_patients.add(patient_id)"
   ]
  },
  {
   "cell_type": "code",
   "execution_count": 4,
   "id": "7b25d40e",
   "metadata": {},
   "outputs": [
    {
     "data": {
      "text/plain": [
       "20048"
      ]
     },
     "execution_count": 4,
     "metadata": {},
     "output_type": "execute_result"
    }
   ],
   "source": [
    "patients = list(set(list(AF_patients) + list(NSR_patients) + list(PVC_patients)))\n",
    "pseudo_labels = []\n",
    "for p in patients:\n",
    "    if p in AF_patients: # AF fisrt since AF set is smallest\n",
    "        pseudo_labels.append(0)\n",
    "    elif p in PVC_patients:\n",
    "        pseudo_labels.append(1)\n",
    "    elif p in NSR_patients:\n",
    "        pseudo_labels.append(2)\n",
    "        \n",
    "len(patients)"
   ]
  },
  {
   "cell_type": "code",
   "execution_count": 5,
   "id": "3d541a47",
   "metadata": {},
   "outputs": [],
   "source": [
    "from sklearn.model_selection import train_test_split\n",
    "patient_train, patient_val, y_train, y_val = train_test_split(patients, pseudo_labels, test_size=0.33, random_state=42)"
   ]
  },
  {
   "cell_type": "code",
   "execution_count": 6,
   "id": "b31ee578",
   "metadata": {},
   "outputs": [
    {
     "name": "stdout",
     "output_type": "stream",
     "text": [
      "13432 6616\n"
     ]
    }
   ],
   "source": [
    "print(len(patient_train), len(patient_val))"
   ]
  },
  {
   "cell_type": "code",
   "execution_count": 8,
   "id": "e6039f50",
   "metadata": {},
   "outputs": [
    {
     "data": {
      "text/plain": [
       "0"
      ]
     },
     "execution_count": 8,
     "metadata": {},
     "output_type": "execute_result"
    }
   ],
   "source": [
    "len(set(patient_train).intersection(set(patient_val)))"
   ]
  },
  {
   "cell_type": "code",
   "execution_count": 11,
   "id": "59cb0506",
   "metadata": {},
   "outputs": [
    {
     "data": {
      "text/plain": [
       "(array([0, 1, 2]), array([ 2734, 16268,  1046]))"
      ]
     },
     "execution_count": 11,
     "metadata": {},
     "output_type": "execute_result"
    }
   ],
   "source": [
    "np.unique(pseudo_labels, return_counts=True)"
   ]
  },
  {
   "cell_type": "code",
   "execution_count": 9,
   "id": "8c8ed9ab",
   "metadata": {},
   "outputs": [
    {
     "data": {
      "text/plain": [
       "(array([0, 1, 2]), array([ 1839, 10895,   698]))"
      ]
     },
     "execution_count": 9,
     "metadata": {},
     "output_type": "execute_result"
    }
   ],
   "source": [
    "np.unique(y_train, return_counts=True)"
   ]
  },
  {
   "cell_type": "code",
   "execution_count": 10,
   "id": "630ac84a",
   "metadata": {},
   "outputs": [
    {
     "data": {
      "text/plain": [
       "(array([0, 1, 2]), array([ 895, 5373,  348]))"
      ]
     },
     "execution_count": 10,
     "metadata": {},
     "output_type": "execute_result"
    }
   ],
   "source": [
    "np.unique(y_val, return_counts=True)"
   ]
  },
  {
   "cell_type": "code",
   "execution_count": 14,
   "id": "323d47b4",
   "metadata": {},
   "outputs": [],
   "source": [
    "def split_paths(paths, set_name):\n",
    "    \n",
    "    train_paths = []\n",
    "    val_paths = []\n",
    "\n",
    "    for path in tqdm(paths):\n",
    "        patient_id = path.split('/')[-1].split('_')[0]\n",
    "\n",
    "        if patient_id in patient_train: train_paths.append(path)\n",
    "        elif patient_id in patient_val: val_paths.append(path)\n",
    "        else: print('Error', patient_id)\n",
    "    print(len(train_paths), len(val_paths))\n",
    "    pkl.dump(train_paths, open(f'{data_path}/{set_name}_v5/split_train.pkl', 'wb'))\n",
    "    pkl.dump(val_paths, open(f'{data_path}/{set_name}_v5/split_val.pkl', 'wb'))    "
   ]
  },
  {
   "cell_type": "code",
   "execution_count": 15,
   "id": "25290f6b",
   "metadata": {},
   "outputs": [
    {
     "name": "stderr",
     "output_type": "stream",
     "text": [
      "100%|█████████████████████████████████████████████████████████████████████████████████████████████████████████████████████████████████████████████████████████████████████████████████████████████████████████████████████████████████████████████████████████████████████████████████████████████████████████████████████████████████████████| 4038664/4038664 [10:52<00:00, 6191.72it/s]\n"
     ]
    },
    {
     "name": "stdout",
     "output_type": "stream",
     "text": [
      "2757889 1280775\n"
     ]
    }
   ],
   "source": [
    "split_paths(AF_paths, 'AF')"
   ]
  },
  {
   "cell_type": "code",
   "execution_count": 16,
   "id": "bc616154",
   "metadata": {},
   "outputs": [
    {
     "name": "stderr",
     "output_type": "stream",
     "text": [
      "100%|█████████████████████████████████████████████████████████████████████████████████████████████████████████████████████████████████████████████████████████████████████████████████████████████████████████████████████████████████████████████████████████████████████████████████████████████████████████████████████████████████████████| 2400994/2400994 [06:34<00:00, 6093.13it/s]\n"
     ]
    },
    {
     "name": "stdout",
     "output_type": "stream",
     "text": [
      "1603176 797818\n"
     ]
    }
   ],
   "source": [
    "split_paths(NSR_paths, 'NSR')"
   ]
  },
  {
   "cell_type": "code",
   "execution_count": 17,
   "id": "308ade40",
   "metadata": {},
   "outputs": [
    {
     "name": "stderr",
     "output_type": "stream",
     "text": [
      "100%|█████████████████████████████████████████████████████████████████████████████████████████████████████████████████████████████████████████████████████████████████████████████████████████████████████████████████████████████████████████████████████████████████████████████████████████████████████████████████████████████████████████| 2118459/2118459 [05:47<00:00, 6099.51it/s]\n"
     ]
    },
    {
     "name": "stdout",
     "output_type": "stream",
     "text": [
      "1411158 707301\n"
     ]
    }
   ],
   "source": [
    "split_paths(PVC_paths, 'PVC')"
   ]
  },
  {
   "cell_type": "code",
   "execution_count": null,
   "id": "5d4558e8",
   "metadata": {},
   "outputs": [],
   "source": []
  }
 ],
 "metadata": {
  "kernelspec": {
   "display_name": "Python 3 (ipykernel)",
   "language": "python",
   "name": "python3"
  },
  "language_info": {
   "codemirror_mode": {
    "name": "ipython",
    "version": 3
   },
   "file_extension": ".py",
   "mimetype": "text/x-python",
   "name": "python",
   "nbconvert_exporter": "python",
   "pygments_lexer": "ipython3",
   "version": "3.7.13"
  }
 },
 "nbformat": 4,
 "nbformat_minor": 5
}
