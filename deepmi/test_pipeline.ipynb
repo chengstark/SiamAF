{
 "cells": [
  {
   "cell_type": "code",
   "execution_count": 8,
   "id": "4da36343",
   "metadata": {},
   "outputs": [],
   "source": [
    "import torch\n",
    "import numpy as np\n",
    "from torch.utils.data import Dataset, DataLoader\n",
    "from dataset import Dataset_ori\n",
    "import pickle as pkl\n",
    "import torch\n",
    "import random\n",
    "import gc\n",
    "from datetime import datetime\n",
    "import psutil\n",
    "from resnet1d import Resnet34\n",
    "from sklearn.metrics import f1_score, accuracy_score, roc_auc_score, precision_recall_curve, auc\n",
    "import torch.nn.functional as F\n",
    "from tqdm import tqdm\n",
    "\n",
    "import os\n",
    "device = 'cuda'\n",
    "\n",
    "import pickle as pkl"
   ]
  },
  {
   "cell_type": "code",
   "execution_count": 9,
   "id": "14179c10",
   "metadata": {},
   "outputs": [],
   "source": [
    "# test_dataset = Dataset_ori('/labs/hulab/stark_stuff/ppg_ecg_project/data/x_test_2400.npy', '/labs/hulab/stark_stuff/ppg_ecg_project/data/y_test.npy')\n",
    "# testloader = DataLoader(test_dataset, batch_size=2500, shuffle=False, num_workers=2)"
   ]
  },
  {
   "cell_type": "code",
   "execution_count": 11,
   "id": "7af35fe0",
   "metadata": {},
   "outputs": [],
   "source": [
    "def test_epoch(PPG_model, test_loader, test_ds_name, patient_info_path=None):\n",
    "    with torch.no_grad():\n",
    "       \n",
    "\n",
    "        PPG_preds = None\n",
    "        all_targets = None\n",
    "        PPG_pred_probs = None\n",
    "\n",
    "        PPG_model.eval()\n",
    "        tstart = datetime.now()\n",
    "\n",
    "        for batch_idx, (PPG, target) in enumerate(test_loader):\n",
    "\n",
    "            PPG = PPG.to(device).float()\n",
    "            target = target.to(device).long()\n",
    "            \n",
    "            PPG_feature, PPG_out = PPG_model(PPG)\n",
    "#             print(PPG_feature.shape, PPG_out.shape)\n",
    "            PPG_predicted = PPG_out.argmax(1)\n",
    "            PPG_predicted_prob = F.softmax(PPG_out, dim=1)[:, 1]\n",
    "\n",
    "\n",
    "            if PPG_preds == None:\n",
    "                PPG_pred_probs = PPG_predicted_prob\n",
    "                PPG_preds = PPG_predicted\n",
    "                all_targets = target\n",
    "            else:\n",
    "                PPG_preds = torch.cat((PPG_preds, PPG_predicted))\n",
    "                PPG_pred_probs = torch.cat((PPG_pred_probs, PPG_predicted_prob))\n",
    "                all_targets = torch.cat((all_targets, target))\n",
    "        tend = datetime.now()\n",
    "        precision, recall, thresholds = precision_recall_curve(all_targets.detach().cpu().numpy(), PPG_pred_probs.detach().cpu().numpy())\n",
    "        pr_auc = auc(recall, precision)\n",
    "\n",
    "        print(f'[TEST] \\tPPG      F1: {round(f1_score(all_targets.detach().cpu().numpy(), PPG_preds.detach().cpu().numpy()), 4)}')\n",
    "        print(f'[TEST] \\tPPG ROC AUC: {round(roc_auc_score(all_targets.detach().cpu().numpy(), PPG_pred_probs.detach().cpu().numpy()), 4)}')\n",
    "        print(f'[TEST] \\tPPG PR  AUC: {round(pr_auc, 4)}')\n",
    "        \n",
    "        rounding = 3\n",
    "        if patient_info_path is not None:\n",
    "            print(patient_info_path)\n",
    "            patient_idx_dict = pkl.load(open(patient_info_path, 'rb'))\n",
    "            unique_patients = list(patient_idx_dict.keys())\n",
    "            all_bt_aurocs = []\n",
    "            all_bt_auprcs = []\n",
    "            all_bt_pred_probs = np.asarray([])\n",
    "            all_bt_targets = np.asarray([])\n",
    "            for i in tqdm(range(1000)):\n",
    "                np.random.seed(i)\n",
    "                random_sample_patients = np.random.choice(unique_patients, len(unique_patients), replace=True)\n",
    "                sample_idx = []\n",
    "                random_subsample_idx = []\n",
    "                for patient in random_sample_patients:\n",
    "                    random_subsample_idx += patient_idx_dict[patient]\n",
    "                random_subsample_idx = np.asarray(random_subsample_idx)\n",
    "                auroc = roc_auc_score(all_targets[random_subsample_idx].detach().cpu().numpy(), PPG_pred_probs[random_subsample_idx].detach().cpu().numpy())\n",
    "                precision, recall, thresholds = precision_recall_curve(all_targets[random_subsample_idx].detach().cpu().numpy(), PPG_pred_probs[random_subsample_idx].detach().cpu().numpy())\n",
    "                auprc = auc(recall, precision)\n",
    "\n",
    "                all_bt_pred_probs = np.concatenate((PPG_pred_probs[random_subsample_idx].detach().cpu().numpy().flatten(), all_bt_pred_probs))\n",
    "                all_bt_targets = np.concatenate((all_targets[random_subsample_idx].detach().cpu().numpy().flatten(), all_bt_targets))\n",
    "                all_bt_aurocs.append(auroc)\n",
    "                all_bt_auprcs.append(auprc)\n",
    "            all_bt_aurocs = np.asarray(all_bt_aurocs)\n",
    "            all_bt_auprcs = np.asarray(all_bt_auprcs)\n",
    "                        \n",
    "            np.save(f'/labs/hulab/stark_stuff/ppg_ecg_project/data/{test_ds_name}_deepmi_aurocs.npy', all_bt_aurocs)\n",
    "            np.save(f'/labs/hulab/stark_stuff/ppg_ecg_project/data/{test_ds_name}_deepmi_auprcs.npy', all_bt_auprcs)\n",
    "            np.save(f'/labs/hulab/stark_stuff/ppg_ecg_project/data/{test_ds_name}_deepmi_targets.npy', all_bt_targets)\n",
    "            np.save(f'/labs/hulab/stark_stuff/ppg_ecg_project/data/{test_ds_name}_deepmi_pred_probs.npy', all_bt_pred_probs)\n",
    "\n",
    "            print(f'\\t AUROC {round(np.mean(all_bt_aurocs), rounding)} [{round(np.mean(all_bt_aurocs) - 1.96 *  (np.std(all_bt_aurocs) / np.sqrt(len(all_bt_aurocs))) , rounding)} {round(np.mean(all_bt_aurocs) + 1.96 *  (np.std(all_bt_aurocs) / np.sqrt(len(all_bt_aurocs))) , rounding)}]')\n",
    "            print(f'\\t AUPRC {round(np.mean(all_bt_auprcs), rounding)} [{round(np.mean(all_bt_auprcs) - 1.96 *  (np.std(all_bt_auprcs) / np.sqrt(len(all_bt_auprcs))) , rounding)} {round(np.mean(all_bt_auprcs) + 1.96 *  (np.std(all_bt_auprcs) / np.sqrt(len(all_bt_auprcs))) , rounding)}]')\n"
   ]
  },
  {
   "cell_type": "code",
   "execution_count": 12,
   "id": "7556dd4a",
   "metadata": {},
   "outputs": [],
   "source": [
    "PPG_model = Resnet34().cuda()"
   ]
  },
  {
   "cell_type": "code",
   "execution_count": 13,
   "id": "958b80b0",
   "metadata": {},
   "outputs": [
    {
     "data": {
      "text/plain": [
       "<All keys matched successfully>"
      ]
     },
     "execution_count": 13,
     "metadata": {},
     "output_type": "execute_result"
    }
   ],
   "source": [
    "state_dict = torch.load('/home/zguo30/ppg_ecg_proj/deepmi/saved_models/corrected_epoch_40_ecglr_0.0001_ppglr_0.0001_lambda_0.9/PPG_best_5.pt') \n",
    "from collections import OrderedDict\n",
    "\n",
    "new_state_dict = OrderedDict()\n",
    "for k, v in state_dict.items():\n",
    "    name = k[7:] #remove 'module'\n",
    "    new_state_dict[name] = v\n",
    "    \n",
    "state_dict = new_state_dict\n",
    "\n",
    "PPG_model.load_state_dict(state_dict)"
   ]
  },
  {
   "cell_type": "code",
   "execution_count": 14,
   "id": "2d73be38",
   "metadata": {
    "scrolled": false
   },
   "outputs": [
    {
     "name": "stdout",
     "output_type": "stream",
     "text": [
      "data_simband_ecg_2400\n",
      "data_simband_ppg_2400\n",
      "/labs/hulab/Robust_learning_TESTDATA/data_simband_ppg_2400.npy\n",
      "/labs/hulab/Robust_learning_TESTDATA/label_simband.npy\n",
      "[TEST] \tPPG      F1: 0.7522\n",
      "[TEST] \tPPG ROC AUC: 0.891\n",
      "[TEST] \tPPG PR  AUC: 0.8486\n",
      "/labs/hulab/Robust_learning_TESTDATA/simband_patient_idx_dict.pkl\n"
     ]
    },
    {
     "name": "stderr",
     "output_type": "stream",
     "text": [
      "100%|██████████| 1000/1000 [00:03<00:00, 258.58it/s]\n"
     ]
    },
    {
     "name": "stdout",
     "output_type": "stream",
     "text": [
      "\t AUROC 0.891 [0.889 0.892]\n",
      "\t AUPRC 0.847 [0.844 0.85]\n",
      "\n",
      "data_ucla_ecg_2400\n",
      "data_ucla_ppg_2400\n",
      "/labs/hulab/Robust_learning_TESTDATA/data_ucla_ppg_2400.npy\n",
      "/labs/hulab/Robust_learning_TESTDATA/label_ucla_ppg.npy\n",
      "[TEST] \tPPG      F1: 0.7029\n",
      "[TEST] \tPPG ROC AUC: 0.9204\n",
      "[TEST] \tPPG PR  AUC: 0.7801\n",
      "/labs/hulab/Robust_learning_TESTDATA/UCLA_patient_idx_dict.pkl\n"
     ]
    },
    {
     "name": "stderr",
     "output_type": "stream",
     "text": [
      "100%|██████████| 1000/1000 [14:44<00:00,  1.13it/s]\n"
     ]
    },
    {
     "name": "stdout",
     "output_type": "stream",
     "text": [
      "\t AUROC 0.92 [0.918 0.922]\n",
      "\t AUPRC 0.778 [0.772 0.784]\n",
      "\n",
      "data_staford_2400\n",
      "/labs/hulab/Robust_learning_TESTDATA/data_staford_2400.npy\n",
      "/labs/hulab/Robust_learning_TESTDATA/label_staford.npy\n",
      "[TEST] \tPPG      F1: 0.5375\n",
      "[TEST] \tPPG ROC AUC: 0.7662\n",
      "[TEST] \tPPG PR  AUC: 0.621\n",
      "/labs/hulab/Robust_learning_TESTDATA/stanford_patient_idx_dict.pkl\n"
     ]
    },
    {
     "name": "stderr",
     "output_type": "stream",
     "text": [
      "100%|██████████| 1000/1000 [01:03<00:00, 15.84it/s]\n"
     ]
    },
    {
     "name": "stdout",
     "output_type": "stream",
     "text": [
      "\t AUROC 0.764 [0.763 0.766]\n",
      "\t AUPRC 0.613 [0.609 0.617]\n",
      "\n"
     ]
    }
   ],
   "source": [
    "testing_data_label_pairs = [\n",
    "    ['data_simband_ecg_2400.npy', 'label_simband.npy', '/labs/hulab/Robust_learning_TESTDATA/simband_patient_idx_dict.pkl'],\n",
    "    ['data_simband_ppg_2400.npy', 'label_simband.npy', '/labs/hulab/Robust_learning_TESTDATA/simband_patient_idx_dict.pkl'],\n",
    "    ['data_ucla_ecg_2400.npy', 'label_ucla_ecg.npy', '/labs/hulab/Robust_learning_TESTDATA/UCLA_patient_idx_dict.pkl'],\n",
    "    ['data_ucla_ppg_2400.npy', 'label_ucla_ppg.npy', '/labs/hulab/Robust_learning_TESTDATA/UCLA_patient_idx_dict.pkl'],\n",
    "    ['data_staford_2400.npy', 'label_staford.npy', '/labs/hulab/Robust_learning_TESTDATA/stanford_patient_idx_dict.pkl'],\n",
    "#     ['data_staford_goodquality_2400.npy', 'label_staford_goodquality.npy', '/labs/hulab/Robust_learning_TESTDATA/stanford_patient_idx_dict.pkl'],\n",
    "#     ['data_staford_badquality_2400.npy', 'label_staford_badquality.npy', '/labs/hulab/Robust_learning_TESTDATA/stanford_patient_idx_dict.pkl']\n",
    "]\n",
    "\n",
    "test_data_folder = '/labs/hulab/Robust_learning_TESTDATA/'\n",
    "for pair in testing_data_label_pairs:\n",
    "    \n",
    "    print(pair[0].split('.')[0].split('/')[-1])\n",
    "    \n",
    "    x_path = test_data_folder + pair[0]\n",
    "    y_path = test_data_folder + pair[1]\n",
    "    \n",
    "    if 'ppg' in pair[0] or 'staford' in pair[0]:\n",
    "\n",
    "        print(x_path)\n",
    "        print(y_path)\n",
    "        test_dataset = Dataset_ori(x_path, y_path)\n",
    "        testloader = DataLoader(test_dataset, batch_size=2500, shuffle=False, num_workers=0)\n",
    "\n",
    "        test_epoch(PPG_model, testloader, pair[0].split('.')[0], patient_info_path=pair[2] if len(pair)==3 else None)\n",
    "\n",
    "        print()"
   ]
  },
  {
   "cell_type": "code",
   "execution_count": 15,
   "id": "719dfdef",
   "metadata": {},
   "outputs": [],
   "source": [
    "ECG_model = Resnet34().cuda()"
   ]
  },
  {
   "cell_type": "code",
   "execution_count": 16,
   "id": "7caa6f7f",
   "metadata": {},
   "outputs": [
    {
     "data": {
      "text/plain": [
       "<All keys matched successfully>"
      ]
     },
     "execution_count": 16,
     "metadata": {},
     "output_type": "execute_result"
    }
   ],
   "source": [
    "state_dict = torch.load('/home/zguo30/ppg_ecg_proj/deepmi/saved_models/corrected_epoch_40_ecglr_0.0001_ppglr_0.0001_lambda_0.9/ECG_best_5.pt') \n",
    "from collections import OrderedDict\n",
    "\n",
    "new_state_dict = OrderedDict()\n",
    "for k, v in state_dict.items():\n",
    "    name = k[7:] #remove 'module'\n",
    "    new_state_dict[name] = v\n",
    "    \n",
    "state_dict = new_state_dict\n",
    "\n",
    "ECG_model.load_state_dict(state_dict)"
   ]
  },
  {
   "cell_type": "code",
   "execution_count": 17,
   "id": "ac79fe88",
   "metadata": {},
   "outputs": [
    {
     "name": "stdout",
     "output_type": "stream",
     "text": [
      "data_simband_ecg_2400\n",
      "/labs/hulab/Robust_learning_TESTDATA/data_simband_ecg_2400.npy\n",
      "/labs/hulab/Robust_learning_TESTDATA/label_simband.npy\n",
      "[TEST] \tPPG      F1: 0.6038\n",
      "[TEST] \tPPG ROC AUC: 0.7221\n",
      "[TEST] \tPPG PR  AUC: 0.6771\n",
      "/labs/hulab/Robust_learning_TESTDATA/simband_patient_idx_dict.pkl\n"
     ]
    },
    {
     "name": "stderr",
     "output_type": "stream",
     "text": [
      "100%|██████████| 1000/1000 [00:03<00:00, 272.51it/s]\n"
     ]
    },
    {
     "name": "stdout",
     "output_type": "stream",
     "text": [
      "\t AUROC 0.721 [0.718 0.723]\n",
      "\t AUPRC 0.675 [0.671 0.679]\n",
      "\n",
      "data_simband_ppg_2400\n",
      "data_ucla_ecg_2400\n",
      "/labs/hulab/Robust_learning_TESTDATA/data_ucla_ecg_2400.npy\n",
      "/labs/hulab/Robust_learning_TESTDATA/label_ucla_ecg.npy\n",
      "[TEST] \tPPG      F1: 0.7527\n",
      "[TEST] \tPPG ROC AUC: 0.9045\n",
      "[TEST] \tPPG PR  AUC: 0.7526\n",
      "/labs/hulab/Robust_learning_TESTDATA/UCLA_patient_idx_dict.pkl\n"
     ]
    },
    {
     "name": "stderr",
     "output_type": "stream",
     "text": [
      "100%|██████████| 1000/1000 [14:43<00:00,  1.13it/s]\n"
     ]
    },
    {
     "name": "stdout",
     "output_type": "stream",
     "text": [
      "\t AUROC 0.905 [0.902 0.907]\n",
      "\t AUPRC 0.749 [0.743 0.755]\n",
      "\n",
      "data_ucla_ppg_2400\n",
      "data_staford_2400\n"
     ]
    }
   ],
   "source": [
    "# testing_data_label_pairs = [\n",
    "#     ['data_simband_ecg_2400.npy', 'label_simband.npy'],\n",
    "#     ['data_simband_ppg_2400.npy', 'label_simband.npy'],\n",
    "#     ['data_ucla_ecg_2400.npy', 'label_ucla_ecg.npy'],\n",
    "#     ['data_ucla_ppg_2400.npy', 'label_ucla_ppg.npy'],\n",
    "#     ['data_staford_2400.npy', 'label_staford.npy'],\n",
    "#     ['data_staford_goodquality_2400.npy', 'label_staford_goodquality.npy'],\n",
    "#     ['data_staford_badquality_2400.npy', 'label_staford_badquality.npy']\n",
    "# ]\n",
    "\n",
    "test_data_folder = '/labs/hulab/Robust_learning_TESTDATA/'\n",
    "for pair in testing_data_label_pairs:\n",
    "    \n",
    "    print(pair[0].split('.')[0].split('/')[-1])\n",
    "    \n",
    "    x_path = test_data_folder + pair[0]\n",
    "    y_path = test_data_folder + pair[1]\n",
    "    \n",
    "    if 'ecg' in pair[0]:\n",
    "\n",
    "        print(x_path)\n",
    "        print(y_path)\n",
    "        test_dataset = Dataset_ori(x_path, y_path)\n",
    "        testloader = DataLoader(test_dataset, batch_size=2500, shuffle=False, num_workers=0)\n",
    "\n",
    "        test_epoch(ECG_model, testloader, pair[0].split('.')[0], patient_info_path=pair[2] if len(pair)==3 else None)\n",
    "\n",
    "        print()"
   ]
  },
  {
   "cell_type": "code",
   "execution_count": null,
   "id": "50f80a17",
   "metadata": {},
   "outputs": [],
   "source": []
  }
 ],
 "metadata": {
  "kernelspec": {
   "display_name": "base_pytorch",
   "language": "python",
   "name": "base_pytorch"
  },
  "language_info": {
   "codemirror_mode": {
    "name": "ipython",
    "version": 3
   },
   "file_extension": ".py",
   "mimetype": "text/x-python",
   "name": "python",
   "nbconvert_exporter": "python",
   "pygments_lexer": "ipython3",
   "version": "3.7.13"
  }
 },
 "nbformat": 4,
 "nbformat_minor": 5
}
