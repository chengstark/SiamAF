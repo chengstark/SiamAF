{
 "cells": [
  {
   "cell_type": "code",
   "execution_count": 8,
   "id": "fbd2d312",
   "metadata": {},
   "outputs": [],
   "source": [
    "import numpy as np\n",
    "from tqdm import tqdm\n",
    "from scipy.signal import resample\n",
    "import os"
   ]
  },
  {
   "cell_type": "code",
   "execution_count": 11,
   "id": "ff42526b",
   "metadata": {},
   "outputs": [
    {
     "name": "stdout",
     "output_type": "stream",
     "text": [
      "data_simband_2400.npy\t\t   data_ucla_badquality.npy\r\n",
      "data_simband_badquality_2400.npy   data_ucla_goodquality_2400.npy\r\n",
      "data_simband_badquality.npy\t   data_ucla_goodquality.npy\r\n",
      "data_simband_goodquality_2400.npy  data_ucla.npy\r\n",
      "data_simband_goodquality.npy\t   label_simband_badquality.npy\r\n",
      "data_simband.npy\t\t   label_simband_goodquality.npy\r\n",
      "data_staford_2400.npy\t\t   label_simband.npy\r\n",
      "data_staford_badquality_2400.npy   label_staford_badquality.npy\r\n",
      "data_staford_badquality.npy\t   label_staford_goodquality.npy\r\n",
      "data_staford_goodquality_2400.npy  label_staford.npy\r\n",
      "data_staford_goodquality.npy\t   label_ucla_badquality.npy\r\n",
      "data_staford.npy\t\t   label_ucla_goodquality.npy\r\n",
      "data_ucla_2400.npy\t\t   label_ucla.npy\r\n",
      "data_ucla_badquality_2400.npy\r\n"
     ]
    }
   ],
   "source": [
    "! ls /labs/hulab/Robust_learning_TESTDATA/"
   ]
  },
  {
   "cell_type": "code",
   "execution_count": 10,
   "id": "3eac379a",
   "metadata": {},
   "outputs": [
    {
     "name": "stderr",
     "output_type": "stream",
     "text": [
      "100%|██████████| 857/857 [00:00<00:00, 5744.45it/s]"
     ]
    },
    {
     "name": "stdout",
     "output_type": "stream",
     "text": [
      "data_simband.npy (857, 7200)\n",
      "(857, 2400)\n"
     ]
    },
    {
     "name": "stderr",
     "output_type": "stream",
     "text": [
      "\n",
      "100%|██████████| 172/172 [00:00<00:00, 6043.92it/s]\n",
      "  0%|          | 0/685 [00:00<?, ?it/s]"
     ]
    },
    {
     "name": "stdout",
     "output_type": "stream",
     "text": [
      "data_simband_goodquality.npy (172, 7200)\n",
      "(172, 2400)\n",
      "data_simband_badquality.npy (685, 7200)\n"
     ]
    },
    {
     "name": "stderr",
     "output_type": "stream",
     "text": [
      "100%|██████████| 685/685 [00:00<00:00, 5956.55it/s]\n"
     ]
    },
    {
     "name": "stdout",
     "output_type": "stream",
     "text": [
      "(685, 2400)\n"
     ]
    },
    {
     "name": "stderr",
     "output_type": "stream",
     "text": [
      " 15%|█▌        | 570/3683 [00:00<00:00, 5690.33it/s]"
     ]
    },
    {
     "name": "stdout",
     "output_type": "stream",
     "text": [
      "data_staford_goodquality.npy (3683, 7200)\n"
     ]
    },
    {
     "name": "stderr",
     "output_type": "stream",
     "text": [
      "100%|██████████| 3683/3683 [00:00<00:00, 5631.31it/s]\n"
     ]
    },
    {
     "name": "stdout",
     "output_type": "stream",
     "text": [
      "(3683, 2400)\n"
     ]
    },
    {
     "name": "stderr",
     "output_type": "stream",
     "text": [
      "  4%|▍         | 578/13934 [00:00<00:02, 5772.26it/s]"
     ]
    },
    {
     "name": "stdout",
     "output_type": "stream",
     "text": [
      "data_staford_badquality.npy (13934, 7200)\n"
     ]
    },
    {
     "name": "stderr",
     "output_type": "stream",
     "text": [
      "100%|██████████| 13934/13934 [00:02<00:00, 5630.91it/s]\n"
     ]
    },
    {
     "name": "stdout",
     "output_type": "stream",
     "text": [
      "(13934, 2400)\n"
     ]
    },
    {
     "name": "stderr",
     "output_type": "stream",
     "text": [
      "  3%|▎         | 602/17617 [00:00<00:02, 6018.47it/s]"
     ]
    },
    {
     "name": "stdout",
     "output_type": "stream",
     "text": [
      "data_staford.npy (17617, 7200)\n"
     ]
    },
    {
     "name": "stderr",
     "output_type": "stream",
     "text": [
      "100%|██████████| 17617/17617 [00:02<00:00, 5969.50it/s]\n"
     ]
    },
    {
     "name": "stdout",
     "output_type": "stream",
     "text": [
      "(17617, 2400)\n"
     ]
    },
    {
     "name": "stderr",
     "output_type": "stream",
     "text": [
      "  1%|          | 545/76233 [00:00<00:13, 5446.71it/s]"
     ]
    },
    {
     "name": "stdout",
     "output_type": "stream",
     "text": [
      "data_ucla_badquality.npy (76233, 7200)\n"
     ]
    },
    {
     "name": "stderr",
     "output_type": "stream",
     "text": [
      "100%|██████████| 76233/76233 [00:13<00:00, 5566.75it/s]\n"
     ]
    },
    {
     "name": "stdout",
     "output_type": "stream",
     "text": [
      "(76233, 2400)\n"
     ]
    },
    {
     "name": "stderr",
     "output_type": "stream",
     "text": [
      "  1%|          | 553/99533 [00:00<00:17, 5521.34it/s]"
     ]
    },
    {
     "name": "stdout",
     "output_type": "stream",
     "text": [
      "data_ucla_goodquality.npy (99533, 7200)\n"
     ]
    },
    {
     "name": "stderr",
     "output_type": "stream",
     "text": [
      "100%|██████████| 99533/99533 [00:17<00:00, 5635.55it/s]\n"
     ]
    },
    {
     "name": "stdout",
     "output_type": "stream",
     "text": [
      "(99533, 2400)\n"
     ]
    },
    {
     "name": "stderr",
     "output_type": "stream",
     "text": [
      "  0%|          | 548/175766 [00:00<00:31, 5478.03it/s]"
     ]
    },
    {
     "name": "stdout",
     "output_type": "stream",
     "text": [
      "data_ucla.npy (175766, 7200)\n"
     ]
    },
    {
     "name": "stderr",
     "output_type": "stream",
     "text": [
      "100%|██████████| 175766/175766 [00:31<00:00, 5547.02it/s]\n"
     ]
    },
    {
     "name": "stdout",
     "output_type": "stream",
     "text": [
      "(175766, 2400)\n"
     ]
    }
   ],
   "source": [
    "test_data_folder = '/labs/hulab/Robust_learning_TESTDATA/'\n",
    "for f in os.listdir(test_data_folder):\n",
    "    if 'data' in f:\n",
    "        \n",
    "        data = np.load(test_data_folder+f)\n",
    "        print(f, data.shape)\n",
    "        new_data = []\n",
    "        for x in tqdm(data):\n",
    "            new_data.append(resample(x, 2400))\n",
    "        new_data = np.asarray(new_data)\n",
    "        print(new_data.shape)\n",
    "        np.save(test_data_folder+f[:-4]+'_2400.npy', new_data)"
   ]
  },
  {
   "cell_type": "code",
   "execution_count": null,
   "id": "7799e023",
   "metadata": {},
   "outputs": [],
   "source": []
  }
 ],
 "metadata": {
  "kernelspec": {
   "display_name": "Python 3",
   "language": "python",
   "name": "python3"
  },
  "language_info": {
   "codemirror_mode": {
    "name": "ipython",
    "version": 3
   },
   "file_extension": ".py",
   "mimetype": "text/x-python",
   "name": "python",
   "nbconvert_exporter": "python",
   "pygments_lexer": "ipython3",
   "version": "3.6.12"
  }
 },
 "nbformat": 4,
 "nbformat_minor": 5
}
