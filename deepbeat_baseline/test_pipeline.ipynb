{
 "cells": [
  {
   "cell_type": "code",
   "execution_count": 1,
   "id": "edf724fa",
   "metadata": {},
   "outputs": [
    {
     "name": "stderr",
     "output_type": "stream",
     "text": [
      "Using TensorFlow backend.\n"
     ]
    },
    {
     "name": "stdout",
     "output_type": "stream",
     "text": [
      "1.15.2\n",
      "Python version:\n",
      "3.7.13 (default, Mar 29 2022, 02:18:16) \n",
      "[GCC 7.5.0]\n",
      "\n",
      "matplotlib version: 3.5.1\n",
      "pandas version: 1.3.5\n",
      "numpy version: 1.21.5\n",
      "sklearn version: 1.0.2\n",
      "keras version: 2.2.4\n"
     ]
    }
   ],
   "source": [
    "# import warnings\n",
    "# warnings.filterwarnings('ignore',category=FutureWarning)\n",
    "# import warnings\n",
    "# warnings.filterwarnings(\"ignore\")\n",
    "\n",
    "import sys\n",
    "#import os\n",
    "\n",
    "import matplotlib\n",
    "import matplotlib.pyplot as plt\n",
    "import pandas as pd\n",
    "import numpy as np\n",
    "import h5py as h5\n",
    "import sklearn\n",
    "from sklearn.multioutput import MultiOutputClassifier\n",
    "from sklearn import metrics\n",
    "from sklearn import preprocessing\n",
    "from sklearn.ensemble import RandomForestClassifier\n",
    "from sklearn.metrics import confusion_matrix, classification_report, average_precision_score, precision_recall_curve, accuracy_score, confusion_matrix  \n",
    "from sklearn.metrics import average_precision_score\n",
    "import pickle\n",
    "import keras\n",
    "from keras.models import load_model\n",
    "import tensorflow as tf\n",
    "# tf.enable_eager_execution()\n",
    "print(tf.__version__)\n",
    "# import util\n",
    "\n",
    "print(\"Python version:\\n{}\\n\".format(sys.version))\n",
    "print(\"matplotlib version: {}\".format(matplotlib.__version__))\n",
    "print(\"pandas version: {}\".format(pd.__version__))\n",
    "print(\"numpy version: {}\".format(np.__version__))\n",
    "print(\"sklearn version: {}\".format(sklearn.__version__))\n",
    "print(\"keras version: {}\".format(keras.__version__))\n",
    "import pickle as pkl"
   ]
  },
  {
   "cell_type": "code",
   "execution_count": 2,
   "id": "e5766661",
   "metadata": {
    "scrolled": false
   },
   "outputs": [
    {
     "name": "stdout",
     "output_type": "stream",
     "text": [
      "WARNING:tensorflow:From /labs/hulab/stark_conda/envs/base_keras/lib/python3.7/site-packages/keras/backend/tensorflow_backend.py:517: The name tf.placeholder is deprecated. Please use tf.compat.v1.placeholder instead.\n",
      "\n",
      "WARNING:tensorflow:From /labs/hulab/stark_conda/envs/base_keras/lib/python3.7/site-packages/keras/backend/tensorflow_backend.py:4138: The name tf.random_uniform is deprecated. Please use tf.random.uniform instead.\n",
      "\n",
      "WARNING:tensorflow:From /labs/hulab/stark_conda/envs/base_keras/lib/python3.7/site-packages/keras/backend/tensorflow_backend.py:3976: The name tf.nn.max_pool is deprecated. Please use tf.nn.max_pool2d instead.\n",
      "\n",
      "WARNING:tensorflow:From /labs/hulab/stark_conda/envs/base_keras/lib/python3.7/site-packages/keras/backend/tensorflow_backend.py:131: The name tf.get_default_graph is deprecated. Please use tf.compat.v1.get_default_graph instead.\n",
      "\n",
      "WARNING:tensorflow:From /labs/hulab/stark_conda/envs/base_keras/lib/python3.7/site-packages/keras/backend/tensorflow_backend.py:133: The name tf.placeholder_with_default is deprecated. Please use tf.compat.v1.placeholder_with_default instead.\n",
      "\n",
      "WARNING:tensorflow:From /labs/hulab/stark_conda/envs/base_keras/lib/python3.7/site-packages/keras/backend/tensorflow_backend.py:3445: calling dropout (from tensorflow.python.ops.nn_ops) with keep_prob is deprecated and will be removed in a future version.\n",
      "Instructions for updating:\n",
      "Please use `rate` instead of `keep_prob`. Rate should be set to `rate = 1 - keep_prob`.\n",
      "WARNING:tensorflow:Large dropout rate: 0.544997 (>0.5). In TensorFlow 2.x, dropout() uses dropout rate instead of keep_prob. Please ensure that this is intended.\n",
      "WARNING:tensorflow:Large dropout rate: 0.567864 (>0.5). In TensorFlow 2.x, dropout() uses dropout rate instead of keep_prob. Please ensure that this is intended.\n",
      "WARNING:tensorflow:Large dropout rate: 0.671769 (>0.5). In TensorFlow 2.x, dropout() uses dropout rate instead of keep_prob. Please ensure that this is intended.\n",
      "WARNING:tensorflow:From /labs/hulab/stark_conda/envs/base_keras/lib/python3.7/site-packages/keras/backend/tensorflow_backend.py:174: The name tf.get_default_session is deprecated. Please use tf.compat.v1.get_default_session instead.\n",
      "\n",
      "WARNING:tensorflow:From /labs/hulab/stark_conda/envs/base_keras/lib/python3.7/site-packages/keras/backend/tensorflow_backend.py:181: The name tf.ConfigProto is deprecated. Please use tf.compat.v1.ConfigProto instead.\n",
      "\n",
      "WARNING:tensorflow:From /labs/hulab/stark_conda/envs/base_keras/lib/python3.7/site-packages/keras/backend/tensorflow_backend.py:186: The name tf.Session is deprecated. Please use tf.compat.v1.Session instead.\n",
      "\n",
      "WARNING:tensorflow:From /labs/hulab/stark_conda/envs/base_keras/lib/python3.7/site-packages/keras/backend/tensorflow_backend.py:190: The name tf.global_variables is deprecated. Please use tf.compat.v1.global_variables instead.\n",
      "\n",
      "WARNING:tensorflow:From /labs/hulab/stark_conda/envs/base_keras/lib/python3.7/site-packages/keras/backend/tensorflow_backend.py:199: The name tf.is_variable_initialized is deprecated. Please use tf.compat.v1.is_variable_initialized instead.\n",
      "\n"
     ]
    },
    {
     "name": "stderr",
     "output_type": "stream",
     "text": [
      "2023-04-18 00:10:22.905289: I tensorflow/core/platform/cpu_feature_guard.cc:142] Your CPU supports instructions that this TensorFlow binary was not compiled to use: AVX2 FMA\n",
      "2023-04-18 00:10:22.913624: I tensorflow/core/platform/profile_utils/cpu_utils.cc:94] CPU Frequency: 2399980000 Hz\n",
      "2023-04-18 00:10:22.914755: I tensorflow/compiler/xla/service/service.cc:168] XLA service 0x55bdb52e4d20 initialized for platform Host (this does not guarantee that XLA will be used). Devices:\n",
      "2023-04-18 00:10:22.914782: I tensorflow/compiler/xla/service/service.cc:176]   StreamExecutor device (0): Host, Default Version\n",
      "2023-04-18 00:10:22.919668: I tensorflow/stream_executor/platform/default/dso_loader.cc:44] Successfully opened dynamic library libcuda.so.1\n",
      "2023-04-18 00:10:23.009709: I tensorflow/compiler/xla/service/service.cc:168] XLA service 0x55bdb5317c70 initialized for platform CUDA (this does not guarantee that XLA will be used). Devices:\n",
      "2023-04-18 00:10:23.009751: I tensorflow/compiler/xla/service/service.cc:176]   StreamExecutor device (0): Tesla P100-PCIE-12GB, Compute Capability 6.0\n",
      "2023-04-18 00:10:23.010205: I tensorflow/core/common_runtime/gpu/gpu_device.cc:1639] Found device 0 with properties: \n",
      "name: Tesla P100-PCIE-12GB major: 6 minor: 0 memoryClockRate(GHz): 1.3285\n",
      "pciBusID: 0000:08:00.0\n",
      "2023-04-18 00:10:23.010663: I tensorflow/stream_executor/platform/default/dso_loader.cc:44] Successfully opened dynamic library libcudart.so.10.0\n",
      "2023-04-18 00:10:23.012522: I tensorflow/stream_executor/platform/default/dso_loader.cc:44] Successfully opened dynamic library libcublas.so.10.0\n",
      "2023-04-18 00:10:23.014204: I tensorflow/stream_executor/platform/default/dso_loader.cc:44] Successfully opened dynamic library libcufft.so.10.0\n",
      "2023-04-18 00:10:23.014636: I tensorflow/stream_executor/platform/default/dso_loader.cc:44] Successfully opened dynamic library libcurand.so.10.0\n",
      "2023-04-18 00:10:23.016866: I tensorflow/stream_executor/platform/default/dso_loader.cc:44] Successfully opened dynamic library libcusolver.so.10.0\n",
      "2023-04-18 00:10:23.018557: I tensorflow/stream_executor/platform/default/dso_loader.cc:44] Successfully opened dynamic library libcusparse.so.10.0\n",
      "2023-04-18 00:10:23.024235: I tensorflow/stream_executor/platform/default/dso_loader.cc:44] Successfully opened dynamic library libcudnn.so.7\n",
      "2023-04-18 00:10:23.024807: I tensorflow/core/common_runtime/gpu/gpu_device.cc:1767] Adding visible gpu devices: 0\n",
      "2023-04-18 00:10:23.024860: I tensorflow/stream_executor/platform/default/dso_loader.cc:44] Successfully opened dynamic library libcudart.so.10.0\n",
      "2023-04-18 00:10:23.026142: I tensorflow/core/common_runtime/gpu/gpu_device.cc:1180] Device interconnect StreamExecutor with strength 1 edge matrix:\n",
      "2023-04-18 00:10:23.026164: I tensorflow/core/common_runtime/gpu/gpu_device.cc:1186]      0 \n",
      "2023-04-18 00:10:23.026175: I tensorflow/core/common_runtime/gpu/gpu_device.cc:1199] 0:   N \n",
      "2023-04-18 00:10:23.026789: I tensorflow/core/common_runtime/gpu/gpu_device.cc:1325] Created TensorFlow device (/job:localhost/replica:0/task:0/device:GPU:0 with 3959 MB memory) -> physical GPU (device: 0, name: Tesla P100-PCIE-12GB, pci bus id: 0000:08:00.0, compute capability: 6.0)\n"
     ]
    },
    {
     "name": "stdout",
     "output_type": "stream",
     "text": [
      "WARNING:tensorflow:From /labs/hulab/stark_conda/envs/base_keras/lib/python3.7/site-packages/keras/backend/tensorflow_backend.py:206: The name tf.variables_initializer is deprecated. Please use tf.compat.v1.variables_initializer instead.\n",
      "\n",
      "WARNING:tensorflow:From /labs/hulab/stark_conda/envs/base_keras/lib/python3.7/site-packages/keras/optimizers.py:790: The name tf.train.Optimizer is deprecated. Please use tf.compat.v1.train.Optimizer instead.\n",
      "\n",
      "WARNING:tensorflow:From /labs/hulab/stark_conda/envs/base_keras/lib/python3.7/site-packages/keras/backend/tensorflow_backend.py:3295: The name tf.log is deprecated. Please use tf.math.log instead.\n",
      "\n",
      "WARNING:tensorflow:From /labs/hulab/stark_conda/envs/base_keras/lib/python3.7/site-packages/tensorflow_core/python/ops/nn_impl.py:183: where (from tensorflow.python.ops.array_ops) is deprecated and will be removed in a future version.\n",
      "Instructions for updating:\n",
      "Use tf.where in 2.0, which has the same broadcast rule as np.where\n",
      "WARNING:tensorflow:From /labs/hulab/stark_conda/envs/base_keras/lib/python3.7/site-packages/keras/backend/tensorflow_backend.py:986: The name tf.assign_add is deprecated. Please use tf.compat.v1.assign_add instead.\n",
      "\n",
      "WARNING:tensorflow:From /labs/hulab/stark_conda/envs/base_keras/lib/python3.7/site-packages/keras/backend/tensorflow_backend.py:973: The name tf.assign is deprecated. Please use tf.compat.v1.assign instead.\n",
      "\n"
     ]
    }
   ],
   "source": [
    "model = load_model('deepbeat.h5')"
   ]
  },
  {
   "cell_type": "code",
   "execution_count": 3,
   "id": "f3688a50",
   "metadata": {},
   "outputs": [],
   "source": [
    "from scipy.signal import resample\n",
    "from tqdm.auto import tqdm\n",
    "from sklearn.metrics import f1_score, accuracy_score, roc_auc_score, precision_recall_curve, auc\n",
    "from scipy.special import softmax"
   ]
  },
  {
   "cell_type": "code",
   "execution_count": 4,
   "id": "d01b9b9c",
   "metadata": {},
   "outputs": [],
   "source": [
    "# testing_data_label_pairs = [\n",
    "#     ['data_simband_ecg_2400.npy', 'label_simband.npy'],\n",
    "#     ['data_simband_ppg_2400.npy', 'label_simband.npy'],\n",
    "#     ['data_ucla_ecg_2400.npy', 'label_ucla_ecg.npy'],\n",
    "#     ['data_ucla_ppg_2400.npy', 'label_ucla_ppg.npy'],\n",
    "#     ['data_staford_2400.npy', 'label_staford.npy'],\n",
    "#     ['data_staford_goodquality_2400.npy', 'label_staford_goodquality.npy'],\n",
    "#     ['data_staford_badquality_2400.npy', 'label_staford_badquality.npy']\n",
    "# ]\n",
    "\n",
    "# test_data_folder = '/labs/hulab/Robust_learning_TESTDATA/'\n",
    "# for pair in testing_data_label_pairs:\n",
    "    \n",
    "#     print(pair[0].split('.')[0].split('/')[-1])\n",
    "    \n",
    "#     x_path = test_data_folder + pair[0]\n",
    "#     y_path = test_data_folder + pair[1]\n",
    "#     x_id = pair[0].split('.')[0][:-5]\n",
    "\n",
    "#     x = np.load(x_path)\n",
    "# #     y = np.load(y)\n",
    "#     x_resampled = []\n",
    "\n",
    "#     for x in tqdm(x):\n",
    "#         resampled = resample(x, 800)\n",
    "#         resampled = (resampled - np.min(resampled) / np.max(resampled) - np.min(resampled))\n",
    "#         x_resampled.append(resampled)\n",
    "        \n",
    "#     x_resampled = np.asarray(x_resampled)\n",
    "#     x_resampled = x_resampled.reshape(x_resampled.shape[0], x_resampled.shape[1], 1)\n",
    "\n",
    "#     print(x_resampled.shape)\n",
    "#     np.save(test_data_folder+x_id+'_800.npy', x_resampled)\n",
    "        \n",
    "        \n",
    "\n",
    "#     print(x_path)\n",
    "#     print(y_path)"
   ]
  },
  {
   "cell_type": "code",
   "execution_count": 5,
   "id": "05d8bb89",
   "metadata": {},
   "outputs": [
    {
     "name": "stdout",
     "output_type": "stream",
     "text": [
      "data_simband_ecg_800\n",
      "/labs/hulab/Robust_learning_TESTDATA/data_simband_ecg_800.npy\n",
      "/labs/hulab/Robust_learning_TESTDATA/label_simband.npy\n"
     ]
    },
    {
     "name": "stderr",
     "output_type": "stream",
     "text": [
      "2023-04-18 00:10:44.605128: I tensorflow/stream_executor/platform/default/dso_loader.cc:44] Successfully opened dynamic library libcublas.so.10.0\n",
      "2023-04-18 00:10:44.755302: I tensorflow/stream_executor/platform/default/dso_loader.cc:44] Successfully opened dynamic library libcudnn.so.7\n"
     ]
    },
    {
     "name": "stdout",
     "output_type": "stream",
     "text": [
      "[TEST] \tPPG      F1: 0.0792\n",
      "[TEST] \tPPG ROC AUC: 0.6058\n",
      "[TEST] \tPPG PR  AUC: 0.4959\n",
      "/labs/hulab/Robust_learning_TESTDATA/simband_patient_idx_dict.pkl\n"
     ]
    },
    {
     "data": {
      "application/vnd.jupyter.widget-view+json": {
       "model_id": "2e040c51527544b7bc4d69d8b191ab3e",
       "version_major": 2,
       "version_minor": 0
      },
      "text/plain": [
       "  0%|          | 0/1000 [00:00<?, ?it/s]"
      ]
     },
     "metadata": {},
     "output_type": "display_data"
    },
    {
     "name": "stdout",
     "output_type": "stream",
     "text": [
      "(856988,) (856988,)\n",
      "\t AUROC 0.605 [0.603 0.608]\n",
      "\t AUPRC 0.498 [0.494 0.502]\n",
      "\n",
      "data_simband_ppg_800\n",
      "/labs/hulab/Robust_learning_TESTDATA/data_simband_ppg_800.npy\n",
      "/labs/hulab/Robust_learning_TESTDATA/label_simband.npy\n",
      "[TEST] \tPPG      F1: 0.752\n",
      "[TEST] \tPPG ROC AUC: 0.8706\n",
      "[TEST] \tPPG PR  AUC: 0.8019\n",
      "/labs/hulab/Robust_learning_TESTDATA/simband_patient_idx_dict.pkl\n"
     ]
    },
    {
     "data": {
      "application/vnd.jupyter.widget-view+json": {
       "model_id": "5d3d8aac8948471387a6405ced76d248",
       "version_major": 2,
       "version_minor": 0
      },
      "text/plain": [
       "  0%|          | 0/1000 [00:00<?, ?it/s]"
      ]
     },
     "metadata": {},
     "output_type": "display_data"
    },
    {
     "name": "stdout",
     "output_type": "stream",
     "text": [
      "(856988,) (856988,)\n",
      "\t AUROC 0.87 [0.868 0.871]\n",
      "\t AUPRC 0.799 [0.796 0.803]\n",
      "\n",
      "data_ucla_ecg_800\n",
      "/labs/hulab/Robust_learning_TESTDATA/data_ucla_ecg_800.npy\n",
      "/labs/hulab/Robust_learning_TESTDATA/label_ucla_ecg.npy\n",
      "[TEST] \tPPG      F1: 0.2687\n",
      "[TEST] \tPPG ROC AUC: 0.6071\n",
      "[TEST] \tPPG PR  AUC: 0.2027\n",
      "/labs/hulab/Robust_learning_TESTDATA/UCLA_patient_idx_dict.pkl\n"
     ]
    },
    {
     "data": {
      "application/vnd.jupyter.widget-view+json": {
       "model_id": "2259ba6a15a341de8a4feeaa32544147",
       "version_major": 2,
       "version_minor": 0
      },
      "text/plain": [
       "  0%|          | 0/1000 [00:00<?, ?it/s]"
      ]
     },
     "metadata": {},
     "output_type": "display_data"
    },
    {
     "name": "stdout",
     "output_type": "stream",
     "text": [
      "(250683755,) (250683755,)\n",
      "\t AUROC 0.606 [0.603 0.609]\n",
      "\t AUPRC 0.205 [0.201 0.208]\n",
      "\n",
      "data_ucla_ppg_800\n",
      "/labs/hulab/Robust_learning_TESTDATA/data_ucla_ppg_800.npy\n",
      "/labs/hulab/Robust_learning_TESTDATA/label_ucla_ppg.npy\n",
      "[TEST] \tPPG      F1: 0.5728\n",
      "[TEST] \tPPG ROC AUC: 0.8719\n",
      "[TEST] \tPPG PR  AUC: 0.6156\n",
      "/labs/hulab/Robust_learning_TESTDATA/UCLA_patient_idx_dict.pkl\n"
     ]
    },
    {
     "data": {
      "application/vnd.jupyter.widget-view+json": {
       "model_id": "a9286c88189d4509843755e0e05f58d1",
       "version_major": 2,
       "version_minor": 0
      },
      "text/plain": [
       "  0%|          | 0/1000 [00:00<?, ?it/s]"
      ]
     },
     "metadata": {},
     "output_type": "display_data"
    },
    {
     "name": "stdout",
     "output_type": "stream",
     "text": [
      "(250683755,) (250683755,)\n",
      "\t AUROC 0.872 [0.87 0.875]\n",
      "\t AUPRC 0.607 [0.601 0.613]\n",
      "\n",
      "data_staford_800\n",
      "/labs/hulab/Robust_learning_TESTDATA/data_staford_800.npy\n",
      "/labs/hulab/Robust_learning_TESTDATA/label_staford.npy\n",
      "[TEST] \tPPG      F1: 0.6396\n",
      "[TEST] \tPPG ROC AUC: 0.8835\n",
      "[TEST] \tPPG PR  AUC: 0.7321\n",
      "/labs/hulab/Robust_learning_TESTDATA/stanford_patient_idx_dict.pkl\n"
     ]
    },
    {
     "data": {
      "application/vnd.jupyter.widget-view+json": {
       "model_id": "2ac4db7c8f3f420884256249ae55a83c",
       "version_major": 2,
       "version_minor": 0
      },
      "text/plain": [
       "  0%|          | 0/1000 [00:00<?, ?it/s]"
      ]
     },
     "metadata": {},
     "output_type": "display_data"
    },
    {
     "name": "stdout",
     "output_type": "stream",
     "text": [
      "(17556623,) (17556623,)\n",
      "\t AUROC 0.883 [0.882 0.884]\n",
      "\t AUPRC 0.726 [0.723 0.73]\n",
      "\n"
     ]
    }
   ],
   "source": [
    "testing_data_label_pairs = [\n",
    "    ['data_simband_ecg_800.npy', 'label_simband.npy', '/labs/hulab/Robust_learning_TESTDATA/simband_patient_idx_dict.pkl'],\n",
    "    ['data_simband_ppg_800.npy', 'label_simband.npy', '/labs/hulab/Robust_learning_TESTDATA/simband_patient_idx_dict.pkl'],\n",
    "    ['data_ucla_ecg_800.npy', 'label_ucla_ecg.npy', '/labs/hulab/Robust_learning_TESTDATA/UCLA_patient_idx_dict.pkl'],\n",
    "    ['data_ucla_ppg_800.npy', 'label_ucla_ppg.npy', '/labs/hulab/Robust_learning_TESTDATA/UCLA_patient_idx_dict.pkl'],\n",
    "    ['data_staford_800.npy', 'label_staford.npy', '/labs/hulab/Robust_learning_TESTDATA/stanford_patient_idx_dict.pkl'],\n",
    "#     ['data_staford_goodquality_800.npy', 'label_staford_goodquality.npy', '/labs/hulab/Robust_learning_TESTDATA/stanford_patient_idx_dict.pkl'],\n",
    "#     ['data_staford_badquality_800.npy', 'label_staford_badquality.npy', '/labs/hulab/Robust_learning_TESTDATA/stanford_patient_idx_dict.pkl']\n",
    "]\n",
    "test_data_folder = '/labs/hulab/Robust_learning_TESTDATA/'\n",
    "for pair in testing_data_label_pairs:\n",
    "    \n",
    "    print(pair[0].split('.')[0].split('/')[-1])\n",
    "    \n",
    "    x_path = test_data_folder + pair[0]\n",
    "    y_path = test_data_folder + pair[1]\n",
    "    patient_info_path = pair[2]\n",
    "    test_ds_name = pair[0].split('.')[0]\n",
    "    print(x_path)\n",
    "    print(y_path)\n",
    "\n",
    "    x = np.load(x_path)\n",
    "    y = np.load(y_path)\n",
    "    \n",
    "    PPG_out = model.predict(x)[1]\n",
    "    PPG_preds = PPG_out.argmax(1)\n",
    "    PPG_pred_probs = softmax(PPG_out, axis=1)[:, 1]\n",
    "        \n",
    "    all_targets = y\n",
    "    \n",
    "    precision, recall, thresholds = precision_recall_curve(all_targets, PPG_pred_probs)\n",
    "    pr_auc = auc(recall, precision)\n",
    "\n",
    "    print(f'[TEST] \\tPPG      F1: {round(f1_score(all_targets, PPG_preds), 4)}')\n",
    "    print(f'[TEST] \\tPPG ROC AUC: {round(roc_auc_score(all_targets, PPG_pred_probs), 4)}')\n",
    "    print(f'[TEST] \\tPPG PR  AUC: {round(pr_auc, 4)}')\n",
    "    \n",
    "    \n",
    "    rounding = 3\n",
    "    if patient_info_path is not None:\n",
    "        print(patient_info_path)\n",
    "        patient_idx_dict = pkl.load(open(patient_info_path, 'rb'))\n",
    "        unique_patients = list(patient_idx_dict.keys())\n",
    "        all_bt_aurocs = []\n",
    "        all_bt_auprcs = []\n",
    "        all_bt_pred_probs = np.asarray([])\n",
    "        all_bt_targets = np.asarray([])\n",
    "        for i in tqdm(range(1000)):\n",
    "            np.random.seed(i)\n",
    "            random_sample_patients = np.random.choice(unique_patients, len(unique_patients), replace=True)\n",
    "            sample_idx = []\n",
    "            random_subsample_idx = []\n",
    "            for patient in random_sample_patients:\n",
    "                random_subsample_idx += patient_idx_dict[patient]\n",
    "            random_subsample_idx = np.asarray(random_subsample_idx)\n",
    "\n",
    "            auroc = roc_auc_score(all_targets[random_subsample_idx], PPG_pred_probs[random_subsample_idx])\n",
    "            precision, recall, thresholds = precision_recall_curve(all_targets[random_subsample_idx], PPG_pred_probs[random_subsample_idx])\n",
    "            auprc = auc(recall, precision)\n",
    "\n",
    "            all_bt_pred_probs = np.concatenate((PPG_pred_probs[random_subsample_idx], all_bt_pred_probs))\n",
    "            all_bt_targets = np.concatenate((all_targets[random_subsample_idx], all_bt_targets))\n",
    "            all_bt_aurocs.append(auroc)\n",
    "            all_bt_auprcs.append(auprc)\n",
    "\n",
    "        all_bt_aurocs = np.asarray(all_bt_aurocs)\n",
    "        all_bt_auprcs = np.asarray(all_bt_auprcs)\n",
    "        \n",
    "        print(all_bt_targets.shape, all_bt_pred_probs.shape)\n",
    "        \n",
    "        np.save(f'/labs/hulab/stark_stuff/ppg_ecg_project/data/{test_ds_name}_deepbeat_aurocs.npy', all_bt_aurocs)\n",
    "        np.save(f'/labs/hulab/stark_stuff/ppg_ecg_project/data/{test_ds_name}_deepbeat_auprcs.npy', all_bt_auprcs)\n",
    "        np.save(f'/labs/hulab/stark_stuff/ppg_ecg_project/data/{test_ds_name}_deepbeat_targets.npy', all_bt_targets)\n",
    "        np.save(f'/labs/hulab/stark_stuff/ppg_ecg_project/data/{test_ds_name}_deepbeat_pred_probs.npy', all_bt_pred_probs)\n",
    "\n",
    "        print(f'\\t AUROC {round(np.mean(all_bt_aurocs), rounding)} [{round(np.mean(all_bt_aurocs) - 1.96 *  (np.std(all_bt_aurocs) / np.sqrt(len(all_bt_aurocs))) , rounding)} {round(np.mean(all_bt_aurocs) + 1.96 *  (np.std(all_bt_aurocs) / np.sqrt(len(all_bt_aurocs))) , rounding)}]')\n",
    "        print(f'\\t AUPRC {round(np.mean(all_bt_auprcs), rounding)} [{round(np.mean(all_bt_auprcs) - 1.96 *  (np.std(all_bt_auprcs) / np.sqrt(len(all_bt_auprcs))) , rounding)} {round(np.mean(all_bt_auprcs) + 1.96 *  (np.std(all_bt_auprcs) / np.sqrt(len(all_bt_auprcs))) , rounding)}]')\n",
    "\n",
    "    print()\n",
    "    \n",
    "#     break"
   ]
  },
  {
   "cell_type": "code",
   "execution_count": 19,
   "id": "5abff6dd",
   "metadata": {},
   "outputs": [],
   "source": [
    "# mv /labs/hulab/Robust_learning_TESTDATA/data_ucl_800.npy /labs/hulab/Robust_learning_TESTDATA/trash/data_ucl_800.npy"
   ]
  },
  {
   "cell_type": "code",
   "execution_count": null,
   "id": "7d34304f",
   "metadata": {},
   "outputs": [],
   "source": []
  }
 ],
 "metadata": {
  "kernelspec": {
   "display_name": "base_keras",
   "language": "python",
   "name": "base_keras"
  },
  "language_info": {
   "codemirror_mode": {
    "name": "ipython",
    "version": 3
   },
   "file_extension": ".py",
   "mimetype": "text/x-python",
   "name": "python",
   "nbconvert_exporter": "python",
   "pygments_lexer": "ipython3",
   "version": "3.7.13"
  }
 },
 "nbformat": 4,
 "nbformat_minor": 5
}
