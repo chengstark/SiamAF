{
 "cells": [
  {
   "cell_type": "code",
   "execution_count": 10,
   "id": "6947f463",
   "metadata": {},
   "outputs": [],
   "source": [
    "import torch\n",
    "import torch.nn as nn\n",
    "import torch.nn.functional as F \n",
    "from resnet1d import *\n",
    "from resnet_zoo import *\n",
    "from dataset import Dataset_per_file, Dataset_whole, Dataset_ori\n",
    "from torch.utils.data import DataLoader\n",
    "import torch\n",
    "import torch.optim as optim\n",
    "import torch.nn as nn\n",
    "import torch.nn.functional as F\n",
    "from datetime import datetime\n",
    "from torch.autograd import Variable\n",
    "import os\n",
    "import numpy as np\n",
    "from tqdm import tqdm\n",
    "import argparse\n",
    "import random\n",
    "from sklearn.metrics import f1_score, accuracy_score, roc_auc_score, precision_recall_curve, auc\n",
    "import sys\n",
    "import os\n",
    "\n",
    "from collections import OrderedDict\n"
   ]
  },
  {
   "cell_type": "code",
   "execution_count": 16,
   "id": "90142996",
   "metadata": {},
   "outputs": [],
   "source": [
    "def test_epoch(PPG_model, test_loader, baseline=False):\n",
    "    with torch.no_grad():\n",
    "       \n",
    "\n",
    "        PPG_preds = None\n",
    "        PPG_pred_probs = None\n",
    "        all_targets = None\n",
    "        \n",
    "        PPG_model.eval()\n",
    "        tstart = datetime.now()\n",
    "\n",
    "        for batch_idx, (PPG, target) in enumerate(test_loader):\n",
    "\n",
    "            PPG = PPG.cuda().float()\n",
    "            target = target.cuda().long()\n",
    "            \n",
    "            if baseline:\n",
    "                _, PPG_out = model(PPG, PPG)\n",
    "            else:\n",
    "                _, _, _, _, _, PPG_out = model(PPG, PPG)\n",
    "            \n",
    "            PPG_predicted = PPG_out.argmax(1)\n",
    "            PPG_predicted_prob = F.softmax(PPG_out, dim=1)[:, 1]\n",
    "\n",
    "            if PPG_preds == None:\n",
    "                PPG_pred_probs = PPG_predicted_prob\n",
    "                PPG_preds = PPG_predicted\n",
    "                all_targets = target\n",
    "            else:\n",
    "                PPG_preds = torch.cat((PPG_preds, PPG_predicted))\n",
    "                PPG_pred_probs = torch.cat((PPG_pred_probs, PPG_predicted_prob))\n",
    "                all_targets = torch.cat((all_targets, target))\n",
    "        tend = datetime.now()\n",
    "\n",
    "        precision, recall, thresholds = precision_recall_curve(all_targets.detach().cpu().numpy(), PPG_pred_probs.detach().cpu().numpy())\n",
    "        pr_auc = auc(recall, precision)\n",
    "\n",
    "        print(f'[TEST] \\tPPG      F1: {round(f1_score(all_targets.detach().cpu().numpy(), PPG_preds.detach().cpu().numpy()), 4)}')\n",
    "        print(f'[TEST] \\tPPG ROC AUC: {round(roc_auc_score(all_targets.detach().cpu().numpy(), PPG_pred_probs.detach().cpu().numpy()), 4)}')\n",
    "        print(f'[TEST] \\tPPG PR  AUC: {round(pr_auc, 4)}')\n"
   ]
  },
  {
   "cell_type": "markdown",
   "id": "6f3c2aa0",
   "metadata": {},
   "source": [
    "# SimSiam"
   ]
  },
  {
   "cell_type": "code",
   "execution_count": 17,
   "id": "7e4bfa31",
   "metadata": {},
   "outputs": [],
   "source": [
    "MODEL_PATH = '/home/zguo30/ppg_ecg_proj/simsiam/saved_models/resnet_50_epoch_40_ecglr_0.0001_ppglr_0.0001_lambda_1.0_dim1_1024_dim2_256_pred_True_splitheads/model_3.pt'"
   ]
  },
  {
   "cell_type": "code",
   "execution_count": 18,
   "id": "bbd9ea1f",
   "metadata": {},
   "outputs": [],
   "source": [
    "model = Res50SimSiam(1024, 256, predictor=True).cuda()"
   ]
  },
  {
   "cell_type": "code",
   "execution_count": 19,
   "id": "a09ab1f2",
   "metadata": {},
   "outputs": [
    {
     "data": {
      "text/plain": [
       "<All keys matched successfully>"
      ]
     },
     "execution_count": 19,
     "metadata": {},
     "output_type": "execute_result"
    }
   ],
   "source": [
    "state_dict = torch.load(MODEL_PATH) \n",
    "new_state_dict = OrderedDict()\n",
    "for k, v in state_dict.items():\n",
    "    name = k[7:] #remove 'module'\n",
    "    new_state_dict[name] = v\n",
    "    \n",
    "state_dict = new_state_dict\n",
    "model.load_state_dict(state_dict)"
   ]
  },
  {
   "cell_type": "code",
   "execution_count": null,
   "id": "332b625f",
   "metadata": {
    "scrolled": false
   },
   "outputs": [
    {
     "name": "stdout",
     "output_type": "stream",
     "text": [
      "data_simband_2400\n",
      "/labs/hulab/Robust_learning_TESTDATA/data_simband_2400.npy\n",
      "/labs/hulab/Robust_learning_TESTDATA/label_simband.npy\n",
      "[TEST] \tPPG      F1: 0.7221\n",
      "[TEST] \tPPG ROC AUC: 0.9051\n",
      "[TEST] \tPPG PR  AUC: 0.8438\n",
      "\n",
      "data_simband_badquality_2400\n",
      "/labs/hulab/Robust_learning_TESTDATA/data_simband_badquality_2400.npy\n",
      "/labs/hulab/Robust_learning_TESTDATA/label_simband_badquality.npy\n",
      "[TEST] \tPPG      F1: 0.6973\n",
      "[TEST] \tPPG ROC AUC: 0.87\n",
      "[TEST] \tPPG PR  AUC: 0.8228\n",
      "\n",
      "data_simband_goodquality_2400\n",
      "/labs/hulab/Robust_learning_TESTDATA/data_simband_goodquality_2400.npy\n",
      "/labs/hulab/Robust_learning_TESTDATA/label_simband_goodquality.npy\n",
      "[TEST] \tPPG      F1: 0.9167\n",
      "[TEST] \tPPG ROC AUC: 0.9977\n",
      "[TEST] \tPPG PR  AUC: 0.991\n",
      "\n",
      "data_staford_2400\n",
      "/labs/hulab/Robust_learning_TESTDATA/data_staford_2400.npy\n",
      "/labs/hulab/Robust_learning_TESTDATA/label_staford.npy\n",
      "[TEST] \tPPG      F1: 0.5937\n",
      "[TEST] \tPPG ROC AUC: 0.8545\n",
      "[TEST] \tPPG PR  AUC: 0.6906\n",
      "\n",
      "data_staford_badquality_2400\n",
      "/labs/hulab/Robust_learning_TESTDATA/data_staford_badquality_2400.npy\n",
      "/labs/hulab/Robust_learning_TESTDATA/label_staford_badquality.npy\n",
      "[TEST] \tPPG      F1: 0.5583\n",
      "[TEST] \tPPG ROC AUC: 0.7929\n",
      "[TEST] \tPPG PR  AUC: 0.6226\n",
      "\n",
      "data_staford_goodquality_2400\n",
      "/labs/hulab/Robust_learning_TESTDATA/data_staford_goodquality_2400.npy\n",
      "/labs/hulab/Robust_learning_TESTDATA/label_staford_goodquality.npy\n",
      "[TEST] \tPPG      F1: 0.949\n",
      "[TEST] \tPPG ROC AUC: 0.9987\n",
      "[TEST] \tPPG PR  AUC: 0.9934\n",
      "\n",
      "data_ucla_2400\n",
      "/labs/hulab/Robust_learning_TESTDATA/data_ucla_2400.npy\n",
      "/labs/hulab/Robust_learning_TESTDATA/label_ucla.npy\n",
      "[TEST] \tPPG      F1: 0.7209\n",
      "[TEST] \tPPG ROC AUC: 0.9672\n",
      "[TEST] \tPPG PR  AUC: 0.7989\n",
      "\n",
      "data_ucla_badquality_2400\n",
      "/labs/hulab/Robust_learning_TESTDATA/data_ucla_badquality_2400.npy\n",
      "/labs/hulab/Robust_learning_TESTDATA/label_ucla_badquality.npy\n"
     ]
    }
   ],
   "source": [
    "\n",
    "test_data_folder = '/labs/hulab/Robust_learning_TESTDATA/'\n",
    "for f in sorted(os.listdir(test_data_folder)):\n",
    "    if '2400' in f and 'sully' not in f:\n",
    "        \n",
    "        x_path = test_data_folder + f\n",
    "        y_path = test_data_folder + 'label_'+'_'.join(f[:-4].split('_')[1:-1]) + '.npy'\n",
    "\n",
    "        print(f[:-4])\n",
    "        print(x_path)\n",
    "        print(y_path)\n",
    "        test_dataset = Dataset_ori(x_path, y_path)\n",
    "        testloader = DataLoader(test_dataset, batch_size=2500, shuffle=False, num_workers=0)\n",
    "\n",
    "        test_epoch(model, testloader)\n",
    "\n",
    "        print()"
   ]
  }
 ],
 "metadata": {
  "kernelspec": {
   "display_name": "base_pytorch",
   "language": "python",
   "name": "base_pytorch"
  },
  "language_info": {
   "codemirror_mode": {
    "name": "ipython",
    "version": 3
   },
   "file_extension": ".py",
   "mimetype": "text/x-python",
   "name": "python",
   "nbconvert_exporter": "python",
   "pygments_lexer": "ipython3",
   "version": "3.7.13"
  }
 },
 "nbformat": 4,
 "nbformat_minor": 5
}
