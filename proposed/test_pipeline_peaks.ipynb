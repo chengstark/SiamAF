{
 "cells": [
  {
   "cell_type": "code",
   "execution_count": 3,
   "id": "6947f463",
   "metadata": {},
   "outputs": [],
   "source": [
    "import torch\n",
    "import torch.nn as nn\n",
    "import torch.nn.functional as F \n",
    "from resnet1d import Res34SimSiam, Res34SimSiamSplitHeads, Resnet34, Resnet34Baseline, ResBlock\n",
    "from dataset import Dataset_per_file, Dataset_whole, Dataset_ori, Dataset_valsubset\n",
    "from torch.utils.data import DataLoader, Subset\n",
    "import torch\n",
    "import torch.optim as optim\n",
    "import torch.nn as nn\n",
    "import torch.nn.functional as F\n",
    "from datetime import datetime\n",
    "from torch.autograd import Variable\n",
    "import os\n",
    "import numpy as np\n",
    "from tqdm.auto import tqdm\n",
    "import argparse\n",
    "import random\n",
    "from sklearn.metrics import f1_score, accuracy_score, roc_auc_score\n",
    "import sys\n",
    "import os\n",
    "import matplotlib.pyplot as plt\n",
    "import gc\n",
    "import pickle as pkl\n",
    "from collections import OrderedDict\n",
    "\n",
    "import pacmap\n",
    "from annoy import AnnoyIndex\n",
    "\n",
    "import heartpy as hp\n",
    "from heartpy.datautils import rolling_mean\n",
    "from heartpy.peakdetection import detect_peaks\n",
    "import neurokit2 as nk\n",
    "\n",
    "import matplotlib"
   ]
  },
  {
   "cell_type": "code",
   "execution_count": 9,
   "id": "90142996",
   "metadata": {},
   "outputs": [
    {
     "name": "stdout",
     "output_type": "stream",
     "text": [
      "ERROR! Session/line number was not unique in database. History logging moved to new session 309\n"
     ]
    }
   ],
   "source": [
    "def test_epoch(PPG_model, test_loader, baseline=False, patient_info_path=None):\n",
    "    with torch.no_grad():\n",
    "       \n",
    "\n",
    "        PPG_preds = None\n",
    "        PPG_pred_probs = None\n",
    "        all_targets = None\n",
    "        \n",
    "        PPG_model.eval()\n",
    "        tstart = datetime.now()\n",
    "\n",
    "        for batch_idx, (PPG, target) in enumerate(tqdm(test_loader, position=0, leave=True)):\n",
    "\n",
    "#             PPG = PPG.cuda().float()\n",
    "            target = target.cuda().long()\n",
    "            \n",
    "            all_ppg_peaks = []\n",
    "            tmp = PPG.cpu().numpy()\n",
    "            for ppg in tqdm(tmp, position=1, leave=False):\n",
    "            \n",
    "                PPG_npy = ppg.squeeze()\n",
    "                rol_mean = rolling_mean(PPG_npy, windowsize = 0.75, sample_rate = 80.0)\n",
    "                wd = detect_peaks(PPG_npy, rol_mean, ma_perc = 20, sample_rate = 80.0)\n",
    "\n",
    "                PPG_peaks = np.zeros_like(PPG_npy)\n",
    "                PPG_peaks[wd['peaklist']] = wd['ybeat']\n",
    "                # PPG_peaks[wd['peaklist']] = 1\n",
    "                all_ppg_peaks.append(PPG_peaks.reshape((1, PPG_peaks.shape[0])))\n",
    "            all_ppg_peaks = np.concatenate(all_ppg_peaks, axis=0)\n",
    "            PPG_peaks = torch.from_numpy(all_ppg_peaks).float().unsqueeze(1).cuda()\n",
    "            \n",
    "            if baseline:\n",
    "                _, PPG_out = PPG_model(PPG_peaks, PPG_peaks)\n",
    "            else:\n",
    "                _, _, _, _, _, PPG_out = PPG_model(PPG_peaks, PPG_peaks)\n",
    "            \n",
    "            PPG_predicted = PPG_out.argmax(1)\n",
    "            PPG_predicted_prob = F.softmax(PPG_out, dim=1)[:, 1]\n",
    "\n",
    "            if PPG_preds == None:\n",
    "                PPG_pred_probs = PPG_predicted_prob\n",
    "                PPG_preds = PPG_predicted\n",
    "                all_targets = target\n",
    "            else:\n",
    "                PPG_preds = torch.cat((PPG_preds, PPG_predicted))\n",
    "                PPG_pred_probs = torch.cat((PPG_pred_probs, PPG_predicted_prob))\n",
    "                all_targets = torch.cat((all_targets, target))\n",
    "        tend = datetime.now()\n",
    "\n",
    "        precision, recall, thresholds = precision_recall_curve(all_targets.detach().cpu().numpy(), PPG_pred_probs.detach().cpu().numpy())\n",
    "        pr_auc = auc(recall, precision)\n",
    "\n",
    "        print(f'[TEST] \\tPPG      F1: {round(f1_score(all_targets.detach().cpu().numpy(), PPG_preds.detach().cpu().numpy()), 4)}')\n",
    "        print(f'[TEST] \\tPPG ROC AUC: {round(roc_auc_score(all_targets.detach().cpu().numpy(), PPG_pred_probs.detach().cpu().numpy()), 4)}')\n",
    "        print(f'[TEST] \\tPPG PR  AUC: {round(pr_auc, 4)}')\n",
    "        rounding = 4\n",
    "        if patient_info_path is not None:\n",
    "            print(patient_info_path)\n",
    "            patient_idx_dict = pkl.load(open(patient_info_path, 'rb'))\n",
    "            unique_patients = list(patient_idx_dict.keys())\n",
    "            all_aurocs = []\n",
    "            all_auprcs = []\n",
    "            for i in tqdm(range(1000)):\n",
    "                np.random.seed(i)\n",
    "                random_sample_patients = np.random.choice(unique_patients, len(unique_patients), replace=True)\n",
    "                sample_idx = []\n",
    "                random_subsample_idx = []\n",
    "                for patient in random_sample_patients:\n",
    "                    random_subsample_idx += patient_idx_dict[patient]\n",
    "                random_subsample_idx = np.asarray(random_subsample_idx)\n",
    "\n",
    "                auroc = roc_auc_score(all_targets[random_subsample_idx].detach().cpu().numpy(), PPG_pred_probs[random_subsample_idx].detach().cpu().numpy())\n",
    "                precision, recall, thresholds = precision_recall_curve(all_targets[random_subsample_idx].detach().cpu().numpy(), PPG_pred_probs[random_subsample_idx].detach().cpu().numpy())\n",
    "                auprc = auc(recall, precision)\n",
    "\n",
    "                all_aurocs.append(auroc)\n",
    "                all_auprcs.append(auprc)\n",
    "\n",
    "            all_aurocs = np.asarray(all_aurocs)\n",
    "            all_auprcs = np.asarray(all_auprcs)\n",
    "\n",
    "            print(f'\\t AUROC {round(np.mean(all_aurocs), rounding)} [{round(np.mean(all_aurocs) - 1.96 *  (np.std(all_aurocs) / np.sqrt(len(all_aurocs))) , rounding)} {round(np.mean(all_aurocs) + 1.96 *  (np.std(all_aurocs) / np.sqrt(len(all_aurocs))) , rounding)}]')\n",
    "            print(f'\\t AUPRC {round(np.mean(all_auprcs), rounding)} [{round(np.mean(all_auprcs) - 1.96 *  (np.std(all_auprcs) / np.sqrt(len(all_auprcs))) , rounding)} {round(np.mean(all_auprcs) + 1.96 *  (np.std(all_auprcs) / np.sqrt(len(all_auprcs))) , rounding)}]')\n"
   ]
  },
  {
   "cell_type": "markdown",
   "id": "6f3c2aa0",
   "metadata": {},
   "source": [
    "# SimSiam"
   ]
  },
  {
   "cell_type": "code",
   "execution_count": 10,
   "id": "7e4bfa31",
   "metadata": {},
   "outputs": [],
   "source": [
    "# MODEL_PATH = '/home/zguo30/ppg_ecg_proj/simsiam/saved_models/corrected_resnet_34_epoch_30_ecglr_0.0001_ppglr_0.0001_lambda_1.0_dim1_512_dim2_128_pred_True_bs=2500/model_2.pt'\n",
    "# MODEL_PATH = '/home/zguo30/ppg_ecg_proj/simsiam/saved_models/corrected_resnet_34_epoch_30_ecglr_0.0001_ppglr_0.0001_lambda_1.0_dim1_512_dim2_128_pred_True_bs=2500/model_2.pt'\n",
    "MODEL_PATH = '/home/zguo30/ppg_ecg_proj/simsiam/saved_models/corrected_resnet_34_epoch_30_ecglr_0.0001_ppglr_0.0001_lambda_1.0_dim1_512_dim2_128_pred_True_bs=5000/model_1.pt'\n",
    "# MODEL_PATH = '/home/zguo30/ppg_ecg_proj/simsiam/saved_models/corrected_resnet_34_epoch_30_ecglr_0.0001_ppglr_0.0001_lambda_1.0_dim1_512_dim2_128_pred_True_/model_2.pt'\n"
   ]
  },
  {
   "cell_type": "code",
   "execution_count": 11,
   "id": "bbd9ea1f",
   "metadata": {},
   "outputs": [],
   "source": [
    "model = Res34SimSiam(512, 128).cuda()"
   ]
  },
  {
   "cell_type": "code",
   "execution_count": 12,
   "id": "a09ab1f2",
   "metadata": {},
   "outputs": [
    {
     "data": {
      "text/plain": [
       "<All keys matched successfully>"
      ]
     },
     "execution_count": 12,
     "metadata": {},
     "output_type": "execute_result"
    }
   ],
   "source": [
    "state_dict = torch.load(MODEL_PATH) \n",
    "new_state_dict = OrderedDict()\n",
    "for k, v in state_dict.items():\n",
    "    name = k[7:] #remove 'module'\n",
    "    new_state_dict[name] = v\n",
    "    \n",
    "state_dict = new_state_dict\n",
    "model.load_state_dict(state_dict)"
   ]
  },
  {
   "cell_type": "code",
   "execution_count": 13,
   "id": "332b625f",
   "metadata": {
    "scrolled": false
   },
   "outputs": [
    {
     "name": "stdout",
     "output_type": "stream",
     "text": [
      "data_simband_ppg_2400\n",
      "/labs/hulab/Robust_learning_TESTDATA/data_simband_ppg_2400.npy\n",
      "/labs/hulab/Robust_learning_TESTDATA/label_simband.npy\n"
     ]
    },
    {
     "data": {
      "application/vnd.jupyter.widget-view+json": {
       "model_id": "b97992bcb3b74e0eb80bcc072a0fe3b4",
       "version_major": 2,
       "version_minor": 0
      },
      "text/plain": [
       "  0%|          | 0/1 [00:00<?, ?it/s]"
      ]
     },
     "metadata": {},
     "output_type": "display_data"
    },
    {
     "data": {
      "application/vnd.jupyter.widget-view+json": {
       "model_id": "",
       "version_major": 2,
       "version_minor": 0
      },
      "text/plain": [
       "  0%|          | 0/857 [00:00<?, ?it/s]"
      ]
     },
     "metadata": {},
     "output_type": "display_data"
    },
    {
     "name": "stdout",
     "output_type": "stream",
     "text": [
      "[TEST] \tPPG      F1: 0.5841\n",
      "[TEST] \tPPG ROC AUC: 0.7761\n",
      "[TEST] \tPPG PR  AUC: 0.6806\n",
      "/labs/hulab/Robust_learning_TESTDATA/simband_patient_idx_dict.pkl\n"
     ]
    },
    {
     "data": {
      "application/vnd.jupyter.widget-view+json": {
       "model_id": "2a3b9a29a24f47cd89b7bcf733d00d08",
       "version_major": 2,
       "version_minor": 0
      },
      "text/plain": [
       "  0%|          | 0/1000 [00:00<?, ?it/s]"
      ]
     },
     "metadata": {},
     "output_type": "display_data"
    },
    {
     "name": "stdout",
     "output_type": "stream",
     "text": [
      "\t AUROC 0.7765 [0.7746 0.7784]\n",
      "\t AUPRC 0.6798 [0.6762 0.6834]\n",
      "\n",
      "data_ucla_ppg_2400\n",
      "/labs/hulab/Robust_learning_TESTDATA/data_ucla_ppg_2400.npy\n",
      "/labs/hulab/Robust_learning_TESTDATA/label_ucla_ppg.npy\n"
     ]
    },
    {
     "data": {
      "application/vnd.jupyter.widget-view+json": {
       "model_id": "4aad6c98ea9a4920b54a5477421e1a67",
       "version_major": 2,
       "version_minor": 0
      },
      "text/plain": [
       "  0%|          | 0/101 [00:00<?, ?it/s]"
      ]
     },
     "metadata": {},
     "output_type": "display_data"
    },
    {
     "data": {
      "application/vnd.jupyter.widget-view+json": {
       "model_id": "",
       "version_major": 2,
       "version_minor": 0
      },
      "text/plain": [
       "  0%|          | 0/2500 [00:00<?, ?it/s]"
      ]
     },
     "metadata": {},
     "output_type": "display_data"
    },
    {
     "data": {
      "application/vnd.jupyter.widget-view+json": {
       "model_id": "",
       "version_major": 2,
       "version_minor": 0
      },
      "text/plain": [
       "  0%|          | 0/2500 [00:00<?, ?it/s]"
      ]
     },
     "metadata": {},
     "output_type": "display_data"
    },
    {
     "data": {
      "application/vnd.jupyter.widget-view+json": {
       "model_id": "",
       "version_major": 2,
       "version_minor": 0
      },
      "text/plain": [
       "  0%|          | 0/2500 [00:00<?, ?it/s]"
      ]
     },
     "metadata": {},
     "output_type": "display_data"
    },
    {
     "data": {
      "application/vnd.jupyter.widget-view+json": {
       "model_id": "",
       "version_major": 2,
       "version_minor": 0
      },
      "text/plain": [
       "  0%|          | 0/2500 [00:00<?, ?it/s]"
      ]
     },
     "metadata": {},
     "output_type": "display_data"
    },
    {
     "data": {
      "application/vnd.jupyter.widget-view+json": {
       "model_id": "",
       "version_major": 2,
       "version_minor": 0
      },
      "text/plain": [
       "  0%|          | 0/2500 [00:00<?, ?it/s]"
      ]
     },
     "metadata": {},
     "output_type": "display_data"
    },
    {
     "data": {
      "application/vnd.jupyter.widget-view+json": {
       "model_id": "",
       "version_major": 2,
       "version_minor": 0
      },
      "text/plain": [
       "  0%|          | 0/2500 [00:00<?, ?it/s]"
      ]
     },
     "metadata": {},
     "output_type": "display_data"
    },
    {
     "data": {
      "application/vnd.jupyter.widget-view+json": {
       "model_id": "",
       "version_major": 2,
       "version_minor": 0
      },
      "text/plain": [
       "  0%|          | 0/2500 [00:00<?, ?it/s]"
      ]
     },
     "metadata": {},
     "output_type": "display_data"
    },
    {
     "data": {
      "application/vnd.jupyter.widget-view+json": {
       "model_id": "",
       "version_major": 2,
       "version_minor": 0
      },
      "text/plain": [
       "  0%|          | 0/2500 [00:00<?, ?it/s]"
      ]
     },
     "metadata": {},
     "output_type": "display_data"
    },
    {
     "data": {
      "application/vnd.jupyter.widget-view+json": {
       "model_id": "",
       "version_major": 2,
       "version_minor": 0
      },
      "text/plain": [
       "  0%|          | 0/2500 [00:00<?, ?it/s]"
      ]
     },
     "metadata": {},
     "output_type": "display_data"
    },
    {
     "data": {
      "application/vnd.jupyter.widget-view+json": {
       "model_id": "",
       "version_major": 2,
       "version_minor": 0
      },
      "text/plain": [
       "  0%|          | 0/2500 [00:00<?, ?it/s]"
      ]
     },
     "metadata": {},
     "output_type": "display_data"
    },
    {
     "data": {
      "application/vnd.jupyter.widget-view+json": {
       "model_id": "",
       "version_major": 2,
       "version_minor": 0
      },
      "text/plain": [
       "  0%|          | 0/2500 [00:00<?, ?it/s]"
      ]
     },
     "metadata": {},
     "output_type": "display_data"
    },
    {
     "data": {
      "application/vnd.jupyter.widget-view+json": {
       "model_id": "",
       "version_major": 2,
       "version_minor": 0
      },
      "text/plain": [
       "  0%|          | 0/2500 [00:00<?, ?it/s]"
      ]
     },
     "metadata": {},
     "output_type": "display_data"
    },
    {
     "data": {
      "application/vnd.jupyter.widget-view+json": {
       "model_id": "",
       "version_major": 2,
       "version_minor": 0
      },
      "text/plain": [
       "  0%|          | 0/2500 [00:00<?, ?it/s]"
      ]
     },
     "metadata": {},
     "output_type": "display_data"
    },
    {
     "data": {
      "application/vnd.jupyter.widget-view+json": {
       "model_id": "",
       "version_major": 2,
       "version_minor": 0
      },
      "text/plain": [
       "  0%|          | 0/2500 [00:00<?, ?it/s]"
      ]
     },
     "metadata": {},
     "output_type": "display_data"
    },
    {
     "name": "stderr",
     "output_type": "stream",
     "text": [
      "Exception ignored in: <function tqdm.__del__ at 0x7fcda65da050>\n",
      "Traceback (most recent call last):\n",
      "  File \"/labs/hulab/stark_conda/envs/base_pytorch/lib/python3.7/site-packages/tqdm/std.py\", line 1162, in __del__\n",
      "    self.close()\n",
      "  File \"/labs/hulab/stark_conda/envs/base_pytorch/lib/python3.7/site-packages/tqdm/notebook.py\", line 287, in close\n",
      "    self.disp(bar_style='danger', check_delay=False)\n",
      "AttributeError: 'tqdm' object has no attribute 'disp'\n"
     ]
    },
    {
     "data": {
      "application/vnd.jupyter.widget-view+json": {
       "model_id": "",
       "version_major": 2,
       "version_minor": 0
      },
      "text/plain": [
       "  0%|          | 0/2500 [00:00<?, ?it/s]"
      ]
     },
     "metadata": {},
     "output_type": "display_data"
    },
    {
     "data": {
      "application/vnd.jupyter.widget-view+json": {
       "model_id": "",
       "version_major": 2,
       "version_minor": 0
      },
      "text/plain": [
       "  0%|          | 0/2500 [00:00<?, ?it/s]"
      ]
     },
     "metadata": {},
     "output_type": "display_data"
    },
    {
     "data": {
      "application/vnd.jupyter.widget-view+json": {
       "model_id": "",
       "version_major": 2,
       "version_minor": 0
      },
      "text/plain": [
       "  0%|          | 0/2500 [00:00<?, ?it/s]"
      ]
     },
     "metadata": {},
     "output_type": "display_data"
    },
    {
     "data": {
      "application/vnd.jupyter.widget-view+json": {
       "model_id": "",
       "version_major": 2,
       "version_minor": 0
      },
      "text/plain": [
       "  0%|          | 0/2500 [00:00<?, ?it/s]"
      ]
     },
     "metadata": {},
     "output_type": "display_data"
    },
    {
     "data": {
      "application/vnd.jupyter.widget-view+json": {
       "model_id": "",
       "version_major": 2,
       "version_minor": 0
      },
      "text/plain": [
       "  0%|          | 0/2500 [00:00<?, ?it/s]"
      ]
     },
     "metadata": {},
     "output_type": "display_data"
    },
    {
     "data": {
      "application/vnd.jupyter.widget-view+json": {
       "model_id": "",
       "version_major": 2,
       "version_minor": 0
      },
      "text/plain": [
       "  0%|          | 0/2500 [00:00<?, ?it/s]"
      ]
     },
     "metadata": {},
     "output_type": "display_data"
    },
    {
     "data": {
      "application/vnd.jupyter.widget-view+json": {
       "model_id": "",
       "version_major": 2,
       "version_minor": 0
      },
      "text/plain": [
       "  0%|          | 0/2500 [00:00<?, ?it/s]"
      ]
     },
     "metadata": {},
     "output_type": "display_data"
    },
    {
     "data": {
      "application/vnd.jupyter.widget-view+json": {
       "model_id": "",
       "version_major": 2,
       "version_minor": 0
      },
      "text/plain": [
       "  0%|          | 0/2500 [00:00<?, ?it/s]"
      ]
     },
     "metadata": {},
     "output_type": "display_data"
    },
    {
     "data": {
      "application/vnd.jupyter.widget-view+json": {
       "model_id": "",
       "version_major": 2,
       "version_minor": 0
      },
      "text/plain": [
       "  0%|          | 0/2500 [00:00<?, ?it/s]"
      ]
     },
     "metadata": {},
     "output_type": "display_data"
    },
    {
     "data": {
      "application/vnd.jupyter.widget-view+json": {
       "model_id": "",
       "version_major": 2,
       "version_minor": 0
      },
      "text/plain": [
       "  0%|          | 0/2500 [00:00<?, ?it/s]"
      ]
     },
     "metadata": {},
     "output_type": "display_data"
    },
    {
     "data": {
      "application/vnd.jupyter.widget-view+json": {
       "model_id": "",
       "version_major": 2,
       "version_minor": 0
      },
      "text/plain": [
       "  0%|          | 0/2500 [00:00<?, ?it/s]"
      ]
     },
     "metadata": {},
     "output_type": "display_data"
    },
    {
     "data": {
      "application/vnd.jupyter.widget-view+json": {
       "model_id": "",
       "version_major": 2,
       "version_minor": 0
      },
      "text/plain": [
       "  0%|          | 0/2500 [00:00<?, ?it/s]"
      ]
     },
     "metadata": {},
     "output_type": "display_data"
    },
    {
     "data": {
      "application/vnd.jupyter.widget-view+json": {
       "model_id": "",
       "version_major": 2,
       "version_minor": 0
      },
      "text/plain": [
       "  0%|          | 0/2500 [00:00<?, ?it/s]"
      ]
     },
     "metadata": {},
     "output_type": "display_data"
    },
    {
     "data": {
      "application/vnd.jupyter.widget-view+json": {
       "model_id": "",
       "version_major": 2,
       "version_minor": 0
      },
      "text/plain": [
       "  0%|          | 0/2500 [00:00<?, ?it/s]"
      ]
     },
     "metadata": {},
     "output_type": "display_data"
    },
    {
     "data": {
      "application/vnd.jupyter.widget-view+json": {
       "model_id": "",
       "version_major": 2,
       "version_minor": 0
      },
      "text/plain": [
       "  0%|          | 0/2500 [00:00<?, ?it/s]"
      ]
     },
     "metadata": {},
     "output_type": "display_data"
    },
    {
     "data": {
      "application/vnd.jupyter.widget-view+json": {
       "model_id": "",
       "version_major": 2,
       "version_minor": 0
      },
      "text/plain": [
       "  0%|          | 0/2500 [00:00<?, ?it/s]"
      ]
     },
     "metadata": {},
     "output_type": "display_data"
    },
    {
     "data": {
      "application/vnd.jupyter.widget-view+json": {
       "model_id": "",
       "version_major": 2,
       "version_minor": 0
      },
      "text/plain": [
       "  0%|          | 0/2500 [00:00<?, ?it/s]"
      ]
     },
     "metadata": {},
     "output_type": "display_data"
    },
    {
     "data": {
      "application/vnd.jupyter.widget-view+json": {
       "model_id": "",
       "version_major": 2,
       "version_minor": 0
      },
      "text/plain": [
       "  0%|          | 0/2500 [00:00<?, ?it/s]"
      ]
     },
     "metadata": {},
     "output_type": "display_data"
    },
    {
     "data": {
      "application/vnd.jupyter.widget-view+json": {
       "model_id": "",
       "version_major": 2,
       "version_minor": 0
      },
      "text/plain": [
       "  0%|          | 0/2500 [00:00<?, ?it/s]"
      ]
     },
     "metadata": {},
     "output_type": "display_data"
    },
    {
     "data": {
      "application/vnd.jupyter.widget-view+json": {
       "model_id": "",
       "version_major": 2,
       "version_minor": 0
      },
      "text/plain": [
       "  0%|          | 0/2500 [00:00<?, ?it/s]"
      ]
     },
     "metadata": {},
     "output_type": "display_data"
    },
    {
     "data": {
      "application/vnd.jupyter.widget-view+json": {
       "model_id": "",
       "version_major": 2,
       "version_minor": 0
      },
      "text/plain": [
       "  0%|          | 0/2500 [00:00<?, ?it/s]"
      ]
     },
     "metadata": {},
     "output_type": "display_data"
    },
    {
     "data": {
      "application/vnd.jupyter.widget-view+json": {
       "model_id": "",
       "version_major": 2,
       "version_minor": 0
      },
      "text/plain": [
       "  0%|          | 0/2500 [00:00<?, ?it/s]"
      ]
     },
     "metadata": {},
     "output_type": "display_data"
    },
    {
     "data": {
      "application/vnd.jupyter.widget-view+json": {
       "model_id": "",
       "version_major": 2,
       "version_minor": 0
      },
      "text/plain": [
       "  0%|          | 0/2500 [00:00<?, ?it/s]"
      ]
     },
     "metadata": {},
     "output_type": "display_data"
    },
    {
     "data": {
      "application/vnd.jupyter.widget-view+json": {
       "model_id": "",
       "version_major": 2,
       "version_minor": 0
      },
      "text/plain": [
       "  0%|          | 0/2500 [00:00<?, ?it/s]"
      ]
     },
     "metadata": {},
     "output_type": "display_data"
    },
    {
     "data": {
      "application/vnd.jupyter.widget-view+json": {
       "model_id": "",
       "version_major": 2,
       "version_minor": 0
      },
      "text/plain": [
       "  0%|          | 0/2500 [00:00<?, ?it/s]"
      ]
     },
     "metadata": {},
     "output_type": "display_data"
    },
    {
     "data": {
      "application/vnd.jupyter.widget-view+json": {
       "model_id": "",
       "version_major": 2,
       "version_minor": 0
      },
      "text/plain": [
       "  0%|          | 0/2500 [00:00<?, ?it/s]"
      ]
     },
     "metadata": {},
     "output_type": "display_data"
    },
    {
     "data": {
      "application/vnd.jupyter.widget-view+json": {
       "model_id": "",
       "version_major": 2,
       "version_minor": 0
      },
      "text/plain": [
       "  0%|          | 0/2500 [00:00<?, ?it/s]"
      ]
     },
     "metadata": {},
     "output_type": "display_data"
    },
    {
     "data": {
      "application/vnd.jupyter.widget-view+json": {
       "model_id": "",
       "version_major": 2,
       "version_minor": 0
      },
      "text/plain": [
       "  0%|          | 0/2500 [00:00<?, ?it/s]"
      ]
     },
     "metadata": {},
     "output_type": "display_data"
    },
    {
     "data": {
      "application/vnd.jupyter.widget-view+json": {
       "model_id": "",
       "version_major": 2,
       "version_minor": 0
      },
      "text/plain": [
       "  0%|          | 0/2500 [00:00<?, ?it/s]"
      ]
     },
     "metadata": {},
     "output_type": "display_data"
    },
    {
     "data": {
      "application/vnd.jupyter.widget-view+json": {
       "model_id": "",
       "version_major": 2,
       "version_minor": 0
      },
      "text/plain": [
       "  0%|          | 0/2500 [00:00<?, ?it/s]"
      ]
     },
     "metadata": {},
     "output_type": "display_data"
    },
    {
     "data": {
      "application/vnd.jupyter.widget-view+json": {
       "model_id": "",
       "version_major": 2,
       "version_minor": 0
      },
      "text/plain": [
       "  0%|          | 0/2500 [00:00<?, ?it/s]"
      ]
     },
     "metadata": {},
     "output_type": "display_data"
    },
    {
     "data": {
      "application/vnd.jupyter.widget-view+json": {
       "model_id": "",
       "version_major": 2,
       "version_minor": 0
      },
      "text/plain": [
       "  0%|          | 0/2500 [00:00<?, ?it/s]"
      ]
     },
     "metadata": {},
     "output_type": "display_data"
    },
    {
     "data": {
      "application/vnd.jupyter.widget-view+json": {
       "model_id": "",
       "version_major": 2,
       "version_minor": 0
      },
      "text/plain": [
       "  0%|          | 0/2500 [00:00<?, ?it/s]"
      ]
     },
     "metadata": {},
     "output_type": "display_data"
    },
    {
     "data": {
      "application/vnd.jupyter.widget-view+json": {
       "model_id": "",
       "version_major": 2,
       "version_minor": 0
      },
      "text/plain": [
       "  0%|          | 0/2500 [00:00<?, ?it/s]"
      ]
     },
     "metadata": {},
     "output_type": "display_data"
    },
    {
     "data": {
      "application/vnd.jupyter.widget-view+json": {
       "model_id": "",
       "version_major": 2,
       "version_minor": 0
      },
      "text/plain": [
       "  0%|          | 0/2500 [00:00<?, ?it/s]"
      ]
     },
     "metadata": {},
     "output_type": "display_data"
    },
    {
     "data": {
      "application/vnd.jupyter.widget-view+json": {
       "model_id": "",
       "version_major": 2,
       "version_minor": 0
      },
      "text/plain": [
       "  0%|          | 0/2500 [00:00<?, ?it/s]"
      ]
     },
     "metadata": {},
     "output_type": "display_data"
    },
    {
     "data": {
      "application/vnd.jupyter.widget-view+json": {
       "model_id": "",
       "version_major": 2,
       "version_minor": 0
      },
      "text/plain": [
       "  0%|          | 0/2500 [00:00<?, ?it/s]"
      ]
     },
     "metadata": {},
     "output_type": "display_data"
    },
    {
     "data": {
      "application/vnd.jupyter.widget-view+json": {
       "model_id": "",
       "version_major": 2,
       "version_minor": 0
      },
      "text/plain": [
       "  0%|          | 0/2500 [00:00<?, ?it/s]"
      ]
     },
     "metadata": {},
     "output_type": "display_data"
    },
    {
     "data": {
      "application/vnd.jupyter.widget-view+json": {
       "model_id": "",
       "version_major": 2,
       "version_minor": 0
      },
      "text/plain": [
       "  0%|          | 0/2500 [00:00<?, ?it/s]"
      ]
     },
     "metadata": {},
     "output_type": "display_data"
    },
    {
     "data": {
      "application/vnd.jupyter.widget-view+json": {
       "model_id": "",
       "version_major": 2,
       "version_minor": 0
      },
      "text/plain": [
       "  0%|          | 0/2500 [00:00<?, ?it/s]"
      ]
     },
     "metadata": {},
     "output_type": "display_data"
    },
    {
     "data": {
      "application/vnd.jupyter.widget-view+json": {
       "model_id": "",
       "version_major": 2,
       "version_minor": 0
      },
      "text/plain": [
       "  0%|          | 0/2500 [00:00<?, ?it/s]"
      ]
     },
     "metadata": {},
     "output_type": "display_data"
    },
    {
     "data": {
      "application/vnd.jupyter.widget-view+json": {
       "model_id": "",
       "version_major": 2,
       "version_minor": 0
      },
      "text/plain": [
       "  0%|          | 0/2500 [00:00<?, ?it/s]"
      ]
     },
     "metadata": {},
     "output_type": "display_data"
    },
    {
     "data": {
      "application/vnd.jupyter.widget-view+json": {
       "model_id": "",
       "version_major": 2,
       "version_minor": 0
      },
      "text/plain": [
       "  0%|          | 0/2500 [00:00<?, ?it/s]"
      ]
     },
     "metadata": {},
     "output_type": "display_data"
    },
    {
     "data": {
      "application/vnd.jupyter.widget-view+json": {
       "model_id": "",
       "version_major": 2,
       "version_minor": 0
      },
      "text/plain": [
       "  0%|          | 0/2500 [00:00<?, ?it/s]"
      ]
     },
     "metadata": {},
     "output_type": "display_data"
    },
    {
     "data": {
      "application/vnd.jupyter.widget-view+json": {
       "model_id": "",
       "version_major": 2,
       "version_minor": 0
      },
      "text/plain": [
       "  0%|          | 0/2500 [00:00<?, ?it/s]"
      ]
     },
     "metadata": {},
     "output_type": "display_data"
    },
    {
     "data": {
      "application/vnd.jupyter.widget-view+json": {
       "model_id": "",
       "version_major": 2,
       "version_minor": 0
      },
      "text/plain": [
       "  0%|          | 0/2500 [00:00<?, ?it/s]"
      ]
     },
     "metadata": {},
     "output_type": "display_data"
    },
    {
     "data": {
      "application/vnd.jupyter.widget-view+json": {
       "model_id": "",
       "version_major": 2,
       "version_minor": 0
      },
      "text/plain": [
       "  0%|          | 0/2500 [00:00<?, ?it/s]"
      ]
     },
     "metadata": {},
     "output_type": "display_data"
    },
    {
     "data": {
      "application/vnd.jupyter.widget-view+json": {
       "model_id": "",
       "version_major": 2,
       "version_minor": 0
      },
      "text/plain": [
       "  0%|          | 0/2500 [00:00<?, ?it/s]"
      ]
     },
     "metadata": {},
     "output_type": "display_data"
    },
    {
     "data": {
      "application/vnd.jupyter.widget-view+json": {
       "model_id": "",
       "version_major": 2,
       "version_minor": 0
      },
      "text/plain": [
       "  0%|          | 0/2500 [00:00<?, ?it/s]"
      ]
     },
     "metadata": {},
     "output_type": "display_data"
    },
    {
     "data": {
      "application/vnd.jupyter.widget-view+json": {
       "model_id": "",
       "version_major": 2,
       "version_minor": 0
      },
      "text/plain": [
       "  0%|          | 0/2500 [00:00<?, ?it/s]"
      ]
     },
     "metadata": {},
     "output_type": "display_data"
    },
    {
     "data": {
      "application/vnd.jupyter.widget-view+json": {
       "model_id": "",
       "version_major": 2,
       "version_minor": 0
      },
      "text/plain": [
       "  0%|          | 0/2500 [00:00<?, ?it/s]"
      ]
     },
     "metadata": {},
     "output_type": "display_data"
    },
    {
     "data": {
      "application/vnd.jupyter.widget-view+json": {
       "model_id": "",
       "version_major": 2,
       "version_minor": 0
      },
      "text/plain": [
       "  0%|          | 0/2500 [00:00<?, ?it/s]"
      ]
     },
     "metadata": {},
     "output_type": "display_data"
    },
    {
     "data": {
      "application/vnd.jupyter.widget-view+json": {
       "model_id": "",
       "version_major": 2,
       "version_minor": 0
      },
      "text/plain": [
       "  0%|          | 0/2500 [00:00<?, ?it/s]"
      ]
     },
     "metadata": {},
     "output_type": "display_data"
    },
    {
     "data": {
      "application/vnd.jupyter.widget-view+json": {
       "model_id": "",
       "version_major": 2,
       "version_minor": 0
      },
      "text/plain": [
       "  0%|          | 0/2500 [00:00<?, ?it/s]"
      ]
     },
     "metadata": {},
     "output_type": "display_data"
    },
    {
     "data": {
      "application/vnd.jupyter.widget-view+json": {
       "model_id": "",
       "version_major": 2,
       "version_minor": 0
      },
      "text/plain": [
       "  0%|          | 0/2500 [00:00<?, ?it/s]"
      ]
     },
     "metadata": {},
     "output_type": "display_data"
    },
    {
     "data": {
      "application/vnd.jupyter.widget-view+json": {
       "model_id": "",
       "version_major": 2,
       "version_minor": 0
      },
      "text/plain": [
       "  0%|          | 0/2500 [00:00<?, ?it/s]"
      ]
     },
     "metadata": {},
     "output_type": "display_data"
    },
    {
     "data": {
      "application/vnd.jupyter.widget-view+json": {
       "model_id": "",
       "version_major": 2,
       "version_minor": 0
      },
      "text/plain": [
       "  0%|          | 0/2500 [00:00<?, ?it/s]"
      ]
     },
     "metadata": {},
     "output_type": "display_data"
    },
    {
     "data": {
      "application/vnd.jupyter.widget-view+json": {
       "model_id": "",
       "version_major": 2,
       "version_minor": 0
      },
      "text/plain": [
       "  0%|          | 0/2500 [00:00<?, ?it/s]"
      ]
     },
     "metadata": {},
     "output_type": "display_data"
    },
    {
     "data": {
      "application/vnd.jupyter.widget-view+json": {
       "model_id": "",
       "version_major": 2,
       "version_minor": 0
      },
      "text/plain": [
       "  0%|          | 0/2500 [00:00<?, ?it/s]"
      ]
     },
     "metadata": {},
     "output_type": "display_data"
    },
    {
     "data": {
      "application/vnd.jupyter.widget-view+json": {
       "model_id": "",
       "version_major": 2,
       "version_minor": 0
      },
      "text/plain": [
       "  0%|          | 0/2500 [00:00<?, ?it/s]"
      ]
     },
     "metadata": {},
     "output_type": "display_data"
    },
    {
     "data": {
      "application/vnd.jupyter.widget-view+json": {
       "model_id": "",
       "version_major": 2,
       "version_minor": 0
      },
      "text/plain": [
       "  0%|          | 0/2500 [00:00<?, ?it/s]"
      ]
     },
     "metadata": {},
     "output_type": "display_data"
    },
    {
     "data": {
      "application/vnd.jupyter.widget-view+json": {
       "model_id": "",
       "version_major": 2,
       "version_minor": 0
      },
      "text/plain": [
       "  0%|          | 0/2500 [00:00<?, ?it/s]"
      ]
     },
     "metadata": {},
     "output_type": "display_data"
    },
    {
     "data": {
      "application/vnd.jupyter.widget-view+json": {
       "model_id": "",
       "version_major": 2,
       "version_minor": 0
      },
      "text/plain": [
       "  0%|          | 0/2500 [00:00<?, ?it/s]"
      ]
     },
     "metadata": {},
     "output_type": "display_data"
    },
    {
     "data": {
      "application/vnd.jupyter.widget-view+json": {
       "model_id": "",
       "version_major": 2,
       "version_minor": 0
      },
      "text/plain": [
       "  0%|          | 0/2500 [00:00<?, ?it/s]"
      ]
     },
     "metadata": {},
     "output_type": "display_data"
    },
    {
     "data": {
      "application/vnd.jupyter.widget-view+json": {
       "model_id": "",
       "version_major": 2,
       "version_minor": 0
      },
      "text/plain": [
       "  0%|          | 0/2500 [00:00<?, ?it/s]"
      ]
     },
     "metadata": {},
     "output_type": "display_data"
    },
    {
     "data": {
      "application/vnd.jupyter.widget-view+json": {
       "model_id": "",
       "version_major": 2,
       "version_minor": 0
      },
      "text/plain": [
       "  0%|          | 0/2500 [00:00<?, ?it/s]"
      ]
     },
     "metadata": {},
     "output_type": "display_data"
    },
    {
     "data": {
      "application/vnd.jupyter.widget-view+json": {
       "model_id": "",
       "version_major": 2,
       "version_minor": 0
      },
      "text/plain": [
       "  0%|          | 0/2500 [00:00<?, ?it/s]"
      ]
     },
     "metadata": {},
     "output_type": "display_data"
    },
    {
     "data": {
      "application/vnd.jupyter.widget-view+json": {
       "model_id": "",
       "version_major": 2,
       "version_minor": 0
      },
      "text/plain": [
       "  0%|          | 0/2500 [00:00<?, ?it/s]"
      ]
     },
     "metadata": {},
     "output_type": "display_data"
    },
    {
     "data": {
      "application/vnd.jupyter.widget-view+json": {
       "model_id": "",
       "version_major": 2,
       "version_minor": 0
      },
      "text/plain": [
       "  0%|          | 0/2500 [00:00<?, ?it/s]"
      ]
     },
     "metadata": {},
     "output_type": "display_data"
    },
    {
     "data": {
      "application/vnd.jupyter.widget-view+json": {
       "model_id": "",
       "version_major": 2,
       "version_minor": 0
      },
      "text/plain": [
       "  0%|          | 0/2500 [00:00<?, ?it/s]"
      ]
     },
     "metadata": {},
     "output_type": "display_data"
    },
    {
     "data": {
      "application/vnd.jupyter.widget-view+json": {
       "model_id": "",
       "version_major": 2,
       "version_minor": 0
      },
      "text/plain": [
       "  0%|          | 0/2500 [00:00<?, ?it/s]"
      ]
     },
     "metadata": {},
     "output_type": "display_data"
    },
    {
     "data": {
      "application/vnd.jupyter.widget-view+json": {
       "model_id": "",
       "version_major": 2,
       "version_minor": 0
      },
      "text/plain": [
       "  0%|          | 0/2500 [00:00<?, ?it/s]"
      ]
     },
     "metadata": {},
     "output_type": "display_data"
    },
    {
     "data": {
      "application/vnd.jupyter.widget-view+json": {
       "model_id": "",
       "version_major": 2,
       "version_minor": 0
      },
      "text/plain": [
       "  0%|          | 0/2500 [00:00<?, ?it/s]"
      ]
     },
     "metadata": {},
     "output_type": "display_data"
    },
    {
     "data": {
      "application/vnd.jupyter.widget-view+json": {
       "model_id": "",
       "version_major": 2,
       "version_minor": 0
      },
      "text/plain": [
       "  0%|          | 0/2500 [00:00<?, ?it/s]"
      ]
     },
     "metadata": {},
     "output_type": "display_data"
    },
    {
     "data": {
      "application/vnd.jupyter.widget-view+json": {
       "model_id": "",
       "version_major": 2,
       "version_minor": 0
      },
      "text/plain": [
       "  0%|          | 0/2500 [00:00<?, ?it/s]"
      ]
     },
     "metadata": {},
     "output_type": "display_data"
    },
    {
     "data": {
      "application/vnd.jupyter.widget-view+json": {
       "model_id": "",
       "version_major": 2,
       "version_minor": 0
      },
      "text/plain": [
       "  0%|          | 0/2500 [00:00<?, ?it/s]"
      ]
     },
     "metadata": {},
     "output_type": "display_data"
    },
    {
     "data": {
      "application/vnd.jupyter.widget-view+json": {
       "model_id": "",
       "version_major": 2,
       "version_minor": 0
      },
      "text/plain": [
       "  0%|          | 0/2500 [00:00<?, ?it/s]"
      ]
     },
     "metadata": {},
     "output_type": "display_data"
    },
    {
     "data": {
      "application/vnd.jupyter.widget-view+json": {
       "model_id": "",
       "version_major": 2,
       "version_minor": 0
      },
      "text/plain": [
       "  0%|          | 0/2500 [00:00<?, ?it/s]"
      ]
     },
     "metadata": {},
     "output_type": "display_data"
    },
    {
     "data": {
      "application/vnd.jupyter.widget-view+json": {
       "model_id": "",
       "version_major": 2,
       "version_minor": 0
      },
      "text/plain": [
       "  0%|          | 0/2500 [00:00<?, ?it/s]"
      ]
     },
     "metadata": {},
     "output_type": "display_data"
    },
    {
     "data": {
      "application/vnd.jupyter.widget-view+json": {
       "model_id": "",
       "version_major": 2,
       "version_minor": 0
      },
      "text/plain": [
       "  0%|          | 0/2500 [00:00<?, ?it/s]"
      ]
     },
     "metadata": {},
     "output_type": "display_data"
    },
    {
     "data": {
      "application/vnd.jupyter.widget-view+json": {
       "model_id": "",
       "version_major": 2,
       "version_minor": 0
      },
      "text/plain": [
       "  0%|          | 0/2500 [00:00<?, ?it/s]"
      ]
     },
     "metadata": {},
     "output_type": "display_data"
    },
    {
     "data": {
      "application/vnd.jupyter.widget-view+json": {
       "model_id": "",
       "version_major": 2,
       "version_minor": 0
      },
      "text/plain": [
       "  0%|          | 0/2500 [00:00<?, ?it/s]"
      ]
     },
     "metadata": {},
     "output_type": "display_data"
    },
    {
     "data": {
      "application/vnd.jupyter.widget-view+json": {
       "model_id": "",
       "version_major": 2,
       "version_minor": 0
      },
      "text/plain": [
       "  0%|          | 0/2500 [00:00<?, ?it/s]"
      ]
     },
     "metadata": {},
     "output_type": "display_data"
    },
    {
     "data": {
      "application/vnd.jupyter.widget-view+json": {
       "model_id": "",
       "version_major": 2,
       "version_minor": 0
      },
      "text/plain": [
       "  0%|          | 0/2500 [00:00<?, ?it/s]"
      ]
     },
     "metadata": {},
     "output_type": "display_data"
    },
    {
     "data": {
      "application/vnd.jupyter.widget-view+json": {
       "model_id": "",
       "version_major": 2,
       "version_minor": 0
      },
      "text/plain": [
       "  0%|          | 0/2500 [00:00<?, ?it/s]"
      ]
     },
     "metadata": {},
     "output_type": "display_data"
    },
    {
     "data": {
      "application/vnd.jupyter.widget-view+json": {
       "model_id": "",
       "version_major": 2,
       "version_minor": 0
      },
      "text/plain": [
       "  0%|          | 0/2500 [00:00<?, ?it/s]"
      ]
     },
     "metadata": {},
     "output_type": "display_data"
    },
    {
     "data": {
      "application/vnd.jupyter.widget-view+json": {
       "model_id": "",
       "version_major": 2,
       "version_minor": 0
      },
      "text/plain": [
       "  0%|          | 0/1067 [00:00<?, ?it/s]"
      ]
     },
     "metadata": {},
     "output_type": "display_data"
    },
    {
     "name": "stdout",
     "output_type": "stream",
     "text": [
      "[TEST] \tPPG      F1: 0.5511\n",
      "[TEST] \tPPG ROC AUC: 0.8709\n",
      "[TEST] \tPPG PR  AUC: 0.6123\n",
      "/labs/hulab/Robust_learning_TESTDATA/UCLA_patient_idx_dict.pkl\n"
     ]
    },
    {
     "data": {
      "application/vnd.jupyter.widget-view+json": {
       "model_id": "417033bf3b6a45088d2f4776a96d0f6d",
       "version_major": 2,
       "version_minor": 0
      },
      "text/plain": [
       "  0%|          | 0/1000 [00:00<?, ?it/s]"
      ]
     },
     "metadata": {},
     "output_type": "display_data"
    },
    {
     "name": "stdout",
     "output_type": "stream",
     "text": [
      "\t AUROC 0.8708 [0.8688 0.8728]\n",
      "\t AUPRC 0.6129 [0.6064 0.6194]\n",
      "\n",
      "data_staford_2400\n",
      "/labs/hulab/Robust_learning_TESTDATA/data_staford_2400.npy\n",
      "/labs/hulab/Robust_learning_TESTDATA/label_staford.npy\n"
     ]
    },
    {
     "data": {
      "application/vnd.jupyter.widget-view+json": {
       "model_id": "99c520ac89934d3aa345feccd633c7a6",
       "version_major": 2,
       "version_minor": 0
      },
      "text/plain": [
       "  0%|          | 0/8 [00:00<?, ?it/s]"
      ]
     },
     "metadata": {},
     "output_type": "display_data"
    },
    {
     "data": {
      "application/vnd.jupyter.widget-view+json": {
       "model_id": "",
       "version_major": 2,
       "version_minor": 0
      },
      "text/plain": [
       "  0%|          | 0/2500 [00:00<?, ?it/s]"
      ]
     },
     "metadata": {},
     "output_type": "display_data"
    },
    {
     "data": {
      "application/vnd.jupyter.widget-view+json": {
       "model_id": "",
       "version_major": 2,
       "version_minor": 0
      },
      "text/plain": [
       "  0%|          | 0/2500 [00:00<?, ?it/s]"
      ]
     },
     "metadata": {},
     "output_type": "display_data"
    },
    {
     "data": {
      "application/vnd.jupyter.widget-view+json": {
       "model_id": "",
       "version_major": 2,
       "version_minor": 0
      },
      "text/plain": [
       "  0%|          | 0/2500 [00:00<?, ?it/s]"
      ]
     },
     "metadata": {},
     "output_type": "display_data"
    },
    {
     "data": {
      "application/vnd.jupyter.widget-view+json": {
       "model_id": "",
       "version_major": 2,
       "version_minor": 0
      },
      "text/plain": [
       "  0%|          | 0/2500 [00:00<?, ?it/s]"
      ]
     },
     "metadata": {},
     "output_type": "display_data"
    },
    {
     "data": {
      "application/vnd.jupyter.widget-view+json": {
       "model_id": "",
       "version_major": 2,
       "version_minor": 0
      },
      "text/plain": [
       "  0%|          | 0/2500 [00:00<?, ?it/s]"
      ]
     },
     "metadata": {},
     "output_type": "display_data"
    },
    {
     "data": {
      "application/vnd.jupyter.widget-view+json": {
       "model_id": "",
       "version_major": 2,
       "version_minor": 0
      },
      "text/plain": [
       "  0%|          | 0/2500 [00:00<?, ?it/s]"
      ]
     },
     "metadata": {},
     "output_type": "display_data"
    },
    {
     "data": {
      "application/vnd.jupyter.widget-view+json": {
       "model_id": "",
       "version_major": 2,
       "version_minor": 0
      },
      "text/plain": [
       "  0%|          | 0/2500 [00:00<?, ?it/s]"
      ]
     },
     "metadata": {},
     "output_type": "display_data"
    },
    {
     "data": {
      "application/vnd.jupyter.widget-view+json": {
       "model_id": "",
       "version_major": 2,
       "version_minor": 0
      },
      "text/plain": [
       "  0%|          | 0/117 [00:00<?, ?it/s]"
      ]
     },
     "metadata": {},
     "output_type": "display_data"
    },
    {
     "name": "stdout",
     "output_type": "stream",
     "text": [
      "[TEST] \tPPG      F1: 0.3146\n",
      "[TEST] \tPPG ROC AUC: 0.6599\n",
      "[TEST] \tPPG PR  AUC: 0.3931\n",
      "/labs/hulab/Robust_learning_TESTDATA/stanford_patient_idx_dict.pkl\n"
     ]
    },
    {
     "data": {
      "application/vnd.jupyter.widget-view+json": {
       "model_id": "f26279e29ede47dfb04764d8f3d5186a",
       "version_major": 2,
       "version_minor": 0
      },
      "text/plain": [
       "  0%|          | 0/1000 [00:00<?, ?it/s]"
      ]
     },
     "metadata": {},
     "output_type": "display_data"
    },
    {
     "name": "stdout",
     "output_type": "stream",
     "text": [
      "\t AUROC 0.658 [0.6569 0.6591]\n",
      "\t AUPRC 0.3888 [0.3847 0.3929]\n",
      "\n"
     ]
    }
   ],
   "source": [
    "testing_data_label_pairs = [\n",
    "#     ['data_simband_ecg_2400.npy', 'label_simband.npy', '/labs/hulab/Robust_learning_TESTDATA/simband_patient_idx_dict.pkl'],\n",
    "    ['data_simband_ppg_2400.npy', 'label_simband.npy', '/labs/hulab/Robust_learning_TESTDATA/simband_patient_idx_dict.pkl'],\n",
    "#     ['data_ucla_ecg_2400.npy', 'label_ucla_ecg.npy', '/labs/hulab/Robust_learning_TESTDATA/UCLA_patient_idx_dict.pkl'],\n",
    "    ['data_ucla_ppg_2400.npy', 'label_ucla_ppg.npy', '/labs/hulab/Robust_learning_TESTDATA/UCLA_patient_idx_dict.pkl'],\n",
    "    ['data_staford_2400.npy', 'label_staford.npy', '/labs/hulab/Robust_learning_TESTDATA/stanford_patient_idx_dict.pkl'],\n",
    "#     ['data_staford_goodquality_2400.npy', 'label_staford_goodquality.npy', '/labs/hulab/Robust_learning_TESTDATA/stanford_patient_idx_dict.pkl'],\n",
    "#     ['data_staford_badquality_2400.npy', 'label_staford_badquality.npy', '/labs/hulab/Robust_learning_TESTDATA/stanford_patient_idx_dict.pkl']\n",
    "]\n",
    "\n",
    "test_data_folder = '/labs/hulab/Robust_learning_TESTDATA/'\n",
    "for pair in testing_data_label_pairs:\n",
    "    \n",
    "    print(pair[0].split('.')[0].split('/')[-1])\n",
    "    \n",
    "    x_path = test_data_folder + pair[0]\n",
    "    y_path = test_data_folder + pair[1]\n",
    "\n",
    "    print(x_path)\n",
    "    print(y_path)\n",
    "    test_dataset = Dataset_ori(x_path, y_path)\n",
    "    testloader = DataLoader(test_dataset, batch_size=2500, shuffle=False, num_workers=0)\n",
    "    \n",
    "    test_epoch(model, testloader, patient_info_path=pair[2] if len(pair)==3 else None)\n",
    "\n",
    "    print()"
   ]
  },
  {
   "cell_type": "markdown",
   "id": "a3ad2373",
   "metadata": {},
   "source": [
    "# SimSiam no predictor"
   ]
  },
  {
   "cell_type": "code",
   "execution_count": 14,
   "id": "0df0ff36",
   "metadata": {},
   "outputs": [],
   "source": [
    "MODEL_PATH = '/home/zguo30/ppg_ecg_proj/simsiam/saved_models/epoch_40_ecglr_0.0001_ppglr_0.0001_lambda_1.0_dim1_512_dim2_128_pred_False_no_predictor/model_1.pt'"
   ]
  },
  {
   "cell_type": "code",
   "execution_count": 15,
   "id": "d3596e53",
   "metadata": {},
   "outputs": [],
   "source": [
    "model = Res34SimSiam(512, 128, predictor=False).cuda()"
   ]
  },
  {
   "cell_type": "code",
   "execution_count": 16,
   "id": "581b3bfc",
   "metadata": {},
   "outputs": [
    {
     "data": {
      "text/plain": [
       "<All keys matched successfully>"
      ]
     },
     "execution_count": 16,
     "metadata": {},
     "output_type": "execute_result"
    }
   ],
   "source": [
    "state_dict = torch.load(MODEL_PATH) \n",
    "new_state_dict = OrderedDict()\n",
    "for k, v in state_dict.items():\n",
    "    name = k[7:] #remove 'module'\n",
    "    new_state_dict[name] = v\n",
    "    \n",
    "state_dict = new_state_dict\n",
    "model.load_state_dict(state_dict)"
   ]
  },
  {
   "cell_type": "code",
   "execution_count": 17,
   "id": "bfc3e034",
   "metadata": {
    "scrolled": false
   },
   "outputs": [
    {
     "name": "stdout",
     "output_type": "stream",
     "text": [
      "data_simband_2400\n",
      "/labs/hulab/Robust_learning_TESTDATA/data_simband_2400.npy\n",
      "/labs/hulab/Robust_learning_TESTDATA/label_simband.npy\n",
      "[TEST] \tPPG      F1: 0.7244\n",
      "[TEST] \tPPG ROC AUC: 0.9115\n",
      "[TEST] \tPPG PR  AUC: 0.8661\n",
      "\n",
      "data_simband_goodquality_2400\n",
      "/labs/hulab/Robust_learning_TESTDATA/data_simband_goodquality_2400.npy\n",
      "/labs/hulab/Robust_learning_TESTDATA/label_simband_goodquality.npy\n",
      "[TEST] \tPPG      F1: 0.9577\n",
      "[TEST] \tPPG ROC AUC: 0.9996\n",
      "[TEST] \tPPG PR  AUC: 0.9983\n",
      "\n",
      "data_simband_badquality_2400\n",
      "/labs/hulab/Robust_learning_TESTDATA/data_simband_badquality_2400.npy\n",
      "/labs/hulab/Robust_learning_TESTDATA/label_simband_badquality.npy\n",
      "[TEST] \tPPG      F1: 0.6944\n",
      "[TEST] \tPPG ROC AUC: 0.8752\n",
      "[TEST] \tPPG PR  AUC: 0.8416\n",
      "\n",
      "data_staford_goodquality_2400\n",
      "/labs/hulab/Robust_learning_TESTDATA/data_staford_goodquality_2400.npy\n",
      "/labs/hulab/Robust_learning_TESTDATA/label_staford_goodquality.npy\n",
      "[TEST] \tPPG      F1: 0.9805\n",
      "[TEST] \tPPG ROC AUC: 0.9996\n",
      "[TEST] \tPPG PR  AUC: 0.998\n",
      "\n",
      "data_staford_badquality_2400\n",
      "/labs/hulab/Robust_learning_TESTDATA/data_staford_badquality_2400.npy\n",
      "/labs/hulab/Robust_learning_TESTDATA/label_staford_badquality.npy\n",
      "[TEST] \tPPG      F1: 0.5909\n",
      "[TEST] \tPPG ROC AUC: 0.8277\n",
      "[TEST] \tPPG PR  AUC: 0.6761\n",
      "\n",
      "data_staford_2400\n",
      "/labs/hulab/Robust_learning_TESTDATA/data_staford_2400.npy\n",
      "/labs/hulab/Robust_learning_TESTDATA/label_staford.npy\n",
      "[TEST] \tPPG      F1: 0.6262\n",
      "[TEST] \tPPG ROC AUC: 0.8802\n",
      "[TEST] \tPPG PR  AUC: 0.7368\n",
      "\n",
      "data_ucla_badquality_2400\n",
      "/labs/hulab/Robust_learning_TESTDATA/data_ucla_badquality_2400.npy\n",
      "/labs/hulab/Robust_learning_TESTDATA/label_ucla_badquality.npy\n",
      "[TEST] \tPPG      F1: 0.7159\n",
      "[TEST] \tPPG ROC AUC: 0.9516\n",
      "[TEST] \tPPG PR  AUC: 0.8039\n",
      "\n",
      "data_ucla_goodquality_2400\n",
      "/labs/hulab/Robust_learning_TESTDATA/data_ucla_goodquality_2400.npy\n",
      "/labs/hulab/Robust_learning_TESTDATA/label_ucla_goodquality.npy\n",
      "[TEST] \tPPG      F1: 0.7371\n",
      "[TEST] \tPPG ROC AUC: 0.981\n",
      "[TEST] \tPPG PR  AUC: 0.76\n",
      "\n",
      "data_ucla_2400\n",
      "/labs/hulab/Robust_learning_TESTDATA/data_ucla_2400.npy\n",
      "/labs/hulab/Robust_learning_TESTDATA/label_ucla.npy\n",
      "[TEST] \tPPG      F1: 0.7235\n",
      "[TEST] \tPPG ROC AUC: 0.9683\n",
      "[TEST] \tPPG PR  AUC: 0.7778\n",
      "\n"
     ]
    }
   ],
   "source": [
    "\n",
    "test_data_folder = '/labs/hulab/Robust_learning_TESTDATA/'\n",
    "for f in os.listdir(test_data_folder):\n",
    "    if '2400' in f and 'sully' not in f:\n",
    "        \n",
    "        x_path = test_data_folder + f\n",
    "        y_path = test_data_folder + 'label_'+'_'.join(f[:-4].split('_')[1:-1]) + '.npy'\n",
    "\n",
    "        print(f[:-4])\n",
    "        print(x_path)\n",
    "        print(y_path)\n",
    "        test_dataset = Dataset_ori(x_path, y_path)\n",
    "        testloader = DataLoader(test_dataset, batch_size=2500, shuffle=False, num_workers=0)\n",
    "\n",
    "        test_epoch(model, testloader)\n",
    "\n",
    "        print()"
   ]
  },
  {
   "cell_type": "markdown",
   "id": "bd00a717",
   "metadata": {},
   "source": [
    "# SimSiam split heads"
   ]
  },
  {
   "cell_type": "code",
   "execution_count": 4,
   "id": "43aa87cd",
   "metadata": {},
   "outputs": [],
   "source": [
    "MODEL_PATH = '/home/zguo30/ppg_ecg_proj/simsiam/saved_models/corrected_resnet_34_epoch_30_ecglr_0.0001_ppglr_0.0001_lambda_1.0_dim1_512_dim2_128_pred_True_splitheads/model_2.pt'"
   ]
  },
  {
   "cell_type": "code",
   "execution_count": 5,
   "id": "c699c5de",
   "metadata": {},
   "outputs": [],
   "source": [
    "model = Res34SimSiamSplitHeads(512, 128).cuda()"
   ]
  },
  {
   "cell_type": "code",
   "execution_count": 6,
   "id": "0d956584",
   "metadata": {},
   "outputs": [
    {
     "data": {
      "text/plain": [
       "<All keys matched successfully>"
      ]
     },
     "execution_count": 6,
     "metadata": {},
     "output_type": "execute_result"
    }
   ],
   "source": [
    "state_dict = torch.load(MODEL_PATH) \n",
    "new_state_dict = OrderedDict()\n",
    "for k, v in state_dict.items():\n",
    "    name = k[7:] #remove 'module'\n",
    "    new_state_dict[name] = v\n",
    "    \n",
    "state_dict = new_state_dict\n",
    "model.load_state_dict(state_dict)"
   ]
  },
  {
   "cell_type": "code",
   "execution_count": 8,
   "id": "b575df36",
   "metadata": {
    "scrolled": false
   },
   "outputs": [
    {
     "name": "stdout",
     "output_type": "stream",
     "text": [
      "data_simband_ecg_2400\n",
      "/labs/hulab/Robust_learning_TESTDATA/data_simband_ecg_2400.npy\n",
      "/labs/hulab/Robust_learning_TESTDATA/label_simband.npy\n",
      "[TEST] \tPPG      F1: 0.5464\n",
      "[TEST] \tPPG ROC AUC: 0.6293\n",
      "[TEST] \tPPG PR  AUC: 0.5098\n",
      "\n",
      "data_simband_ppg_2400\n",
      "/labs/hulab/Robust_learning_TESTDATA/data_simband_ppg_2400.npy\n",
      "/labs/hulab/Robust_learning_TESTDATA/label_simband.npy\n",
      "[TEST] \tPPG      F1: 0.8154\n",
      "[TEST] \tPPG ROC AUC: 0.9243\n",
      "[TEST] \tPPG PR  AUC: 0.881\n",
      "\n",
      "data_ucla_ecg_2400\n",
      "/labs/hulab/Robust_learning_TESTDATA/data_ucla_ecg_2400.npy\n",
      "/labs/hulab/Robust_learning_TESTDATA/label_ucla_ecg.npy\n",
      "[TEST] \tPPG      F1: 0.4648\n",
      "[TEST] \tPPG ROC AUC: 0.7391\n",
      "[TEST] \tPPG PR  AUC: 0.3608\n",
      "\n",
      "data_ucla_ppg_2400\n",
      "/labs/hulab/Robust_learning_TESTDATA/data_ucla_ppg_2400.npy\n",
      "/labs/hulab/Robust_learning_TESTDATA/label_ucla_ppg.npy\n",
      "[TEST] \tPPG      F1: 0.6893\n",
      "[TEST] \tPPG ROC AUC: 0.9262\n",
      "[TEST] \tPPG PR  AUC: 0.8028\n",
      "\n",
      "data_staford_2400\n",
      "/labs/hulab/Robust_learning_TESTDATA/data_staford_2400.npy\n",
      "/labs/hulab/Robust_learning_TESTDATA/label_staford.npy\n",
      "[TEST] \tPPG      F1: 0.595\n",
      "[TEST] \tPPG ROC AUC: 0.8566\n",
      "[TEST] \tPPG PR  AUC: 0.6744\n",
      "\n",
      "data_staford_goodquality_2400\n",
      "/labs/hulab/Robust_learning_TESTDATA/data_staford_goodquality_2400.npy\n",
      "/labs/hulab/Robust_learning_TESTDATA/label_staford_goodquality.npy\n",
      "[TEST] \tPPG      F1: 0.9545\n",
      "[TEST] \tPPG ROC AUC: 0.9989\n",
      "[TEST] \tPPG PR  AUC: 0.9956\n",
      "\n",
      "data_staford_badquality_2400\n",
      "/labs/hulab/Robust_learning_TESTDATA/data_staford_badquality_2400.npy\n",
      "/labs/hulab/Robust_learning_TESTDATA/label_staford_badquality.npy\n",
      "[TEST] \tPPG      F1: 0.5631\n",
      "[TEST] \tPPG ROC AUC: 0.7939\n",
      "[TEST] \tPPG PR  AUC: 0.5988\n",
      "\n"
     ]
    }
   ],
   "source": [
    "testing_data_label_pairs = [\n",
    "    ['data_simband_ecg_2400.npy', 'label_simband.npy'],\n",
    "    ['data_simband_ppg_2400.npy', 'label_simband.npy'],\n",
    "    ['data_ucla_ecg_2400.npy', 'label_ucla_ecg.npy', '/labs/hulab/Robust_learning_TESTDATA/UCLA_patient_idx_dict.pkl'],\n",
    "    ['data_ucla_ppg_2400.npy', 'label_ucla_ppg.npy', '/labs/hulab/Robust_learning_TESTDATA/UCLA_patient_idx_dict.pkl'],\n",
    "    ['data_staford_2400.npy', 'label_staford.npy', '/labs/hulab/Robust_learning_TESTDATA/stanford_patient_idx_dict.pkl'],\n",
    "#     ['data_staford_goodquality_2400.npy', 'label_staford_goodquality.npy', '/labs/hulab/Robust_learning_TESTDATA/stanford_patient_idx_dict.pkl'],\n",
    "#     ['data_staford_badquality_2400.npy', 'label_staford_badquality.npy', '/labs/hulab/Robust_learning_TESTDATA/stanford_patient_idx_dict.pkl']\n",
    "]\n",
    "\n",
    "test_data_folder = '/labs/hulab/Robust_learning_TESTDATA/'\n",
    "for pair in testing_data_label_pairs:\n",
    "    \n",
    "    print(pair[0].split('.')[0].split('/')[-1])\n",
    "    \n",
    "    x_path = test_data_folder + pair[0]\n",
    "    y_path = test_data_folder + pair[1]\n",
    "\n",
    "    print(x_path)\n",
    "    print(y_path)\n",
    "    test_dataset = Dataset_ori(x_path, y_path)\n",
    "    testloader = DataLoader(test_dataset, batch_size=2500, shuffle=False, num_workers=0)\n",
    "\n",
    "    test_epoch(model, testloader, )\n",
    "\n",
    "    print()"
   ]
  },
  {
   "cell_type": "markdown",
   "id": "cba560d3",
   "metadata": {},
   "source": [
    "# PPG only baseline"
   ]
  },
  {
   "cell_type": "code",
   "execution_count": 16,
   "id": "33749134",
   "metadata": {},
   "outputs": [],
   "source": [
    "MODEL_PATH = '/home/zguo30/ppg_ecg_proj/ppg_only_baseline/saved_models/epoch_40_ppglr_0.0001_lambda_0.9/PPG_best_2.pt'"
   ]
  },
  {
   "cell_type": "code",
   "execution_count": 19,
   "id": "171ab9a2",
   "metadata": {},
   "outputs": [
    {
     "data": {
      "text/plain": [
       "<All keys matched successfully>"
      ]
     },
     "execution_count": 19,
     "metadata": {},
     "output_type": "execute_result"
    }
   ],
   "source": [
    "model = Resnet34Baseline().cuda()\n",
    "state_dict = torch.load(MODEL_PATH) \n",
    "model.load_state_dict(state_dict)"
   ]
  },
  {
   "cell_type": "code",
   "execution_count": 22,
   "id": "95908bb3",
   "metadata": {},
   "outputs": [
    {
     "name": "stdout",
     "output_type": "stream",
     "text": [
      "data_simband_2400\n",
      "/labs/hulab/Robust_learning_TESTDATA/data_simband_2400.npy\n",
      "/labs/hulab/Robust_learning_TESTDATA/label_simband.npy\n",
      "[TEST] \tPPG F1: 0.7703488372093024\n",
      "[TEST] \tPPG AUC: 0.9026940360860827\n",
      "\n",
      "data_simband_goodquality_2400\n",
      "/labs/hulab/Robust_learning_TESTDATA/data_simband_goodquality_2400.npy\n",
      "/labs/hulab/Robust_learning_TESTDATA/label_simband_goodquality.npy\n",
      "[TEST] \tPPG F1: 0.9189189189189189\n",
      "[TEST] \tPPG AUC: 0.9997868712702472\n",
      "\n",
      "data_simband_badquality_2400\n",
      "/labs/hulab/Robust_learning_TESTDATA/data_simband_badquality_2400.npy\n",
      "/labs/hulab/Robust_learning_TESTDATA/label_simband_badquality.npy\n",
      "[TEST] \tPPG F1: 0.7524429967426709\n",
      "[TEST] \tPPG AUC: 0.8664995622092125\n",
      "\n",
      "data_staford_goodquality_2400\n",
      "/labs/hulab/Robust_learning_TESTDATA/data_staford_goodquality_2400.npy\n",
      "/labs/hulab/Robust_learning_TESTDATA/label_staford_goodquality.npy\n",
      "[TEST] \tPPG F1: 0.9202453987730062\n",
      "[TEST] \tPPG AUC: 0.9988102683204434\n",
      "\n",
      "data_staford_badquality_2400\n",
      "/labs/hulab/Robust_learning_TESTDATA/data_staford_badquality_2400.npy\n",
      "/labs/hulab/Robust_learning_TESTDATA/label_staford_badquality.npy\n",
      "[TEST] \tPPG F1: 0.5026374608851141\n",
      "[TEST] \tPPG AUC: 0.7032335324936687\n",
      "\n",
      "data_staford_2400\n",
      "/labs/hulab/Robust_learning_TESTDATA/data_staford_2400.npy\n",
      "/labs/hulab/Robust_learning_TESTDATA/label_staford.npy\n",
      "[TEST] \tPPG F1: 0.5362163939817479\n",
      "[TEST] \tPPG AUC: 0.7771063490726422\n",
      "\n",
      "data_ucla_badquality_2400\n",
      "/labs/hulab/Robust_learning_TESTDATA/data_ucla_badquality_2400.npy\n",
      "/labs/hulab/Robust_learning_TESTDATA/label_ucla_badquality.npy\n",
      "[TEST] \tPPG F1: 0.7049315940184537\n",
      "[TEST] \tPPG AUC: 0.9549536039925629\n",
      "\n",
      "data_ucla_goodquality_2400\n",
      "/labs/hulab/Robust_learning_TESTDATA/data_ucla_goodquality_2400.npy\n",
      "/labs/hulab/Robust_learning_TESTDATA/label_ucla_goodquality.npy\n",
      "[TEST] \tPPG F1: 0.7446141793967881\n",
      "[TEST] \tPPG AUC: 0.9766801809405212\n",
      "\n",
      "data_ucla_2400\n",
      "/labs/hulab/Robust_learning_TESTDATA/data_ucla_2400.npy\n",
      "/labs/hulab/Robust_learning_TESTDATA/label_ucla.npy\n",
      "[TEST] \tPPG F1: 0.7188716890264878\n",
      "[TEST] \tPPG AUC: 0.9681454892381114\n",
      "\n",
      "data_simbad_badqual_sully_70_filter_2400\n",
      "/labs/hulab/Robust_learning_TESTDATA/data_simbad_badqual_sully_70_filter_2400.npy\n",
      "/labs/hulab/Robust_learning_TESTDATA/label_simbad_badqual_sully_70_filter.npy\n",
      "[TEST] \tPPG F1: 0.7516339869281047\n",
      "[TEST] \tPPG AUC: 0.8640553197076458\n",
      "\n",
      "data_ucla_badqual_sully_70_filter_2400\n",
      "/labs/hulab/Robust_learning_TESTDATA/data_ucla_badqual_sully_70_filter_2400.npy\n",
      "/labs/hulab/Robust_learning_TESTDATA/label_ucla_badqual_sully_70_filter.npy\n",
      "[TEST] \tPPG F1: 0.7048270978401983\n",
      "[TEST] \tPPG AUC: 0.9397179133006197\n",
      "\n",
      "data_stanford_badqual_sully_70_filter_2400\n",
      "/labs/hulab/Robust_learning_TESTDATA/data_stanford_badqual_sully_70_filter_2400.npy\n",
      "/labs/hulab/Robust_learning_TESTDATA/label_stanford_badqual_sully_70_filter.npy\n",
      "[TEST] \tPPG F1: 0.5027782756766446\n",
      "[TEST] \tPPG AUC: 0.7028209189866911\n",
      "\n"
     ]
    }
   ],
   "source": [
    "\n",
    "test_data_folder = '/labs/hulab/Robust_learning_TESTDATA/'\n",
    "for f in os.listdir(test_data_folder):\n",
    "    if '2400' in f:\n",
    "        \n",
    "        x_path = test_data_folder + f\n",
    "        y_path = test_data_folder + 'label_'+'_'.join(f[:-4].split('_')[1:-1]) + '.npy'\n",
    "\n",
    "        print(f[:-4])\n",
    "        print(x_path)\n",
    "        print(y_path)\n",
    "        test_dataset = Dataset_ori(x_path, y_path)\n",
    "        testloader = DataLoader(test_dataset, batch_size=2500, shuffle=False, num_workers=0)\n",
    "\n",
    "        test_epoch(model, testloader, baseline=True)\n",
    "\n",
    "        print()"
   ]
  },
  {
   "cell_type": "markdown",
   "id": "1cc0fb83",
   "metadata": {},
   "source": [
    "# Simsiam Adam optim"
   ]
  },
  {
   "cell_type": "code",
   "execution_count": 3,
   "id": "80d02c82",
   "metadata": {},
   "outputs": [
    {
     "name": "stdout",
     "output_type": "stream",
     "text": [
      "data_simband_ecg_2400\n",
      "/labs/hulab/Robust_learning_TESTDATA/data_simband_ecg_2400.npy\n",
      "/labs/hulab/Robust_learning_TESTDATA/label_simband.npy\n",
      "[TEST] \tPPG      F1: 0.6285\n",
      "[TEST] \tPPG ROC AUC: 0.7267\n",
      "[TEST] \tPPG PR  AUC: 0.6498\n",
      "\n",
      "data_simband_ppg_2400\n",
      "/labs/hulab/Robust_learning_TESTDATA/data_simband_ppg_2400.npy\n",
      "/labs/hulab/Robust_learning_TESTDATA/label_simband.npy\n",
      "[TEST] \tPPG      F1: 0.7578\n",
      "[TEST] \tPPG ROC AUC: 0.9196\n",
      "[TEST] \tPPG PR  AUC: 0.8796\n",
      "\n",
      "data_ucla_ecg_2400\n",
      "/labs/hulab/Robust_learning_TESTDATA/data_ucla_ecg_2400.npy\n",
      "/labs/hulab/Robust_learning_TESTDATA/label_ucla_ecg.npy\n",
      "[TEST] \tPPG      F1: 0.7495\n",
      "[TEST] \tPPG ROC AUC: 0.904\n",
      "[TEST] \tPPG PR  AUC: 0.7567\n",
      "\n",
      "data_ucla_ppg_2400\n",
      "/labs/hulab/Robust_learning_TESTDATA/data_ucla_ppg_2400.npy\n",
      "/labs/hulab/Robust_learning_TESTDATA/label_ucla_ppg.npy\n",
      "[TEST] \tPPG      F1: 0.714\n",
      "[TEST] \tPPG ROC AUC: 0.9164\n",
      "[TEST] \tPPG PR  AUC: 0.7755\n",
      "\n",
      "data_staford_2400\n",
      "/labs/hulab/Robust_learning_TESTDATA/data_staford_2400.npy\n",
      "/labs/hulab/Robust_learning_TESTDATA/label_staford.npy\n",
      "[TEST] \tPPG      F1: 0.5665\n",
      "[TEST] \tPPG ROC AUC: 0.8349\n",
      "[TEST] \tPPG PR  AUC: 0.6537\n",
      "\n",
      "data_staford_goodquality_2400\n",
      "/labs/hulab/Robust_learning_TESTDATA/data_staford_goodquality_2400.npy\n",
      "/labs/hulab/Robust_learning_TESTDATA/label_staford_goodquality.npy\n",
      "[TEST] \tPPG      F1: 0.9398\n",
      "[TEST] \tPPG ROC AUC: 0.9981\n",
      "[TEST] \tPPG PR  AUC: 0.9914\n",
      "\n",
      "data_staford_badquality_2400\n",
      "/labs/hulab/Robust_learning_TESTDATA/data_staford_badquality_2400.npy\n",
      "/labs/hulab/Robust_learning_TESTDATA/label_staford_badquality.npy\n",
      "[TEST] \tPPG      F1: 0.5301\n",
      "[TEST] \tPPG ROC AUC: 0.7653\n",
      "[TEST] \tPPG PR  AUC: 0.5768\n",
      "\n"
     ]
    }
   ],
   "source": [
    "MODEL_PATH = '/home/zguo30/ppg_ecg_proj/simsiam/saved_models/corrected_resnet_34_epoch_30_ecglr_0.0001_ppglr_0.0001_lambda_1.2_dim1_512_dim2_128_pred_True_bs=5000Adam/model_4.pt'\n",
    "\n",
    "model = Res34SimSiam(512, 128).cuda()\n",
    "state_dict = torch.load(MODEL_PATH) \n",
    "new_state_dict = OrderedDict()\n",
    "for k, v in state_dict.items():\n",
    "    name = k[7:] #remove 'module'\n",
    "    new_state_dict[name] = v\n",
    "    \n",
    "state_dict = new_state_dict\n",
    "model.load_state_dict(state_dict)\n",
    "\n",
    "testing_data_label_pairs = [\n",
    "    ['data_simband_ecg_2400.npy', 'label_simband.npy'],\n",
    "    ['data_simband_ppg_2400.npy', 'label_simband.npy'],\n",
    "    ['data_ucla_ecg_2400.npy', 'label_ucla_ecg.npy'],\n",
    "    ['data_ucla_ppg_2400.npy', 'label_ucla_ppg.npy'],\n",
    "    ['data_staford_2400.npy', 'label_staford.npy'],\n",
    "    ['data_staford_goodquality_2400.npy', 'label_staford_goodquality.npy'],\n",
    "    ['data_staford_badquality_2400.npy', 'label_staford_badquality.npy']\n",
    "]\n",
    "\n",
    "test_data_folder = '/labs/hulab/Robust_learning_TESTDATA/'\n",
    "for pair in testing_data_label_pairs:\n",
    "    \n",
    "    print(pair[0].split('.')[0].split('/')[-1])\n",
    "    \n",
    "    x_path = test_data_folder + pair[0]\n",
    "    y_path = test_data_folder + pair[1]\n",
    "\n",
    "    print(x_path)\n",
    "    print(y_path)\n",
    "    test_dataset = Dataset_ori(x_path, y_path)\n",
    "    testloader = DataLoader(test_dataset, batch_size=2500, shuffle=False, num_workers=0)\n",
    "\n",
    "    test_epoch(model, testloader)\n",
    "\n",
    "    print()"
   ]
  },
  {
   "cell_type": "code",
   "execution_count": 4,
   "id": "8b698f24",
   "metadata": {},
   "outputs": [
    {
     "name": "stdout",
     "output_type": "stream",
     "text": [
      "data_simband_ecg_2400\n",
      "/labs/hulab/Robust_learning_TESTDATA/data_simband_ecg_2400.npy\n",
      "/labs/hulab/Robust_learning_TESTDATA/label_simband.npy\n",
      "[TEST] \tPPG      F1: 0.623\n",
      "[TEST] \tPPG ROC AUC: 0.6888\n",
      "[TEST] \tPPG PR  AUC: 0.5651\n",
      "\n",
      "data_simband_ppg_2400\n",
      "/labs/hulab/Robust_learning_TESTDATA/data_simband_ppg_2400.npy\n",
      "/labs/hulab/Robust_learning_TESTDATA/label_simband.npy\n",
      "[TEST] \tPPG      F1: 0.7963\n",
      "[TEST] \tPPG ROC AUC: 0.9155\n",
      "[TEST] \tPPG PR  AUC: 0.8709\n",
      "\n",
      "data_ucla_ecg_2400\n",
      "/labs/hulab/Robust_learning_TESTDATA/data_ucla_ecg_2400.npy\n",
      "/labs/hulab/Robust_learning_TESTDATA/label_ucla_ecg.npy\n",
      "[TEST] \tPPG      F1: 0.6999\n",
      "[TEST] \tPPG ROC AUC: 0.9099\n",
      "[TEST] \tPPG PR  AUC: 0.733\n",
      "\n",
      "data_ucla_ppg_2400\n",
      "/labs/hulab/Robust_learning_TESTDATA/data_ucla_ppg_2400.npy\n",
      "/labs/hulab/Robust_learning_TESTDATA/label_ucla_ppg.npy\n",
      "[TEST] \tPPG      F1: 0.6742\n",
      "[TEST] \tPPG ROC AUC: 0.9259\n",
      "[TEST] \tPPG PR  AUC: 0.7779\n",
      "\n",
      "data_staford_2400\n",
      "/labs/hulab/Robust_learning_TESTDATA/data_staford_2400.npy\n",
      "/labs/hulab/Robust_learning_TESTDATA/label_staford.npy\n",
      "[TEST] \tPPG      F1: 0.5376\n",
      "[TEST] \tPPG ROC AUC: 0.805\n",
      "[TEST] \tPPG PR  AUC: 0.6077\n",
      "\n",
      "data_staford_goodquality_2400\n",
      "/labs/hulab/Robust_learning_TESTDATA/data_staford_goodquality_2400.npy\n",
      "/labs/hulab/Robust_learning_TESTDATA/label_staford_goodquality.npy\n",
      "[TEST] \tPPG      F1: 0.8043\n",
      "[TEST] \tPPG ROC AUC: 0.9946\n",
      "[TEST] \tPPG PR  AUC: 0.9755\n",
      "\n",
      "data_staford_badquality_2400\n",
      "/labs/hulab/Robust_learning_TESTDATA/data_staford_badquality_2400.npy\n",
      "/labs/hulab/Robust_learning_TESTDATA/label_staford_badquality.npy\n",
      "[TEST] \tPPG      F1: 0.5135\n",
      "[TEST] \tPPG ROC AUC: 0.7304\n",
      "[TEST] \tPPG PR  AUC: 0.5289\n",
      "\n"
     ]
    }
   ],
   "source": [
    "MODEL_PATH = '/home/zguo30/ppg_ecg_proj/simsiam/saved_models/corrected_resnet_34_epoch_30_ecglr_0.0001_ppglr_0.0001_lambda_1.0_dim1_512_dim2_128_pred_True_bs=5000Adam/model_1.pt'\n",
    "\n",
    "model = Res34SimSiam(512, 128).cuda()\n",
    "state_dict = torch.load(MODEL_PATH) \n",
    "new_state_dict = OrderedDict()\n",
    "for k, v in state_dict.items():\n",
    "    name = k[7:] #remove 'module'\n",
    "    new_state_dict[name] = v\n",
    "    \n",
    "state_dict = new_state_dict\n",
    "model.load_state_dict(state_dict)\n",
    "\n",
    "testing_data_label_pairs = [\n",
    "    ['data_simband_ecg_2400.npy', 'label_simband.npy'],\n",
    "    ['data_simband_ppg_2400.npy', 'label_simband.npy'],\n",
    "    ['data_ucla_ecg_2400.npy', 'label_ucla_ecg.npy'],\n",
    "    ['data_ucla_ppg_2400.npy', 'label_ucla_ppg.npy'],\n",
    "    ['data_staford_2400.npy', 'label_staford.npy'],\n",
    "    ['data_staford_goodquality_2400.npy', 'label_staford_goodquality.npy'],\n",
    "    ['data_staford_badquality_2400.npy', 'label_staford_badquality.npy']\n",
    "]\n",
    "\n",
    "test_data_folder = '/labs/hulab/Robust_learning_TESTDATA/'\n",
    "for pair in testing_data_label_pairs:\n",
    "    \n",
    "    print(pair[0].split('.')[0].split('/')[-1])\n",
    "    \n",
    "    x_path = test_data_folder + pair[0]\n",
    "    y_path = test_data_folder + pair[1]\n",
    "\n",
    "    print(x_path)\n",
    "    print(y_path)\n",
    "    test_dataset = Dataset_ori(x_path, y_path)\n",
    "    testloader = DataLoader(test_dataset, batch_size=2500, shuffle=False, num_workers=0)\n",
    "\n",
    "    test_epoch(model, testloader)\n",
    "\n",
    "    print()"
   ]
  },
  {
   "cell_type": "markdown",
   "id": "eebe9355",
   "metadata": {},
   "source": [
    "# SGD [VAL] Epoch 1 Loss: -1.3191769726601126 simsam loss : -0.9764100327073032, ce loss : 0.3168215469497266, \tPPG F1: 0.9428633667019257, ECG F1: 0.94055694451495 -- Chose SGD\n",
    "\n",
    "\n",
    "# Adam [VAL] Epoch 1 Loss: -1.3098863723243863 simsam loss : -0.9926099595630468, ce loss : 0.33766677324062605, \tPPG F1: 0.941941411465695, ECG F1: 0.9302179029918973\n"
   ]
  },
  {
   "cell_type": "code",
   "execution_count": null,
   "id": "359a89a9",
   "metadata": {},
   "outputs": [],
   "source": []
  }
 ],
 "metadata": {
  "kernelspec": {
   "display_name": "base_pytorch",
   "language": "python",
   "name": "base_pytorch"
  },
  "language_info": {
   "codemirror_mode": {
    "name": "ipython",
    "version": 3
   },
   "file_extension": ".py",
   "mimetype": "text/x-python",
   "name": "python",
   "nbconvert_exporter": "python",
   "pygments_lexer": "ipython3",
   "version": "3.7.13"
  }
 },
 "nbformat": 4,
 "nbformat_minor": 5
}
