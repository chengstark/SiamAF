{
 "cells": [
  {
   "cell_type": "code",
   "execution_count": 1,
   "id": "342f52db",
   "metadata": {},
   "outputs": [],
   "source": [
    "import torch\n",
    "import torch.nn as nn\n",
    "import torch.nn.functional as F \n",
    "from resnet1d import Res34SimSiam, Res34SimSiamSplitHeads, Resnet34Baseline\n",
    "from dataset import Dataset_per_file, Dataset_whole, Dataset_ori\n",
    "from torch.utils.data import DataLoader\n",
    "import torch\n",
    "import torch.optim as optim\n",
    "import torch.nn as nn\n",
    "import torch.nn.functional as F\n",
    "from datetime import datetime\n",
    "from torch.autograd import Variable\n",
    "import os\n",
    "import numpy as np\n",
    "from tqdm import tqdm\n",
    "import argparse\n",
    "import random\n",
    "from sklearn.metrics import f1_score, accuracy_score, roc_auc_score, precision_recall_curve, auc\n",
    "import sys\n",
    "import gc\n",
    "from collections import OrderedDict\n"
   ]
  },
  {
   "cell_type": "code",
   "execution_count": 13,
   "id": "17fe2143",
   "metadata": {},
   "outputs": [],
   "source": [
    "def test_epoch(PPG_model, test_loader, baseline=False):\n",
    "    with torch.no_grad():\n",
    "       \n",
    "\n",
    "        PPG_preds = None\n",
    "        PPG_pred_probs = None\n",
    "        all_targets = None\n",
    "        \n",
    "        PPG_model.eval()\n",
    "        tstart = datetime.now()\n",
    "\n",
    "        for batch_idx, (PPG, target) in enumerate(test_loader):\n",
    "\n",
    "            PPG = PPG.cuda().float()\n",
    "            target = target.cuda().long()\n",
    "            \n",
    "            if baseline:\n",
    "                _, PPG_out = PPG_model(PPG, PPG)\n",
    "            else:\n",
    "                _, _, _, _, _, PPG_out = PPG_model(PPG, PPG)\n",
    "            \n",
    "            PPG_predicted = PPG_out.argmax(1)\n",
    "            PPG_predicted_prob = F.softmax(PPG_out, dim=1)[:, 1]\n",
    "\n",
    "            if PPG_preds == None:\n",
    "                PPG_pred_probs = PPG_predicted_prob\n",
    "                PPG_preds = PPG_predicted\n",
    "                all_targets = target\n",
    "            else:\n",
    "                PPG_preds = torch.cat((PPG_preds, PPG_predicted))\n",
    "                PPG_pred_probs = torch.cat((PPG_pred_probs, PPG_predicted_prob))\n",
    "                all_targets = torch.cat((all_targets, target))\n",
    "        tend = datetime.now()\n",
    "\n",
    "\n",
    "        precision, recall, thresholds = precision_recall_curve(all_targets.detach().cpu().numpy(), PPG_pred_probs.detach().cpu().numpy())\n",
    "        pr_auc = auc(recall, precision)\n",
    "\n",
    "        print(f'[TEST] \\tPPG      F1: {round(f1_score(all_targets.detach().cpu().numpy(), PPG_preds.detach().cpu().numpy()), 4)}')\n",
    "        print(f'[TEST] \\tPPG ROC AUC: {round(roc_auc_score(all_targets.detach().cpu().numpy(), PPG_pred_probs.detach().cpu().numpy()), 4)}')\n",
    "        print(f'[TEST] \\tPPG PR  AUC: {round(pr_auc, 4)}')\n",
    "\n",
    "        \n",
    "def run_test_on_model(MODEL_PATH):\n",
    "    \n",
    "    model = Res34SimSiam(512, 128).cuda()\n",
    "\n",
    "    state_dict = torch.load(MODEL_PATH) \n",
    "    new_state_dict = OrderedDict()\n",
    "    for k, v in state_dict.items():\n",
    "        name = k[7:] #remove 'module'\n",
    "        new_state_dict[name] = v\n",
    "\n",
    "    state_dict = new_state_dict\n",
    "    model.load_state_dict(state_dict)\n",
    "\n",
    "    testing_data_label_pairs = [\n",
    "        ['data_simband_ecg_2400.npy', 'label_simband.npy'],\n",
    "        ['data_simband_ppg_2400.npy', 'label_simband.npy'],\n",
    "        ['data_ucla_ecg_2400.npy', 'label_ucla_ecg.npy'],\n",
    "        ['data_ucla_ppg_2400.npy', 'label_ucla_ppg.npy'],\n",
    "        ['data_staford_2400.npy', 'label_staford.npy'],\n",
    "        ['data_staford_goodquality_2400.npy', 'label_staford_goodquality.npy'],\n",
    "        ['data_staford_badquality_2400.npy', 'label_staford_badquality.npy']\n",
    "    ]\n",
    "    test_data_folder = '/labs/hulab/Robust_learning_TESTDATA/'\n",
    "    \n",
    "    for pair in testing_data_label_pairs:\n",
    "\n",
    "        print(pair[0].split('.')[0].split('/')[-1])\n",
    "\n",
    "        x_path = test_data_folder + pair[0]\n",
    "        y_path = test_data_folder + pair[1]\n",
    "\n",
    "#         print(x_path)\n",
    "#         print(y_path)\n",
    "        test_dataset = Dataset_ori(x_path, y_path)\n",
    "        testloader = DataLoader(test_dataset, batch_size=2500, shuffle=False, num_workers=0)\n",
    "\n",
    "        test_epoch(model, testloader)\n",
    "\n",
    "        print()\n",
    "        \n",
    "    del model\n",
    "    gc.collect()"
   ]
  },
  {
   "cell_type": "markdown",
   "id": "0957d7b6",
   "metadata": {},
   "source": [
    "# 0.2"
   ]
  },
  {
   "cell_type": "code",
   "execution_count": 14,
   "id": "48ab6f8c",
   "metadata": {},
   "outputs": [
    {
     "name": "stdout",
     "output_type": "stream",
     "text": [
      "data_simband_ecg_2400\n",
      "[TEST] \tPPG      F1: 0.6221\n",
      "[TEST] \tPPG ROC AUC: 0.7629\n",
      "[TEST] \tPPG PR  AUC: 0.7327\n",
      "\n",
      "data_simband_ppg_2400\n",
      "[TEST] \tPPG      F1: 0.7703\n",
      "[TEST] \tPPG ROC AUC: 0.9185\n",
      "[TEST] \tPPG PR  AUC: 0.8741\n",
      "\n",
      "data_ucla_ecg_2400\n",
      "[TEST] \tPPG      F1: 0.7741\n",
      "[TEST] \tPPG ROC AUC: 0.9138\n",
      "[TEST] \tPPG PR  AUC: 0.7537\n",
      "\n",
      "data_ucla_ppg_2400\n",
      "[TEST] \tPPG      F1: 0.6946\n",
      "[TEST] \tPPG ROC AUC: 0.9254\n",
      "[TEST] \tPPG PR  AUC: 0.7393\n",
      "\n",
      "data_staford_2400\n",
      "[TEST] \tPPG      F1: 0.5875\n",
      "[TEST] \tPPG ROC AUC: 0.8552\n",
      "[TEST] \tPPG PR  AUC: 0.6706\n",
      "\n",
      "data_staford_goodquality_2400\n",
      "[TEST] \tPPG      F1: 0.967\n",
      "[TEST] \tPPG ROC AUC: 0.9997\n",
      "[TEST] \tPPG PR  AUC: 0.9978\n",
      "\n",
      "data_staford_badquality_2400\n",
      "[TEST] \tPPG      F1: 0.5531\n",
      "[TEST] \tPPG ROC AUC: 0.792\n",
      "[TEST] \tPPG PR  AUC: 0.5989\n",
      "\n"
     ]
    }
   ],
   "source": [
    "run_test_on_model('/home/zguo30/ppg_ecg_proj/simsiam/saved_models/corrected_resnet_34_epoch_30_ecglr_0.0001_ppglr_0.0001_lambda_0.2_dim1_512_dim2_128_pred_True_bs=5000/model_1.pt')"
   ]
  },
  {
   "cell_type": "markdown",
   "id": "cd57940b",
   "metadata": {},
   "source": [
    "# 0.4"
   ]
  },
  {
   "cell_type": "code",
   "execution_count": 15,
   "id": "6d57793e",
   "metadata": {},
   "outputs": [
    {
     "name": "stdout",
     "output_type": "stream",
     "text": [
      "data_simband_ecg_2400\n",
      "[TEST] \tPPG      F1: 0.6406\n",
      "[TEST] \tPPG ROC AUC: 0.7628\n",
      "[TEST] \tPPG PR  AUC: 0.7401\n",
      "\n",
      "data_simband_ppg_2400\n",
      "[TEST] \tPPG      F1: 0.7607\n",
      "[TEST] \tPPG ROC AUC: 0.9092\n",
      "[TEST] \tPPG PR  AUC: 0.8546\n",
      "\n",
      "data_ucla_ecg_2400\n",
      "[TEST] \tPPG      F1: 0.7639\n",
      "[TEST] \tPPG ROC AUC: 0.9097\n",
      "[TEST] \tPPG PR  AUC: 0.7512\n",
      "\n",
      "data_ucla_ppg_2400\n",
      "[TEST] \tPPG      F1: 0.6916\n",
      "[TEST] \tPPG ROC AUC: 0.9248\n",
      "[TEST] \tPPG PR  AUC: 0.7356\n",
      "\n",
      "data_staford_2400\n",
      "[TEST] \tPPG      F1: 0.5773\n",
      "[TEST] \tPPG ROC AUC: 0.853\n",
      "[TEST] \tPPG PR  AUC: 0.6779\n",
      "\n",
      "data_staford_goodquality_2400\n",
      "[TEST] \tPPG      F1: 0.9448\n",
      "[TEST] \tPPG ROC AUC: 0.9994\n",
      "[TEST] \tPPG PR  AUC: 0.9964\n",
      "\n",
      "data_staford_badquality_2400\n",
      "[TEST] \tPPG      F1: 0.547\n",
      "[TEST] \tPPG ROC AUC: 0.7881\n",
      "[TEST] \tPPG PR  AUC: 0.6064\n",
      "\n"
     ]
    }
   ],
   "source": [
    "run_test_on_model('/home/zguo30/ppg_ecg_proj/simsiam/saved_models/corrected_resnet_34_epoch_30_ecglr_0.0001_ppglr_0.0001_lambda_0.4_dim1_512_dim2_128_pred_True_bs=5000/model_1.pt')"
   ]
  },
  {
   "cell_type": "markdown",
   "id": "b5397a2e",
   "metadata": {},
   "source": [
    "# 0.6"
   ]
  },
  {
   "cell_type": "code",
   "execution_count": 16,
   "id": "c6cb9e81",
   "metadata": {},
   "outputs": [
    {
     "name": "stdout",
     "output_type": "stream",
     "text": [
      "data_simband_ecg_2400\n",
      "[TEST] \tPPG      F1: 0.6498\n",
      "[TEST] \tPPG ROC AUC: 0.7715\n",
      "[TEST] \tPPG PR  AUC: 0.7532\n",
      "\n",
      "data_simband_ppg_2400\n",
      "[TEST] \tPPG      F1: 0.7762\n",
      "[TEST] \tPPG ROC AUC: 0.9208\n",
      "[TEST] \tPPG PR  AUC: 0.8754\n",
      "\n",
      "data_ucla_ecg_2400\n",
      "[TEST] \tPPG      F1: 0.761\n",
      "[TEST] \tPPG ROC AUC: 0.9125\n",
      "[TEST] \tPPG PR  AUC: 0.7951\n",
      "\n",
      "data_ucla_ppg_2400\n",
      "[TEST] \tPPG      F1: 0.6956\n",
      "[TEST] \tPPG ROC AUC: 0.9239\n",
      "[TEST] \tPPG PR  AUC: 0.7971\n",
      "\n",
      "data_staford_2400\n",
      "[TEST] \tPPG      F1: 0.5894\n",
      "[TEST] \tPPG ROC AUC: 0.863\n",
      "[TEST] \tPPG PR  AUC: 0.7046\n",
      "\n",
      "data_staford_goodquality_2400\n",
      "[TEST] \tPPG      F1: 0.9619\n",
      "[TEST] \tPPG ROC AUC: 0.9996\n",
      "[TEST] \tPPG PR  AUC: 0.9981\n",
      "\n",
      "data_staford_badquality_2400\n",
      "[TEST] \tPPG      F1: 0.558\n",
      "[TEST] \tPPG ROC AUC: 0.8011\n",
      "[TEST] \tPPG PR  AUC: 0.636\n",
      "\n"
     ]
    }
   ],
   "source": [
    "run_test_on_model('/home/zguo30/ppg_ecg_proj/simsiam/saved_models/corrected_resnet_34_epoch_30_ecglr_0.0001_ppglr_0.0001_lambda_0.6_dim1_512_dim2_128_pred_True_bs=5000/model_1.pt')"
   ]
  },
  {
   "cell_type": "markdown",
   "id": "92859c67",
   "metadata": {},
   "source": [
    "# 0.8"
   ]
  },
  {
   "cell_type": "code",
   "execution_count": 17,
   "id": "145d1770",
   "metadata": {},
   "outputs": [
    {
     "name": "stdout",
     "output_type": "stream",
     "text": [
      "data_simband_ecg_2400\n",
      "[TEST] \tPPG      F1: 0.594\n",
      "[TEST] \tPPG ROC AUC: 0.7673\n",
      "[TEST] \tPPG PR  AUC: 0.7447\n",
      "\n",
      "data_simband_ppg_2400\n",
      "[TEST] \tPPG      F1: 0.7544\n",
      "[TEST] \tPPG ROC AUC: 0.9194\n",
      "[TEST] \tPPG PR  AUC: 0.8752\n",
      "\n",
      "data_ucla_ecg_2400\n",
      "[TEST] \tPPG      F1: 0.7667\n",
      "[TEST] \tPPG ROC AUC: 0.9196\n",
      "[TEST] \tPPG PR  AUC: 0.7734\n",
      "\n",
      "data_ucla_ppg_2400\n",
      "[TEST] \tPPG      F1: 0.6983\n",
      "[TEST] \tPPG ROC AUC: 0.9251\n",
      "[TEST] \tPPG PR  AUC: 0.7626\n",
      "\n",
      "data_staford_2400\n",
      "[TEST] \tPPG      F1: 0.5794\n",
      "[TEST] \tPPG ROC AUC: 0.8589\n",
      "[TEST] \tPPG PR  AUC: 0.7083\n",
      "\n",
      "data_staford_goodquality_2400\n",
      "[TEST] \tPPG      F1: 0.9783\n",
      "[TEST] \tPPG ROC AUC: 0.998\n",
      "[TEST] \tPPG PR  AUC: 0.9955\n",
      "\n",
      "data_staford_badquality_2400\n",
      "[TEST] \tPPG      F1: 0.5448\n",
      "[TEST] \tPPG ROC AUC: 0.7964\n",
      "[TEST] \tPPG PR  AUC: 0.6438\n",
      "\n"
     ]
    }
   ],
   "source": [
    "run_test_on_model('/home/zguo30/ppg_ecg_proj/simsiam/saved_models/corrected_resnet_34_epoch_30_ecglr_0.0001_ppglr_0.0001_lambda_0.8_dim1_512_dim2_128_pred_True_bs=5000/model_1.pt')"
   ]
  },
  {
   "cell_type": "markdown",
   "id": "5cc12470",
   "metadata": {},
   "source": [
    "# 1.2"
   ]
  },
  {
   "cell_type": "code",
   "execution_count": 18,
   "id": "73ec86c2",
   "metadata": {},
   "outputs": [
    {
     "name": "stdout",
     "output_type": "stream",
     "text": [
      "data_simband_ecg_2400\n",
      "[TEST] \tPPG      F1: 0.6423\n",
      "[TEST] \tPPG ROC AUC: 0.7733\n",
      "[TEST] \tPPG PR  AUC: 0.7577\n",
      "\n",
      "data_simband_ppg_2400\n",
      "[TEST] \tPPG      F1: 0.7773\n",
      "[TEST] \tPPG ROC AUC: 0.9167\n",
      "[TEST] \tPPG PR  AUC: 0.8713\n",
      "\n",
      "data_ucla_ecg_2400\n",
      "[TEST] \tPPG      F1: 0.7784\n",
      "[TEST] \tPPG ROC AUC: 0.9037\n",
      "[TEST] \tPPG PR  AUC: 0.8021\n",
      "\n",
      "data_ucla_ppg_2400\n",
      "[TEST] \tPPG      F1: 0.7189\n",
      "[TEST] \tPPG ROC AUC: 0.9284\n",
      "[TEST] \tPPG PR  AUC: 0.7926\n",
      "\n",
      "data_staford_2400\n",
      "[TEST] \tPPG      F1: 0.5948\n",
      "[TEST] \tPPG ROC AUC: 0.8694\n",
      "[TEST] \tPPG PR  AUC: 0.7031\n",
      "\n",
      "data_staford_goodquality_2400\n",
      "[TEST] \tPPG      F1: 0.973\n",
      "[TEST] \tPPG ROC AUC: 0.9995\n",
      "[TEST] \tPPG PR  AUC: 0.997\n",
      "\n",
      "data_staford_badquality_2400\n",
      "[TEST] \tPPG      F1: 0.5639\n",
      "[TEST] \tPPG ROC AUC: 0.8115\n",
      "[TEST] \tPPG PR  AUC: 0.6386\n",
      "\n"
     ]
    }
   ],
   "source": [
    "run_test_on_model('/home/zguo30/ppg_ecg_proj/simsiam/saved_models/corrected_resnet_34_epoch_30_ecglr_0.0001_ppglr_0.0001_lambda_1.2_dim1_512_dim2_128_pred_True_bs=5000/model_1.pt')"
   ]
  },
  {
   "cell_type": "code",
   "execution_count": null,
   "id": "a251e1f6",
   "metadata": {},
   "outputs": [],
   "source": []
  }
 ],
 "metadata": {
  "kernelspec": {
   "display_name": "base_pytorch",
   "language": "python",
   "name": "base_pytorch"
  },
  "language_info": {
   "codemirror_mode": {
    "name": "ipython",
    "version": 3
   },
   "file_extension": ".py",
   "mimetype": "text/x-python",
   "name": "python",
   "nbconvert_exporter": "python",
   "pygments_lexer": "ipython3",
   "version": "3.7.13"
  }
 },
 "nbformat": 4,
 "nbformat_minor": 5
}
