{
 "cells": [
  {
   "cell_type": "code",
   "execution_count": 1,
   "id": "6947f463",
   "metadata": {},
   "outputs": [],
   "source": [
    "import torch\n",
    "import torch.nn as nn\n",
    "import torch.nn.functional as F \n",
    "from resnet1d import Resnet34\n",
    "# from resnet_zoo import Resnet34\n",
    "from dataset import Dataset_per_file, Dataset_whole, Dataset_ori\n",
    "from torch.utils.data import DataLoader\n",
    "import torch\n",
    "import torch.optim as optim\n",
    "import torch.nn as nn\n",
    "import torch.nn.functional as F\n",
    "from datetime import datetime\n",
    "from torch.autograd import Variable\n",
    "import os\n",
    "import numpy as np\n",
    "from tqdm import tqdm\n",
    "import argparse\n",
    "import random\n",
    "from sklearn.metrics import f1_score, accuracy_score, roc_auc_score, precision_recall_curve, auc\n",
    "import sys\n",
    "import os\n",
    "\n",
    "from collections import OrderedDict\n",
    "import pickle as pkl"
   ]
  },
  {
   "cell_type": "code",
   "execution_count": 2,
   "id": "90142996",
   "metadata": {},
   "outputs": [],
   "source": [
    "def test_epoch(PPG_model, test_loader, test_ds_name, baseline=False, patient_info_path=None):\n",
    "    with torch.no_grad():\n",
    "       \n",
    "\n",
    "        PPG_preds = None\n",
    "        PPG_pred_probs = None\n",
    "        all_targets = None\n",
    "        \n",
    "        PPG_model.eval()\n",
    "        tstart = datetime.now()\n",
    "\n",
    "        for batch_idx, (PPG, target) in enumerate(test_loader):\n",
    "\n",
    "            PPG = PPG.cuda().float()\n",
    "            target = target.cuda().long()\n",
    "            \n",
    "            _, PPG_out = PPG_model(PPG)\n",
    "\n",
    "            PPG_predicted = PPG_out.argmax(1)\n",
    "            PPG_predicted_prob = F.softmax(PPG_out, dim=1)[:, 1]\n",
    "\n",
    "            if PPG_preds == None:\n",
    "                PPG_pred_probs = PPG_predicted_prob\n",
    "                PPG_preds = PPG_predicted\n",
    "                all_targets = target\n",
    "            else:\n",
    "                PPG_preds = torch.cat((PPG_preds, PPG_predicted))\n",
    "                PPG_pred_probs = torch.cat((PPG_pred_probs, PPG_predicted_prob))\n",
    "                all_targets = torch.cat((all_targets, target))\n",
    "        tend = datetime.now()\n",
    "\n",
    "        precision, recall, thresholds = precision_recall_curve(all_targets.detach().cpu().numpy(), PPG_pred_probs.detach().cpu().numpy())\n",
    "        pr_auc = auc(recall, precision)\n",
    "\n",
    "        print(f'[TEST] \\tPPG      F1: {round(f1_score(all_targets.detach().cpu().numpy(), PPG_preds.detach().cpu().numpy()), 4)}')\n",
    "        print(f'[TEST] \\tPPG ROC AUC: {round(roc_auc_score(all_targets.detach().cpu().numpy(), PPG_pred_probs.detach().cpu().numpy()), 4)}')\n",
    "        print(f'[TEST] \\tPPG PR  AUC: {round(pr_auc, 4)}')\n",
    "        \n",
    "        rounding = 3\n",
    "        if patient_info_path is not None:\n",
    "            print(patient_info_path)\n",
    "            patient_idx_dict = pkl.load(open(patient_info_path, 'rb'))\n",
    "            unique_patients = list(patient_idx_dict.keys())\n",
    "            all_bt_aurocs = []\n",
    "            all_bt_auprcs = []\n",
    "            all_bt_pred_probs = np.asarray([])\n",
    "            all_bt_targets = np.asarray([])\n",
    "            for i in tqdm(range(1000)):\n",
    "                np.random.seed(i)\n",
    "                random_sample_patients = np.random.choice(unique_patients, len(unique_patients), replace=True)\n",
    "                sample_idx = []\n",
    "                random_subsample_idx = []\n",
    "                for patient in random_sample_patients:\n",
    "                    random_subsample_idx += patient_idx_dict[patient]\n",
    "                random_subsample_idx = np.asarray(random_subsample_idx)\n",
    "                auroc = roc_auc_score(all_targets[random_subsample_idx].detach().cpu().numpy(), PPG_pred_probs[random_subsample_idx].detach().cpu().numpy())\n",
    "                precision, recall, thresholds = precision_recall_curve(all_targets[random_subsample_idx].detach().cpu().numpy(), PPG_pred_probs[random_subsample_idx].detach().cpu().numpy())\n",
    "                auprc = auc(recall, precision)\n",
    "\n",
    "                all_bt_pred_probs = np.concatenate((PPG_pred_probs[random_subsample_idx].detach().cpu().numpy().flatten(), all_bt_pred_probs))\n",
    "                all_bt_targets = np.concatenate((all_targets[random_subsample_idx].detach().cpu().numpy().flatten(), all_bt_targets))\n",
    "                all_bt_aurocs.append(auroc)\n",
    "                all_bt_auprcs.append(auprc)\n",
    "            all_bt_aurocs = np.asarray(all_bt_aurocs)\n",
    "            all_bt_auprcs = np.asarray(all_bt_auprcs)\n",
    "                        \n",
    "            np.save(f'/labs/hulab/stark_stuff/ppg_ecg_project/data/{test_ds_name}_ecgonly_aurocs.npy', all_bt_aurocs)\n",
    "            np.save(f'/labs/hulab/stark_stuff/ppg_ecg_project/data/{test_ds_name}_ecgonly_auprcs.npy', all_bt_auprcs)\n",
    "            np.save(f'/labs/hulab/stark_stuff/ppg_ecg_project/data/{test_ds_name}_ecgonly_targets.npy', all_bt_targets)\n",
    "            np.save(f'/labs/hulab/stark_stuff/ppg_ecg_project/data/{test_ds_name}_ecgonly_pred_probs.npy', all_bt_pred_probs)\n",
    "\n",
    "            print(f'\\t AUROC {round(np.mean(all_bt_aurocs), rounding)} [{round(np.mean(all_bt_aurocs) - 1.96 *  (np.std(all_bt_aurocs) / np.sqrt(len(all_bt_aurocs))) , rounding)} {round(np.mean(all_bt_aurocs) + 1.96 *  (np.std(all_bt_aurocs) / np.sqrt(len(all_bt_aurocs))) , rounding)}]')\n",
    "            print(f'\\t AUPRC {round(np.mean(all_bt_auprcs), rounding)} [{round(np.mean(all_bt_auprcs) - 1.96 *  (np.std(all_bt_auprcs) / np.sqrt(len(all_bt_auprcs))) , rounding)} {round(np.mean(all_bt_auprcs) + 1.96 *  (np.std(all_bt_auprcs) / np.sqrt(len(all_bt_auprcs))) , rounding)}]')\n"
   ]
  },
  {
   "cell_type": "code",
   "execution_count": 3,
   "id": "7e4bfa31",
   "metadata": {},
   "outputs": [],
   "source": [
    "# MODEL_PATH = '/home/zguo30/ppg_ecg_proj/ppg_only_baseline/saved_models/corrected_res34_epoch_30_ppglr_0.0001_lambda_0.9/PPG_best_2.pt'\n",
    "# MODEL_PATH = '/home/zguo30/ppg_ecg_proj/ppg_only_baseline/saved_models/epoch_40_ppglr_0.0001_lambda_0.9/PPG_best_0.pt'\n",
    "# MODEL_PATH = '/home/zguo30/ppg_ecg_proj/ppg_only_baseline/saved_models/corrected_res34_epoch_30_ppglr_0.0001_lambda_0.9_bs=2500/PPG_best_2.pt'\n",
    "MODEL_PATH = '/home/zguo30/ppg_ecg_proj/ecg_only_baseline/saved_models/corrected_epoch_30_ecglr_0.0001_lambda_0.9/ECG_best_5.pt'\n",
    "state_dict = torch.load(MODEL_PATH) "
   ]
  },
  {
   "cell_type": "code",
   "execution_count": 4,
   "id": "a09ab1f2",
   "metadata": {},
   "outputs": [],
   "source": [
    "# new_state_dict = OrderedDict()\n",
    "# for k, v in state_dict.items():\n",
    "#     name = k[7:] #remove 'module'\n",
    "#     new_state_dict[name] = v\n",
    "    \n",
    "# state_dict = new_state_dict"
   ]
  },
  {
   "cell_type": "code",
   "execution_count": 5,
   "id": "28a08dbc",
   "metadata": {},
   "outputs": [
    {
     "data": {
      "text/plain": [
       "<All keys matched successfully>"
      ]
     },
     "execution_count": 5,
     "metadata": {},
     "output_type": "execute_result"
    }
   ],
   "source": [
    "model = Resnet34().cuda()\n",
    "model.load_state_dict(state_dict)"
   ]
  },
  {
   "cell_type": "code",
   "execution_count": null,
   "id": "332b625f",
   "metadata": {
    "scrolled": false
   },
   "outputs": [
    {
     "name": "stdout",
     "output_type": "stream",
     "text": [
      "data_simband_ecg_2400\n",
      "/labs/hulab/Robust_learning_TESTDATA/data_simband_ecg_2400.npy\n",
      "/labs/hulab/Robust_learning_TESTDATA/label_simband.npy\n",
      "[TEST] \tPPG      F1: 0.6301\n",
      "[TEST] \tPPG ROC AUC: 0.7255\n",
      "[TEST] \tPPG PR  AUC: 0.6229\n",
      "/labs/hulab/Robust_learning_TESTDATA/simband_patient_idx_dict.pkl\n"
     ]
    },
    {
     "name": "stderr",
     "output_type": "stream",
     "text": [
      "100%|██████████| 1000/1000 [00:03<00:00, 271.27it/s]\n"
     ]
    },
    {
     "name": "stdout",
     "output_type": "stream",
     "text": [
      "\t AUROC 0.724 [0.722 0.726]\n",
      "\t AUPRC 0.621 [0.617 0.625]\n",
      "\n",
      "data_simband_ppg_2400\n",
      "/labs/hulab/Robust_learning_TESTDATA/data_simband_ppg_2400.npy\n",
      "/labs/hulab/Robust_learning_TESTDATA/label_simband.npy\n",
      "data_ucla_ecg_2400\n",
      "/labs/hulab/Robust_learning_TESTDATA/data_ucla_ecg_2400.npy\n",
      "/labs/hulab/Robust_learning_TESTDATA/label_ucla_ecg.npy\n",
      "[TEST] \tPPG      F1: 0.706\n",
      "[TEST] \tPPG ROC AUC: 0.8889\n",
      "[TEST] \tPPG PR  AUC: 0.7306\n",
      "/labs/hulab/Robust_learning_TESTDATA/UCLA_patient_idx_dict.pkl\n"
     ]
    },
    {
     "name": "stderr",
     "output_type": "stream",
     "text": [
      " 92%|█████████▏| 921/1000 [12:43<01:58,  1.50s/it]"
     ]
    }
   ],
   "source": [
    "testing_data_label_pairs = [\n",
    "    ['data_simband_ecg_2400.npy', 'label_simband.npy', '/labs/hulab/Robust_learning_TESTDATA/simband_patient_idx_dict.pkl'],\n",
    "    ['data_simband_ppg_2400.npy', 'label_simband.npy', '/labs/hulab/Robust_learning_TESTDATA/simband_patient_idx_dict.pkl'],\n",
    "    ['data_ucla_ecg_2400.npy', 'label_ucla_ecg.npy', '/labs/hulab/Robust_learning_TESTDATA/UCLA_patient_idx_dict.pkl'],\n",
    "    ['data_ucla_ppg_2400.npy', 'label_ucla_ppg.npy', '/labs/hulab/Robust_learning_TESTDATA/UCLA_patient_idx_dict.pkl'],\n",
    "    ['data_staford_2400.npy', 'label_staford.npy', '/labs/hulab/Robust_learning_TESTDATA/stanford_patient_idx_dict.pkl'],\n",
    "#     ['data_staford_goodquality_2400.npy', 'label_staford_goodquality.npy', '/labs/hulab/Robust_learning_TESTDATA/stanford_patient_idx_dict.pkl'],\n",
    "#     ['data_staford_badquality_2400.npy', 'label_staford_badquality.npy', '/labs/hulab/Robust_learning_TESTDATA/stanford_patient_idx_dict.pkl']\n",
    "]\n",
    "\n",
    "test_data_folder = '/labs/hulab/Robust_learning_TESTDATA/'\n",
    "for pair in testing_data_label_pairs:\n",
    "    \n",
    "    print(pair[0].split('.')[0].split('/')[-1])\n",
    "    \n",
    "    x_path = test_data_folder + pair[0]\n",
    "    y_path = test_data_folder + pair[1]\n",
    "\n",
    "    print(x_path)\n",
    "    print(y_path)\n",
    "    test_dataset = Dataset_ori(x_path, y_path)\n",
    "    if 'ecg' in pair[0]:\n",
    "    #     x = np.load(x_path)\n",
    "    #     y = np.load(y_path)\n",
    "    #     print(np.max(x), np.min(x))\n",
    "\n",
    "    #     print(x.shape, y.shape)\n",
    "\n",
    "        testloader = DataLoader(test_dataset, batch_size=2500, shuffle=False, num_workers=0)\n",
    "\n",
    "        test_epoch(model, testloader, pair[0].split('.')[0], patient_info_path=pair[2] if len(pair)==3 else None)\n",
    "\n",
    "        print()"
   ]
  },
  {
   "cell_type": "code",
   "execution_count": null,
   "id": "3f9d08d3",
   "metadata": {},
   "outputs": [],
   "source": []
  }
 ],
 "metadata": {
  "kernelspec": {
   "display_name": "base_pytorch",
   "language": "python",
   "name": "base_pytorch"
  },
  "language_info": {
   "codemirror_mode": {
    "name": "ipython",
    "version": 3
   },
   "file_extension": ".py",
   "mimetype": "text/x-python",
   "name": "python",
   "nbconvert_exporter": "python",
   "pygments_lexer": "ipython3",
   "version": "3.7.13"
  }
 },
 "nbformat": 4,
 "nbformat_minor": 5
}
